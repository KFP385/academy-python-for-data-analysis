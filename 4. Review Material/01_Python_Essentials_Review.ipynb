{
 "cells": [
  {
   "cell_type": "markdown",
   "metadata": {},
   "source": [
    "<img src='images/gdd-logo.png' width='300px' align='right' style=\"padding: 15px\">\n",
    "\n",
    "\n",
    "# Python Essentials Review\n",
    "\n",
    "To work with Python in any field, you have to have a good handle on some of the essentials of Python. This notebook reviews these essentials. \n",
    "\n",
    "There are three topics covered:\n",
    "\n",
    "- [Data Types](#data-types)\n",
    "- [Lists](#list)\n",
    "- [Comprehensions](#comp)\n",
    "- [Functions](#func)\n",
    "\n",
    "There are more topics that can help you be a very strong Python user, therefore this list is not exhaustive but it is a good start.\n",
    "\n",
    "Throughout this notebooks there are exercises where the number of stars denotes the level of difficulty (more stars = more difficult)."
   ]
  },
  {
   "cell_type": "markdown",
   "metadata": {},
   "source": [
    "----\n",
    "<a id = 'data-types'></a>\n",
    "\n",
    "# Data Types\n",
    "\n",
    "Below are four variables, what four built-in data types do we have here? \n",
    "\n",
    "Hint: We can use the `type()` function to find this out."
   ]
  },
  {
   "cell_type": "code",
   "execution_count": null,
   "metadata": {},
   "outputs": [],
   "source": [
    "var1 = -13\n",
    "var2 = 45.\n",
    "var3 = \"123\"\n",
    "var4 = False"
   ]
  },
  {
   "cell_type": "code",
   "execution_count": null,
   "metadata": {},
   "outputs": [],
   "source": [
    "type(var1)"
   ]
  },
  {
   "cell_type": "raw",
   "metadata": {},
   "source": [
    "The type of var1 is...\n",
    "The type of var2 is...\n",
    "The type of var3 is...\n",
    "The type of var4 is..."
   ]
  },
  {
   "cell_type": "markdown",
   "metadata": {},
   "source": [
    "Some important things to know:\n",
    "\n",
    "- We can convert between types calling their respective functions. \n",
    "```python\n",
    "string_type = str(other_type)\n",
    "int_type = int(other_type)\n",
    "float_type = float(other_type)\n",
    "bool_type = bool(other_type)\n",
    "```\n",
    "\n",
    "*Note: not all will work (eg. `float('I am not a float')`)*"
   ]
  },
  {
   "cell_type": "code",
   "execution_count": null,
   "metadata": {},
   "outputs": [],
   "source": [
    "str(5.6)"
   ]
  },
  {
   "cell_type": "code",
   "execution_count": null,
   "metadata": {},
   "outputs": [],
   "source": [
    "int('54')"
   ]
  },
  {
   "cell_type": "markdown",
   "metadata": {},
   "source": [
    "- Adding or multiplying a string will cause weird results:"
   ]
  },
  {
   "cell_type": "code",
   "execution_count": null,
   "metadata": {},
   "outputs": [],
   "source": [
    "\"Hello\"*3"
   ]
  },
  {
   "cell_type": "code",
   "execution_count": null,
   "metadata": {},
   "outputs": [],
   "source": [
    "\"first name\" + \"last name\""
   ]
  },
  {
   "cell_type": "markdown",
   "metadata": {},
   "source": [
    "- `f-strings` (formatted-strings) are very powerful, try changing the variables `name` and `age` and see what happens."
   ]
  },
  {
   "cell_type": "code",
   "execution_count": null,
   "metadata": {},
   "outputs": [],
   "source": [
    "name = \"Jared\"\n",
    "age = 19\n",
    "f\"Hello I am called {name} and I am {age} years old\""
   ]
  },
  {
   "cell_type": "markdown",
   "metadata": {},
   "source": [
    "Methods are functions that are bound to objects. For example here are some string methods:"
   ]
  },
  {
   "cell_type": "code",
   "execution_count": null,
   "metadata": {},
   "outputs": [],
   "source": [
    "\"It's my birthday and today I turn 45 today\".replace(\"45 today\", \"21. Always 21.\")"
   ]
  },
  {
   "cell_type": "code",
   "execution_count": null,
   "metadata": {},
   "outputs": [],
   "source": [
    "\"I want to shout\".upper() + \"!!!\""
   ]
  },
  {
   "cell_type": "markdown",
   "metadata": {},
   "source": [
    "## Data Types Exercise\n",
    "\n",
    "Let's learn about modern field hockey! Here are some facts:\n",
    "\n",
    "- The Hockey Association was formed 18th January 1886\n",
    "- There are 10 field players and 1 goalie\n",
    "- Hockey was originally called shinty"
   ]
  },
  {
   "cell_type": "code",
   "execution_count": null,
   "metadata": {},
   "outputs": [],
   "source": [
    "players = 11\n",
    "shoes_per_player = 2.\n",
    "weight_per_player = 83.27\n",
    "\n",
    "name_of_sport = 'MODERN FIELD HOCKEY'\n",
    "\n",
    "birth_year = '1886'\n",
    "is_birthday = False"
   ]
  },
  {
   "cell_type": "markdown",
   "metadata": {},
   "source": [
    "Use the above variables to complete the following:"
   ]
  },
  {
   "cell_type": "markdown",
   "metadata": {},
   "source": [
    "1. ⭐ Find the total the total weight of the team & number of shoes on the pitch in any one match."
   ]
  },
  {
   "cell_type": "code",
   "execution_count": null,
   "metadata": {},
   "outputs": [],
   "source": []
  },
  {
   "cell_type": "markdown",
   "metadata": {},
   "source": [
    "2. ⭐ Change the name of the sport to `Modern Field Shinty`.\n",
    "\n",
    "Hint: Remember you can see all string methods by typing `str.` and hitting tab:\n",
    "```python\n",
    "str.<tab>\n",
    "```"
   ]
  },
  {
   "cell_type": "code",
   "execution_count": null,
   "metadata": {},
   "outputs": [],
   "source": []
  },
  {
   "cell_type": "markdown",
   "metadata": {},
   "source": [
    "3. ⭐⭐ Find out how many years modern field hockey has been around.\n",
    "\n",
    "Bonus: Use the [datetime](https://docs.python.org/3/library/datetime.html#datetime.datetime.now) library to get the year it is now."
   ]
  },
  {
   "cell_type": "code",
   "execution_count": null,
   "metadata": {},
   "outputs": [],
   "source": []
  },
  {
   "cell_type": "markdown",
   "metadata": {},
   "source": [
    "4. ⭐⭐ Print out a statement using the variables above that says: `Modern Field Shinty has been around since 1886. That's [num_of_years] years!`"
   ]
  },
  {
   "cell_type": "code",
   "execution_count": null,
   "metadata": {},
   "outputs": [],
   "source": []
  },
  {
   "cell_type": "markdown",
   "metadata": {},
   "source": [
    "**Answers**\n",
    "\n",
    "Uncomment (remove the `#`) and run the cells below to see answers:"
   ]
  },
  {
   "cell_type": "code",
   "execution_count": null,
   "metadata": {},
   "outputs": [],
   "source": [
    "# %load answers/python-essentials/ex-data-types-1.py"
   ]
  },
  {
   "cell_type": "code",
   "execution_count": null,
   "metadata": {},
   "outputs": [],
   "source": [
    "# %load answers/python-essentials/ex-data-types-2.py"
   ]
  },
  {
   "cell_type": "code",
   "execution_count": null,
   "metadata": {},
   "outputs": [],
   "source": [
    "# %load answers/python-essentials/ex-data-types-3.py"
   ]
  },
  {
   "cell_type": "code",
   "execution_count": null,
   "metadata": {},
   "outputs": [],
   "source": [
    "# %load answers/python-essentials/ex-data-types-4.py"
   ]
  },
  {
   "cell_type": "markdown",
   "metadata": {},
   "source": [
    "---\n",
    "<a id = 'list'></a>\n",
    "\n",
    "# Lists\n",
    "\n",
    "Key things to know about lists:\n",
    "\n",
    "- Lists are indexed (starting from zero)\n",
    "- Lists can be sliced using the square brackets eg. `my_list[:4]`\n",
    "\n",
    "Here are some examples:"
   ]
  },
  {
   "cell_type": "code",
   "execution_count": null,
   "metadata": {},
   "outputs": [],
   "source": [
    "alphabet_list = ['a', 'b', 'c', 'd', 'e', 'f', 'g', 'h', 'i', \n",
    "           'j', 'k', 'l', 'm', 'n', 'o', 'p', 'q', 'r', \n",
    "           's', 't', 'u', 'v', 'w', 'x', 'y', 'z']\n",
    "print(alphabet_list)"
   ]
  },
  {
   "cell_type": "markdown",
   "metadata": {},
   "source": [
    "1. Get the 1st and 13th letter of the alphabet (letters `'a'` and `'m'`):"
   ]
  },
  {
   "cell_type": "code",
   "execution_count": null,
   "metadata": {},
   "outputs": [],
   "source": [
    "alphabet_list[0], alphabet_list[12]"
   ]
  },
  {
   "cell_type": "markdown",
   "metadata": {},
   "source": [
    "2. Get the last 3 letters of the alphabet"
   ]
  },
  {
   "cell_type": "code",
   "execution_count": null,
   "metadata": {},
   "outputs": [],
   "source": [
    "alphabet_list[-3:]"
   ]
  },
  {
   "cell_type": "markdown",
   "metadata": {},
   "source": [
    "3. Print out the middle 6 letters in uppercase"
   ]
  },
  {
   "cell_type": "code",
   "execution_count": null,
   "metadata": {},
   "outputs": [],
   "source": [
    "for letter in alphabet_list[10:16]:\n",
    "    print(letter.upper())"
   ]
  },
  {
   "cell_type": "markdown",
   "metadata": {},
   "source": [
    "## List Exercises\n",
    "\n",
    "Here is a list of shopping ingredients. "
   ]
  },
  {
   "cell_type": "code",
   "execution_count": null,
   "metadata": {},
   "outputs": [],
   "source": [
    "shopping_list = ['bananas', 'limes', 'strawberries', 'raspberries', \n",
    "                 'courgettes', 'pineapple', 'milk', 'eggs']"
   ]
  },
  {
   "cell_type": "markdown",
   "metadata": {},
   "source": [
    "Write python code that will do the following:"
   ]
  },
  {
   "cell_type": "markdown",
   "metadata": {},
   "source": [
    "1. ⭐ Select the 6th item (so you end up with `'pineapple'`)"
   ]
  },
  {
   "cell_type": "code",
   "execution_count": null,
   "metadata": {},
   "outputs": [],
   "source": []
  },
  {
   "cell_type": "markdown",
   "metadata": {},
   "source": [
    "2. ⭐ Select the first 4 items from the list"
   ]
  },
  {
   "cell_type": "code",
   "execution_count": null,
   "metadata": {},
   "outputs": [],
   "source": []
  },
  {
   "cell_type": "markdown",
   "metadata": {},
   "source": [
    "3. ⭐⭐ Select the middle 4 items (so you end up with `['strawberries', 'raspberries', 'courgette', 'pineapple']`"
   ]
  },
  {
   "cell_type": "code",
   "execution_count": null,
   "metadata": {},
   "outputs": [],
   "source": []
  },
  {
   "cell_type": "markdown",
   "metadata": {},
   "source": [
    "4. ⭐⭐⭐ Loop through the list and count how many words begin with a vowel (`aeiou`)"
   ]
  },
  {
   "cell_type": "code",
   "execution_count": null,
   "metadata": {},
   "outputs": [],
   "source": []
  },
  {
   "cell_type": "markdown",
   "metadata": {},
   "source": [
    "5. ⭐⭐⭐ The store puts food in alphabetical order. What are the first three items that I will pick up? **Do not change the original list**\n",
    "\n",
    "[Hint](https://realpython.com/python-sort/#ordering-values-with-sorted)"
   ]
  },
  {
   "cell_type": "code",
   "execution_count": null,
   "metadata": {},
   "outputs": [],
   "source": []
  },
  {
   "cell_type": "markdown",
   "metadata": {},
   "source": [
    "6. ⭐⭐⭐ Here is a list of the amount of each item that I want. On average (mean) how many of each item am I going to buy?\n",
    "\n",
    "Hint: Mean is the sum of all items divided by the total number of items."
   ]
  },
  {
   "cell_type": "code",
   "execution_count": null,
   "metadata": {},
   "outputs": [],
   "source": [
    "num_of_each_item = [5, 8, 18, 12, 2, 1, 3, 6]"
   ]
  },
  {
   "cell_type": "code",
   "execution_count": null,
   "metadata": {},
   "outputs": [],
   "source": []
  },
  {
   "cell_type": "markdown",
   "metadata": {},
   "source": [
    "7. ⭐⭐⭐⭐ Using both lists, find out which item I will buy the most. Print the item and how many times I will buy it. \n",
    "\n",
    "Eg. `\"I will buy 25 apricots.\"`\n",
    "\n",
    "[Hint](https://www.programiz.com/python-programming/methods/list/index): find the max of `num_of_each_item` first."
   ]
  },
  {
   "cell_type": "code",
   "execution_count": null,
   "metadata": {},
   "outputs": [],
   "source": []
  },
  {
   "cell_type": "markdown",
   "metadata": {},
   "source": [
    "**Answers**"
   ]
  },
  {
   "cell_type": "code",
   "execution_count": null,
   "metadata": {},
   "outputs": [],
   "source": [
    "# %load answers/python-essentials/ex-list-1.py"
   ]
  },
  {
   "cell_type": "code",
   "execution_count": null,
   "metadata": {},
   "outputs": [],
   "source": [
    "# %load answers/python-essentials/ex-list-2.py"
   ]
  },
  {
   "cell_type": "code",
   "execution_count": null,
   "metadata": {},
   "outputs": [],
   "source": [
    "# %load answers/python-essentials/ex-list-3.py"
   ]
  },
  {
   "cell_type": "code",
   "execution_count": null,
   "metadata": {},
   "outputs": [],
   "source": [
    "# %load answers/python-essentials/ex-list-4.py"
   ]
  },
  {
   "cell_type": "code",
   "execution_count": null,
   "metadata": {},
   "outputs": [],
   "source": [
    "# %load answers/python-essentials/ex-list-5.py"
   ]
  },
  {
   "cell_type": "code",
   "execution_count": null,
   "metadata": {},
   "outputs": [],
   "source": [
    "# %load answers/python-essentials/ex-list-6.py"
   ]
  },
  {
   "cell_type": "code",
   "execution_count": null,
   "metadata": {},
   "outputs": [],
   "source": [
    "# %load answers/python-essentials/ex-list-7.py"
   ]
  },
  {
   "cell_type": "markdown",
   "metadata": {},
   "source": [
    "--- \n",
    "<a id = 'comp'></a>\n",
    "\n",
    "# Comprehensions\n",
    "\n",
    "In the last exercise we needed to loop through the list to count up the amount of times a vowel appeared. We can do this using a for loop, or we can make it more efficient, in terms of amount of code as well as speed, by using a comprehension.\n",
    "\n",
    "We will practice using comprehensions with both lists and dictionaries. Here are two simple examples:\n",
    "\n",
    "**Comprehension through an existing list**"
   ]
  },
  {
   "cell_type": "code",
   "execution_count": null,
   "metadata": {},
   "outputs": [],
   "source": [
    "the_90s = list(range(1990, 2000))\n",
    "the_90s"
   ]
  },
  {
   "cell_type": "code",
   "execution_count": null,
   "metadata": {},
   "outputs": [],
   "source": [
    "leap_years = [year for year in the_90s if year % 4 == 0]\n",
    "leap_years"
   ]
  },
  {
   "cell_type": "markdown",
   "metadata": {},
   "source": [
    "**Comprehension through characters in a string**"
   ]
  },
  {
   "cell_type": "code",
   "execution_count": null,
   "metadata": {},
   "outputs": [],
   "source": [
    "string = \"Nobody expects the Spanish Inquisition! \\\n",
    "Our chief weapon is surprise...\\\n",
    "surprise and fear... \\\n",
    "fear and surprise....\"\n",
    "\n",
    "[char for char in string if char.isupper()]"
   ]
  },
  {
   "cell_type": "markdown",
   "metadata": {},
   "source": [
    "## Exercises - List Comprehensions\n",
    "\n",
    "You will need the following variables:"
   ]
  },
  {
   "cell_type": "code",
   "execution_count": null,
   "metadata": {},
   "outputs": [],
   "source": [
    "num_list = list(range(1,1001))\n",
    "string = \"Let's practice with comprehensions. Shall we?\""
   ]
  },
  {
   "cell_type": "markdown",
   "metadata": {},
   "source": [
    "1. ⭐ Create a new list with all of the numbers from 1–1000 that are divisible by 8"
   ]
  },
  {
   "cell_type": "code",
   "execution_count": null,
   "metadata": {},
   "outputs": [],
   "source": []
  },
  {
   "cell_type": "markdown",
   "metadata": {},
   "source": [
    "2. ⭐⭐ Create a new list with  all of the numbers from 1–1000 that have a 6 in them\n",
    "\n",
    "Hint: To check if an integer has a number, you must convert it to a string. Eg. `'1' in str(123)`"
   ]
  },
  {
   "cell_type": "code",
   "execution_count": null,
   "metadata": {},
   "outputs": [],
   "source": []
  },
  {
   "cell_type": "markdown",
   "metadata": {},
   "source": [
    "3. ⭐⭐ Count the number of capital letters in the string\n",
    "\n",
    "[Hint](https://www.geeksforgeeks.org/python-count-strings-with-substring-string-list/#:~:text=Method%20%231%20%3A%20Using%20list%20comprehension%20%2B%20len()): Make a list of them first, then use a function to count them up!"
   ]
  },
  {
   "cell_type": "code",
   "execution_count": null,
   "metadata": {},
   "outputs": [],
   "source": []
  },
  {
   "cell_type": "markdown",
   "metadata": {},
   "source": [
    "4. ⭐⭐ Remove all of the vowels in a string (use string above)\n",
    "\n",
    "[Hint](https://stackoverflow.com/a/12453584): Use a list comprehension to make a list of all the consonants first. Then use the `str.join()` method."
   ]
  },
  {
   "cell_type": "code",
   "execution_count": null,
   "metadata": {},
   "outputs": [],
   "source": []
  },
  {
   "cell_type": "markdown",
   "metadata": {},
   "source": [
    "**Answers**"
   ]
  },
  {
   "cell_type": "code",
   "execution_count": null,
   "metadata": {},
   "outputs": [],
   "source": [
    "# %load answers/python-essentials/ex-comp-1.py"
   ]
  },
  {
   "cell_type": "code",
   "execution_count": null,
   "metadata": {},
   "outputs": [],
   "source": [
    "# %load answers/python-essentials/ex-comp-2.py"
   ]
  },
  {
   "cell_type": "code",
   "execution_count": null,
   "metadata": {},
   "outputs": [],
   "source": [
    "# %load answers/python-essentials/ex-comp-3.py"
   ]
  },
  {
   "cell_type": "code",
   "execution_count": null,
   "metadata": {},
   "outputs": [],
   "source": [
    "# %load answers/python-essentials/ex-comp-4.py"
   ]
  },
  {
   "cell_type": "markdown",
   "metadata": {},
   "source": [
    "----\n",
    "<a id ='func'></a>\n",
    "\n",
    "# Functions\n",
    "\n",
    "A function is a block of code which only runs when it is called. You can pass data, known as parameters, into a function. A function can return data as a result.\n",
    "\n",
    "In Python a function is defined using the `def` keyword. Use a return statement if you want the function to **return a value**. "
   ]
  },
  {
   "cell_type": "markdown",
   "metadata": {},
   "source": [
    "Examples:"
   ]
  },
  {
   "cell_type": "markdown",
   "metadata": {},
   "source": [
    "1. Create a function that adds two numbers together"
   ]
  },
  {
   "cell_type": "code",
   "execution_count": null,
   "metadata": {
    "lines_to_next_cell": 2
   },
   "outputs": [],
   "source": [
    "def add_two_numbers(num1, num2):\n",
    "    return num1 + num2\n",
    "\n",
    "add_two_numbers(5, 6)"
   ]
  },
  {
   "cell_type": "markdown",
   "metadata": {},
   "source": [
    "2. Create a function that returns the number of uppercase and lowercase case characters in a given string"
   ]
  },
  {
   "cell_type": "code",
   "execution_count": null,
   "metadata": {
    "lines_to_next_cell": 2
   },
   "outputs": [],
   "source": [
    "def count_upper_lower(string='The quick Brown Fox'):\n",
    "    \"\"\"\n",
    "    Takes a string and returns the number of upper and lower case characters present\n",
    "    \n",
    "    Parameters\n",
    "    -----------\n",
    "    string: str\n",
    "        input string, default = \"The quick Brown Fox\"\n",
    "        \n",
    "    Returns\n",
    "    -------\n",
    "    tuple of the integers\n",
    "        number of uppercase and lowercase characters (uppers, lowers)\n",
    "    \"\"\"\n",
    "    uppers = [char for char in string if char.isupper()]\n",
    "    lowers = [char for char in string if char.islower()]\n",
    "    return len(uppers), len(lowers)\n",
    "\n",
    "count_upper_lower()"
   ]
  },
  {
   "cell_type": "markdown",
   "metadata": {},
   "source": [
    "### Calling help on a function\n",
    "\n",
    "**You can use call** `help()` **or access the** `__doc__` **attribute on any function to see the docstring**:"
   ]
  },
  {
   "cell_type": "code",
   "execution_count": null,
   "metadata": {
    "scrolled": true
   },
   "outputs": [],
   "source": [
    "help(count_upper_lower)"
   ]
  },
  {
   "cell_type": "code",
   "execution_count": null,
   "metadata": {},
   "outputs": [],
   "source": [
    "print(count_upper_lower.__doc__)"
   ]
  },
  {
   "cell_type": "markdown",
   "metadata": {},
   "source": [
    "**Alternatively, but only in interactive Python, you can use a question mark or hit shift+TAB to see this:**"
   ]
  },
  {
   "cell_type": "code",
   "execution_count": null,
   "metadata": {},
   "outputs": [],
   "source": [
    "count_upper_lower?"
   ]
  },
  {
   "cell_type": "code",
   "execution_count": null,
   "metadata": {},
   "outputs": [],
   "source": [
    "count_upper_lower"
   ]
  },
  {
   "cell_type": "markdown",
   "metadata": {},
   "source": [
    "## Exercises: Build your own functions\n",
    "\n",
    "You are going to perform some analysis on the file `pride.txt` (the first chapter of Pride and Prejudice)\n",
    "\n",
    "Here is the file, it is a string:"
   ]
  },
  {
   "cell_type": "code",
   "execution_count": null,
   "metadata": {},
   "outputs": [],
   "source": [
    "with open('data/pride.txt') as f:\n",
    "    pride = f.read()\n",
    "print(pride[:117])"
   ]
  },
  {
   "cell_type": "markdown",
   "metadata": {},
   "source": [
    "For each question, write the function for any string and test it with `pride.txt`. You can check that your function works by the *hints* given in each question."
   ]
  },
  {
   "cell_type": "markdown",
   "metadata": {},
   "source": [
    "1. ⭐ Write a function that counts how many words there are in a string:\n",
    "\n",
    "*Hint: Number of words in `pride`: 855*"
   ]
  },
  {
   "cell_type": "code",
   "execution_count": null,
   "metadata": {},
   "outputs": [],
   "source": []
  },
  {
   "cell_type": "markdown",
   "metadata": {},
   "source": [
    "2. ⭐⭐ Counts the amount of times a specified name appears. The main name in Pride and Prejudice is `'Bennet'`... use this as a default parameter.\n",
    "\n",
    "*Hint: `'Bennet'` appears 6 times in `pride`*"
   ]
  },
  {
   "cell_type": "code",
   "execution_count": null,
   "metadata": {},
   "outputs": [],
   "source": []
  },
  {
   "cell_type": "markdown",
   "metadata": {},
   "source": [
    "3. ⭐⭐⭐ Calculates the average (mean) number of words per sentence.\n",
    "\n",
    "Note: You will need to account for the titles of the names ending with periods (`.`) and for sentences that end with `?` or `!`.\n",
    "- Replace `Mr.` and `Mrs.` with `Mr` and `Mrs`\n",
    "- Replace `?` and `!` with `.`\n",
    "\n",
    "*Hint: There are 15.5 words per sentence on average.*"
   ]
  },
  {
   "cell_type": "code",
   "execution_count": null,
   "metadata": {},
   "outputs": [],
   "source": []
  },
  {
   "cell_type": "markdown",
   "metadata": {},
   "source": [
    "4. ⭐⭐⭐⭐ **Challenge:** Create a function that prints out a report of all the things you have found out about the first chapter of Pride and Prejudice \n",
    "\n",
    "*Hint: Your report should say:*\n",
    "\n",
    "    The name of the book in Pride and Prejudice\n",
    "\n",
    "    The first chapter has 855 words\n",
    "    Of these 6 of these are the word 'Bennet'\n",
    "    Each sentence has 15.5 words on average"
   ]
  },
  {
   "cell_type": "code",
   "execution_count": null,
   "metadata": {},
   "outputs": [],
   "source": []
  },
  {
   "cell_type": "markdown",
   "metadata": {},
   "source": [
    "**Answers**"
   ]
  },
  {
   "cell_type": "code",
   "execution_count": null,
   "metadata": {},
   "outputs": [],
   "source": [
    "# %load answers/python-essentials/ex-func-1.py"
   ]
  },
  {
   "cell_type": "code",
   "execution_count": null,
   "metadata": {},
   "outputs": [],
   "source": [
    "# %load answers/python-essentials/ex-func-2.py"
   ]
  },
  {
   "cell_type": "code",
   "execution_count": null,
   "metadata": {},
   "outputs": [],
   "source": [
    "# %load answers/python-essentials/ex-func-3.py"
   ]
  },
  {
   "cell_type": "code",
   "execution_count": null,
   "metadata": {},
   "outputs": [],
   "source": [
    "# %load answers/python-essentials/ex-func-4.py"
   ]
  }
 ],
 "metadata": {
  "kernelspec": {
   "display_name": "Python 3 (ipykernel)",
   "language": "python",
   "name": "python3"
  },
  "language_info": {
   "codemirror_mode": {
    "name": "ipython",
    "version": 3
   },
   "file_extension": ".py",
   "mimetype": "text/x-python",
   "name": "python",
   "nbconvert_exporter": "python",
   "pygments_lexer": "ipython3",
   "version": "3.11.8"
  }
 },
 "nbformat": 4,
 "nbformat_minor": 4
}
