{
 "cells": [
  {
   "cell_type": "markdown",
   "id": "1d59d4db",
   "metadata": {},
   "source": [
    "<img src='images/python.png' width='300px' align=left>\n",
    "<img src='images/gdd-logo.png' width='200px' align='right' style=\"padding: 15px\">"
   ]
  },
  {
   "cell_type": "markdown",
   "id": "4f52656e",
   "metadata": {},
   "source": [
    "# What is the difference between a method and a function?\n",
    "\n",
    "Functions and methods are fundamental parts of the programming language, you can use Python without knowing what distinguishes each of these, in fact many people use Python for years and don't know this, however if you truly want to master the language then these are definitions you want to be comfortable with.\n",
    "\n",
    "**Disclaimer**: While this notebook aims to clarify the distinction between **methods** and **functions** in Python, it's important to note that this explanation briefly touches on the concept of **classes**. Classes are a fundamental part of Python, allowing you to create your own custom data types and organize your code in a more structured manner. While understanding classes can be challenging, they are used in this notebook purely to demonstrate how methods are created. You are not expected to be able to write your own classes/methods at the end of this notebook, instead it should help you fully understand the difference between methods and functions. Consider diving into classes once you feel more comfortable with the Python programming you have learned so far.\n",
    "\n",
    "\n",
    "## Starting with functions"
   ]
  },
  {
   "cell_type": "markdown",
   "id": "ac49af3e",
   "metadata": {},
   "source": [
    "There are many built-in functions that you can use. Here are a few (but not all!):"
   ]
  },
  {
   "cell_type": "code",
   "execution_count": null,
   "id": "bef83fc4",
   "metadata": {},
   "outputs": [],
   "source": [
    "print('Hello', 'World!', 1, 2, 3) # displays information under the cell"
   ]
  },
  {
   "cell_type": "code",
   "execution_count": null,
   "id": "8d83f3cf",
   "metadata": {},
   "outputs": [],
   "source": [
    "type(4) # returns the data type of an object"
   ]
  },
  {
   "cell_type": "code",
   "execution_count": null,
   "id": "c648dc49",
   "metadata": {},
   "outputs": [],
   "source": [
    "len('TLA') # returns the length of an array: in this case, number of characters in the string"
   ]
  },
  {
   "cell_type": "code",
   "execution_count": null,
   "id": "ec5e5037",
   "metadata": {},
   "outputs": [],
   "source": [
    "sorted([5, 6, 3, 2, 4, 1]) # returns a given array in ascending order "
   ]
  },
  {
   "cell_type": "markdown",
   "id": "1a03d9f8",
   "metadata": {},
   "source": [
    "You can also make your own function, for example below the function `add_two_numbers` has been created."
   ]
  },
  {
   "cell_type": "code",
   "execution_count": null,
   "id": "c46b7d0c",
   "metadata": {},
   "outputs": [],
   "source": [
    "def add_two_numbers(a, b):\n",
    "    return a + b"
   ]
  },
  {
   "cell_type": "markdown",
   "id": "f7fd0f6a",
   "metadata": {},
   "source": [
    "Now this function can be used to - you guessed it - add two numbers together:"
   ]
  },
  {
   "cell_type": "code",
   "execution_count": null,
   "id": "a30593ef",
   "metadata": {},
   "outputs": [],
   "source": [
    "add_two_numbers(3, 4)"
   ]
  },
  {
   "cell_type": "markdown",
   "id": "458aa823",
   "metadata": {},
   "source": [
    "## Methods\n",
    "\n",
    "Methods are similar to functions, but they are \"bound\" to objects. \n",
    "\n",
    "For example, let's say you had a string object that was assigned to the variable `my_string`:"
   ]
  },
  {
   "cell_type": "code",
   "execution_count": null,
   "id": "e843c9fd",
   "metadata": {},
   "outputs": [],
   "source": [
    "my_string = \"Hello, World\""
   ]
  },
  {
   "cell_type": "markdown",
   "id": "1e503fbc",
   "metadata": {},
   "source": [
    "There are many methods that are bound to the string object. For example the method `.upper()` will return the string but all the letters are capitals:"
   ]
  },
  {
   "cell_type": "code",
   "execution_count": null,
   "id": "5d5d2564",
   "metadata": {},
   "outputs": [],
   "source": [
    "my_string.upper()"
   ]
  },
  {
   "cell_type": "markdown",
   "id": "06418740",
   "metadata": {},
   "source": [
    "There are many methods similar to the above that can be performed on a string - `.title()`, `.upper()`, `.lower()` to name a few. \n",
    "\n",
    "These methods only make sense to be performed on strings, so instead of Python having them available at the top level (like type/print/sorted which can be used on many different types of objects), it only exists inside the string object."
   ]
  },
  {
   "cell_type": "markdown",
   "id": "9f4c0345",
   "metadata": {},
   "source": [
    "**Note**: Notice how the method is written after the name of the variable. Methods are used using `object.method()` syntax."
   ]
  },
  {
   "cell_type": "markdown",
   "id": "a7ccb142",
   "metadata": {},
   "source": [
    "### Creating your own methods bound to objects\n",
    "\n",
    "You can create a new type of object in Python using the keyword `class`. It looks similar to creating a function, however you are not just creating a piece of code that you want to execute later, you are creating a blueprint for a type of object, which can contain methods and even data.\n",
    "\n",
    "For example let's make a dog class in Python."
   ]
  },
  {
   "cell_type": "code",
   "execution_count": null,
   "id": "e6cdda52",
   "metadata": {},
   "outputs": [],
   "source": [
    "class Dog:\n",
    "    \n",
    "    def __init__(self, name):\n",
    "        self.name = name"
   ]
  },
  {
   "cell_type": "markdown",
   "id": "96c725f1",
   "metadata": {},
   "source": [
    "There is a lot going on here but the key concept here is that this provides a \"blue-print\" which can be used to create an \"instance\" of a dog.\n",
    "\n",
    "Let's start with Bluey:"
   ]
  },
  {
   "cell_type": "code",
   "execution_count": null,
   "id": "e228c016",
   "metadata": {},
   "outputs": [],
   "source": [
    "dog_instance = Dog('Bluey')"
   ]
  },
  {
   "cell_type": "markdown",
   "id": "b807b824",
   "metadata": {},
   "source": [
    "Now that there is an instance, you can access the name of the dog using `dog_instance.name`:"
   ]
  },
  {
   "cell_type": "code",
   "execution_count": null,
   "id": "c9978b17",
   "metadata": {},
   "outputs": [],
   "source": [
    "print(\"Hello, my name is\", dog_instance.name)"
   ]
  },
  {
   "cell_type": "markdown",
   "id": "8e2e672f",
   "metadata": {},
   "source": [
    "<img src='images/bluey.png' width='100px' align='left' style=\"padding: 15px\">"
   ]
  },
  {
   "cell_type": "markdown",
   "id": "07ec72b3",
   "metadata": {},
   "source": [
    "Note that name isn't a Python variable, running the code below will tell you that `name` by itself is undefined:"
   ]
  },
  {
   "cell_type": "code",
   "execution_count": null,
   "id": "377328ca",
   "metadata": {},
   "outputs": [],
   "source": [
    "# uncomment the code below and run the cell\n",
    "#print(name)"
   ]
  },
  {
   "cell_type": "markdown",
   "id": "e4897c22",
   "metadata": {},
   "source": [
    "Instead it is a variable bound to `dog_instance` - because not every dog is called Bluey!"
   ]
  },
  {
   "cell_type": "markdown",
   "id": "7c625754",
   "metadata": {},
   "source": [
    "#### Adding a method\n",
    "\n",
    "Methods are like actions, things that you want the object to be able to do. For example, the class could enable the the dogs to bark.\n",
    "\n",
    "Inside the class, a function `bark` is added - note the indentations as it's very important this function is *inside* the class."
   ]
  },
  {
   "cell_type": "code",
   "execution_count": null,
   "id": "c84c1744",
   "metadata": {},
   "outputs": [],
   "source": [
    "class BarkingDog:\n",
    "    \n",
    "    def __init__(self, name):\n",
    "        self.name = name\n",
    "        \n",
    "    def bark(self):\n",
    "        return \"Woof!\""
   ]
  },
  {
   "cell_type": "markdown",
   "id": "c4e5980f",
   "metadata": {},
   "source": [
    "Now creating a new dog instance:"
   ]
  },
  {
   "cell_type": "code",
   "execution_count": null,
   "id": "ae64633f",
   "metadata": {},
   "outputs": [],
   "source": [
    "barking_dog_instance = BarkingDog('Bingo')"
   ]
  },
  {
   "cell_type": "markdown",
   "id": "716e91dc",
   "metadata": {},
   "source": [
    "Now this dog is called Bingo and she can bark!"
   ]
  },
  {
   "cell_type": "code",
   "execution_count": null,
   "id": "b374edfc",
   "metadata": {},
   "outputs": [],
   "source": [
    "print(\"Hello, my name is\",   barking_dog_instance.name    )\n",
    "print(\"I can say\",           barking_dog_instance.bark()  )"
   ]
  },
  {
   "cell_type": "markdown",
   "id": "1e4f520f",
   "metadata": {},
   "source": [
    "<img src='images/bingo.png' width='100px' align='left' style=\"padding: 15px\">"
   ]
  },
  {
   "cell_type": "markdown",
   "id": "fc0a4e02",
   "metadata": {},
   "source": [
    "You might be left right now with some extra questions about classes, a few are answered below:\n",
    "\n",
    "- **Why didn't `barking_dog_instance.name` require parentheses as `barking_dog_instance.bark()` did?** In this case, name is not a method, it is actually an attribute. There is no action that the dog is performing, it is simply an attribute of the dog instance.\n",
    "- **What is `__init__`?** This is a special method that gets called implicitly (without reference) when creating an instance of the object (Eg. when running `dog_instance = Dog('Bingo')`). In the example above it implicitly creates a new variable `dog_instance` with the attribute `name` and method `bark`.\n",
    "- **What does self refer to?** This refers to the object itself, and is implicitly taken on as the object on which the method is called. For example when calling `barking_dog_instance.bark()`, `barking_dog_instance` is passed in as the first parameter in this method. It is a way of referencing the instance of the class, without referencing a specific name.\n",
    "\n",
    "This is the foundation of how the Python language works, but is a difficult concept especially if object oriented programming is new to you. This is a topic is covered in more advanced courses, please reach out to us if you'd like to learn more!\n",
    "\n",
    "For now, the most important thing to note is how to use functions and methods in your Python code, below this is demonstrated."
   ]
  },
  {
   "cell_type": "markdown",
   "id": "bc9b17e1",
   "metadata": {},
   "source": [
    "## Comparisons in how you use them\n",
    "\n",
    "Note how when using a function you put the name of the function first. This is because that are not constricted to be within a specific class, for example `type` can be used on any type of object:"
   ]
  },
  {
   "cell_type": "code",
   "execution_count": null,
   "id": "68cb639a",
   "metadata": {},
   "outputs": [],
   "source": [
    "type(4), type('string'), type(['list', 'of', 'words'])"
   ]
  },
  {
   "cell_type": "markdown",
   "id": "83ff0388",
   "metadata": {},
   "source": [
    "When using a method, the name of the method comes after the object on which you want to perform the method. For example, the method `.upper()` is bound to be used on string types:"
   ]
  },
  {
   "cell_type": "code",
   "execution_count": null,
   "id": "e44898ca",
   "metadata": {},
   "outputs": [],
   "source": [
    "'this is a string'.upper()"
   ]
  },
  {
   "cell_type": "markdown",
   "id": "16af4df8",
   "metadata": {},
   "source": [
    "And cannot be used on another type of variable, for example the upper method does not work on lists:"
   ]
  },
  {
   "cell_type": "code",
   "execution_count": null,
   "id": "17366004",
   "metadata": {},
   "outputs": [],
   "source": [
    "# # uncomment the code below and run the cell\n",
    "#[1, 2, 3].upper()"
   ]
  },
  {
   "cell_type": "markdown",
   "id": "d0fc5f2a",
   "metadata": {},
   "source": [
    "Python has tried looking inside the blueprint of the `list` type and has not been able to find the method `upper`."
   ]
  },
  {
   "cell_type": "markdown",
   "id": "fd47be15",
   "metadata": {},
   "source": [
    "**Neat trick**: You can see which methods are available for an object by using the keyword for the object, point and clicking <tab> (Eg. `str.<tab>`).\n",
    "    \n",
    "Put your cursor at the end of the string in the cell below, add a ```.``` and click tab (wait a few seconds if necessary). You should see a list of methods that can be applied to the string object. Create a new cell below and try out some of the methods on your own strings.\n"
   ]
  },
  {
   "cell_type": "code",
   "execution_count": null,
   "id": "3eb06d93",
   "metadata": {
    "scrolled": true
   },
   "outputs": [],
   "source": [
    "str"
   ]
  },
  {
   "cell_type": "markdown",
   "id": "52e9af8d",
   "metadata": {},
   "source": [
    "<img src='images/gdd-logo.png' width='200px' align='right' style=\"padding: 15px\">\n",
    "\n",
    "# Conclusion\n",
    "\n",
    "You have now learned the fundamental differences to methods and functions. You have also seen how you can create functions and classes with methods from scratch. \n",
    "\n",
    "- **Methods** are similar to functions, but they are associated with **objects** (instances of classes).\n",
    "- They are functions that are \"bound\" to objects, and they can access and manipulate the data within those objects.\n",
    "- Methods are called using the dot notation (object.method()).\n",
    "- Methods implicitly take the object on which they are called as the first parameter, typically named self.\n",
    "- Methods are defined within a class using the def keyword.\n",
    "\n",
    "While you are not expected to replicate the design of a class it should help you to understand how the objects that you use (lists, strings, integers, DataFrames) have methods that are bound only to that object, and how you should access them."
   ]
  }
 ],
 "metadata": {
  "kernelspec": {
   "display_name": "Python 3 (ipykernel)",
   "language": "python",
   "name": "python3"
  },
  "language_info": {
   "codemirror_mode": {
    "name": "ipython",
    "version": 3
   },
   "file_extension": ".py",
   "mimetype": "text/x-python",
   "name": "python",
   "nbconvert_exporter": "python",
   "pygments_lexer": "ipython3",
   "version": "3.10.0"
  }
 },
 "nbformat": 4,
 "nbformat_minor": 5
}
