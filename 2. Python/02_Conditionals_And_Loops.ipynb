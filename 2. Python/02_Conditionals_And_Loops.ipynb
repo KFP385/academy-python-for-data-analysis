{
 "cells": [
  {
   "cell_type": "markdown",
   "metadata": {},
   "source": [
    "<img src=images/gdd-logo.png align=right width=300px>\n",
    "\n",
    "\n",
    "# Control flow: conditionals and for loops\n",
    "\n",
    "In this section, we will look at how you can use conditionals and loops to make life a little easier when executing code.\n",
    "\n",
    "We will cover:\n",
    "* [Conditionals](#conditionals)\n",
    "    * [`if` and `else`](#if-else)\n",
    "    * [`if`, `elif` and `else`](#if-elif-else)\n",
    "    * [<mark>Exercise: FizzBuzz: `if`, `elif`, and `else`</mark>](#ex-fizzbuzz)\n",
    "* [Loops](#loops)\n",
    "    * [Using `for loop` to loop through strings](#for)\n",
    "    * [<mark>Exercise: Checking string elements</mark>](#ex-cond-for)\n",
    "    * [More for loops: iterating through a range](#more-loops)\n",
    "    * [<mark>Exercises: Printing numbers with `for` loops.</mark>](#ex-for-loop)"
   ]
  },
  {
   "cell_type": "markdown",
   "metadata": {},
   "source": [
    "<a id = 'conditionals'></a>\n",
    "## Conditionals\n",
    "\n",
    "Python supports multiple logical operators:\n",
    "\n",
    "* Equals: `a == b`\n",
    "* Not Equals: `a != b`\n",
    "* Less than: `a < b`\n",
    "* Less than or equal to: `a <= b`\n",
    "* Greater than: `a > b`\n",
    "* Greater than or equal to: `a >= b`\n",
    "\n"
   ]
  },
  {
   "cell_type": "markdown",
   "metadata": {},
   "source": [
    "You can also use keywords such as `and`, `or` and `not` to check for more complex conditions. \n",
    "\n"
   ]
  },
  {
   "cell_type": "markdown",
   "metadata": {},
   "source": [
    "These conditions can be used in several ways, most commonly in \"if statements\"."
   ]
  },
  {
   "cell_type": "markdown",
   "metadata": {},
   "source": [
    "<a id ='if-else'></a>\n",
    "## `if` and `else` statements\n",
    "\n",
    "`if` and `else` are conditional statements that provide you with the decision making that is required when you want to execute code based on a particular condition.\n",
    "\n",
    "Python uses the colon symbol (:) and indentation for showing where blocks of code begin and end:"
   ]
  },
  {
   "cell_type": "markdown",
   "metadata": {},
   "source": [
    "![](images/if_else.png)\n",
    "<!-- <sub>Source: Style guide for Python</sub> -->"
   ]
  },
  {
   "cell_type": "markdown",
   "metadata": {},
   "source": [
    "Below we have a variable setting the temparature to 26 degrees (Celsius).\n",
    "\n",
    "What kind of if-else statement could we write when considering the temperature?"
   ]
  },
  {
   "cell_type": "code",
   "execution_count": null,
   "metadata": {
    "lines_to_next_cell": 2
   },
   "outputs": [],
   "source": [
    "temp = 26"
   ]
  },
  {
   "cell_type": "code",
   "execution_count": null,
   "metadata": {},
   "outputs": [],
   "source": [
    "if temp > 25:\n",
    "    print(\"Boy, it's warm today!\")\n",
    "else:\n",
    "    print(\"It's rather cold today!\")"
   ]
  },
  {
   "cell_type": "markdown",
   "metadata": {},
   "source": [
    "### <mark>**Practice:** Create your own if-else statements</mark>\n",
    "\n",
    "1. If the name is equal to `\"Lysanne\"`, print `\"Cats are my favourite animals!\"`. Otherwise, print `\"All animals are great!\"`."
   ]
  },
  {
   "cell_type": "code",
   "execution_count": null,
   "metadata": {},
   "outputs": [],
   "source": [
    "name = \"Lysanne\"\n",
    "\n",
    "# add your code"
   ]
  },
  {
   "cell_type": "markdown",
   "metadata": {},
   "source": [
    "2.  You can also create nested if-else statements!"
   ]
  },
  {
   "cell_type": "markdown",
   "metadata": {},
   "source": [
    "The following cell of code has some errors that need to be fixed.\n",
    "- Uncomment the code (i.e. remove the hashtags, you can use the shortcut `Ctrl` + `/`) and see which errors you get if you try to run it.\n",
    "- Fix the code so it works!\n",
    "- Pay attention to the required syntax and level of indentation."
   ]
  },
  {
   "cell_type": "code",
   "execution_count": null,
   "metadata": {},
   "outputs": [],
   "source": [
    "rainy = True\n",
    "temp = 26\n",
    "\n",
    "# if temp > 25:\n",
    "#     if rainy:\n",
    "#     print(\"It's hot! But raining...?\")\n",
    "#     else:\n",
    "#     print(\"It's hot! And not a raindrop in sight!\")\n",
    "# else\n",
    "#     if rainy:\n",
    "#     print(\"Just stay home...\")\n",
    "#     else\n",
    "#     print(\"It's cold, but at least it ain't raining!\")"
   ]
  },
  {
   "cell_type": "code",
   "execution_count": null,
   "metadata": {},
   "outputs": [],
   "source": [
    "# %load answers/ex-ifelse.py"
   ]
  },
  {
   "cell_type": "markdown",
   "metadata": {},
   "source": [
    "<a id ='if-elif-else'></a>\n",
    "## Using `elif`\n",
    "\n",
    "Python uses the colon symbol (:) and indentation for showing where blocks of code begin and end:"
   ]
  },
  {
   "cell_type": "markdown",
   "metadata": {},
   "source": [
    "![](images/if_elif_else.png)\n",
    "<!-- <sub>Source: ?</sub> -->"
   ]
  },
  {
   "cell_type": "markdown",
   "metadata": {},
   "source": [
    "**Example**: Adding an `elif` before the `else`"
   ]
  },
  {
   "cell_type": "code",
   "execution_count": null,
   "metadata": {
    "lines_to_next_cell": 2
   },
   "outputs": [],
   "source": [
    "temp = 26"
   ]
  },
  {
   "cell_type": "code",
   "execution_count": null,
   "metadata": {},
   "outputs": [],
   "source": [
    "if temp > 25:\n",
    "    print(\"I love it when it's hot\")\n",
    "elif temp > 0:\n",
    "    print(\"Well it's not hot... but it's not freezing either!\")\n",
    "else:\n",
    "    print(\"Brrrr! Too cold!\")"
   ]
  },
  {
   "cell_type": "markdown",
   "metadata": {},
   "source": [
    "<mark>**Question:** What would happen if you run this again, but you change the `elif` to `if`? Why?</mark>"
   ]
  },
  {
   "cell_type": "raw",
   "metadata": {},
   "source": [
    "Answer: "
   ]
  },
  {
   "cell_type": "markdown",
   "metadata": {},
   "source": [
    "<a id='ex-fizzbuzz'></a>\n",
    "## <mark>Exercise: FizzBuzz: `if`, `elif`, and `else`</mark>\n",
    "\n",
    "Write a conditional statement to check if the number `num` is divisible by 2 or 5.\n",
    "\n",
    "- If `num` is divisible by 2 print \"Fizz\".\n",
    "- If it is divisible by 5 (and not by 2)  print \"Buzz\".\n",
    "- And if it's not divisible by either, it should print \"No Fizz or Buzz\".\n",
    "\n",
    "*Hint: Remember the modulo operator %?*\n",
    " \n",
    "- **Bonus:** If it's divisible by 2 *and* 5, print \"FizzBuzz\"."
   ]
  },
  {
   "cell_type": "code",
   "execution_count": null,
   "metadata": {
    "lines_to_next_cell": 2
   },
   "outputs": [],
   "source": [
    "num = 7\n",
    "\n",
    "# add your code"
   ]
  },
  {
   "cell_type": "code",
   "execution_count": null,
   "metadata": {},
   "outputs": [],
   "source": [
    "# %load answers/ex-fizzbuzz.py"
   ]
  },
  {
   "cell_type": "markdown",
   "metadata": {},
   "source": [
    "<a id ='loops'></a>\n",
    "## For loops\n",
    "\n",
    "A for loop is used for iterating over a sequence (that is either a list, a tuple, a dictionary, a set, or a string):\n",
    "\n",
    "\n",
    "![](images/for.png)\n",
    "<!-- <sub>Source: ?</sub> -->"
   ]
  },
  {
   "cell_type": "markdown",
   "metadata": {},
   "source": [
    "<a id='for'></a>\n",
    "       \n",
    "## Using `for loop` to loop through strings\n",
    "\n",
    "We can loop through each character in a string"
   ]
  },
  {
   "cell_type": "code",
   "execution_count": null,
   "metadata": {},
   "outputs": [],
   "source": [
    "for char in 'goodbye world':\n",
    "    print(char)"
   ]
  },
  {
   "cell_type": "markdown",
   "metadata": {},
   "source": [
    "<mark>**Practice:** Write a for loop that prints each letter of the string `\"Let's practice\"` in uppercase.\n",
    "    \n",
    "*Hint:* remember the `.upper()` method?"
   ]
  },
  {
   "cell_type": "code",
   "execution_count": null,
   "metadata": {},
   "outputs": [],
   "source": []
  },
  {
   "cell_type": "code",
   "execution_count": null,
   "metadata": {},
   "outputs": [],
   "source": [
    "# %load answers/ex-forloop.py"
   ]
  },
  {
   "cell_type": "markdown",
   "metadata": {},
   "source": [
    "We can do more than just print in our statement line... What is `count_chars` up to?"
   ]
  },
  {
   "cell_type": "code",
   "execution_count": null,
   "metadata": {
    "lines_to_next_cell": 2
   },
   "outputs": [],
   "source": [
    "count_chars = 0\n",
    "\n",
    "for char in 'hello world':\n",
    "    count_chars += 1\n",
    "    print(count_chars)"
   ]
  },
  {
   "cell_type": "code",
   "execution_count": null,
   "metadata": {},
   "outputs": [],
   "source": [
    "count_chars"
   ]
  },
  {
   "cell_type": "markdown",
   "metadata": {},
   "source": [
    "`count_chars` is adding one on each loop. After the loop finishes it will be equal to the number of characters in the string! \n",
    "\n",
    "**Example**: How about adding an if statement in there as well?"
   ]
  },
  {
   "cell_type": "code",
   "execution_count": null,
   "metadata": {},
   "outputs": [],
   "source": [
    "long_string = 'hello there. Nice day today. my name is James.'\n",
    "\n",
    "for char in long_string:\n",
    "    \n",
    "    if char == 'a':\n",
    "        print(char)"
   ]
  },
  {
   "cell_type": "markdown",
   "metadata": {},
   "source": [
    "**Example**: Print all consonants in lower case and all vowels as capitals."
   ]
  },
  {
   "cell_type": "code",
   "execution_count": null,
   "metadata": {},
   "outputs": [],
   "source": [
    "for char in 'we are really loving for loops':\n",
    "    \n",
    "    if char in 'aeiou':\n",
    "        print(char.upper())\n",
    "    else:\n",
    "        print(char.lower())"
   ]
  },
  {
   "cell_type": "markdown",
   "metadata": {},
   "source": [
    "<a id ='ex-cond-for'></a>\n",
    "### <mark>Exercise: Checking string elements</mark>\n",
    "\n",
    "Write Python code that goes through each letter of a given string and counts how many vowels are in it.\n",
    "\n",
    "*Hint:* Use a `for loop` and the `+=` operator."
   ]
  },
  {
   "cell_type": "code",
   "execution_count": null,
   "metadata": {
    "lines_to_next_cell": 2
   },
   "outputs": [],
   "source": [
    "random_string = \"python is not a snake\"\n",
    "\n",
    "vowels = 'aeuio'"
   ]
  },
  {
   "cell_type": "code",
   "execution_count": null,
   "metadata": {
    "lines_to_next_cell": 2
   },
   "outputs": [],
   "source": []
  },
  {
   "cell_type": "code",
   "execution_count": null,
   "metadata": {},
   "outputs": [],
   "source": [
    "# %load answers/ex-cond-for.py"
   ]
  },
  {
   "cell_type": "markdown",
   "metadata": {},
   "source": [
    "<a id='more-loops'></a>\n",
    "## More for loops: Iterating through a range\n",
    "\n",
    "The `range()` function returns a sequence of numbers, starting from 0 by default, and increments by 1 (by default), and stops before a specified number.\n",
    "\n",
    "Here we create a sequence of numbers from 0 to 5, and print each item in the sequence:"
   ]
  },
  {
   "cell_type": "code",
   "execution_count": null,
   "metadata": {},
   "outputs": [],
   "source": [
    "for num in range(6):\n",
    "    print(num)"
   ]
  },
  {
   "cell_type": "markdown",
   "metadata": {},
   "source": [
    "Note how the range function starts from **0** and **stops before the specified number**. \n",
    "\n",
    "The syntax for the range function is:\n",
    "\n",
    "    range(start, stop, increment)\n",
    "\n",
    "You can specify at which position you'd like to start, and you can set the increments.\n",
    "\n",
    "**Using the** `range()` **function, return all the even numbers from *4 up to and including 12***"
   ]
  },
  {
   "cell_type": "code",
   "execution_count": null,
   "metadata": {
    "lines_to_next_cell": 2
   },
   "outputs": [],
   "source": [
    "for i in range(4, 14, 2):\n",
    "    print(i)"
   ]
  },
  {
   "cell_type": "code",
   "execution_count": null,
   "metadata": {
    "lines_to_next_cell": 2
   },
   "outputs": [],
   "source": [
    "for i in range(2, 7):\n",
    "    print(i*2)"
   ]
  },
  {
   "cell_type": "code",
   "execution_count": null,
   "metadata": {},
   "outputs": [],
   "source": [
    "for i in range(4, 13, 2):\n",
    "    print(i)"
   ]
  },
  {
   "cell_type": "markdown",
   "metadata": {},
   "source": [
    "<a id='ex-for-loop'></a>\n",
    "## <mark>Exercises: Printing numbers with `for` loops.</mark>\n",
    "\n",
    "Use the `range()` function and a `for` loop to print all the square numbers between 1 and 100 (*i.e. 1, 4, 9, 16, 25 ... 100*)."
   ]
  },
  {
   "cell_type": "code",
   "execution_count": null,
   "metadata": {
    "lines_to_next_cell": 2
   },
   "outputs": [],
   "source": []
  },
  {
   "cell_type": "markdown",
   "metadata": {},
   "source": [
    "<a id='ex-for-loop-challenge'></a>\n",
    "<mark>**Challenge**:</mark> Write code that prints the following pattern:\n",
    "```\n",
    "1\n",
    "12\n",
    "123\n",
    "1234\n",
    "12345\n",
    "```"
   ]
  },
  {
   "cell_type": "code",
   "execution_count": null,
   "metadata": {
    "lines_to_next_cell": 2
   },
   "outputs": [],
   "source": []
  },
  {
   "cell_type": "code",
   "execution_count": null,
   "metadata": {},
   "outputs": [],
   "source": [
    "# %load answers/ex-for-loop.py"
   ]
  },
  {
   "cell_type": "code",
   "execution_count": null,
   "metadata": {},
   "outputs": [],
   "source": [
    "# %load answers/ex-for-loop-challenge.py"
   ]
  }
 ],
 "metadata": {
  "kernelspec": {
   "display_name": "Python 3 (ipykernel)",
   "language": "python",
   "name": "python3"
  },
  "language_info": {
   "codemirror_mode": {
    "name": "ipython",
    "version": 3
   },
   "file_extension": ".py",
   "mimetype": "text/x-python",
   "name": "python",
   "nbconvert_exporter": "python",
   "pygments_lexer": "ipython3",
   "version": "3.11.8"
  }
 },
 "nbformat": 4,
 "nbformat_minor": 4
}
