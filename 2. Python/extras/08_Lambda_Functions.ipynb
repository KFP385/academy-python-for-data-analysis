{
 "cells": [
  {
   "cell_type": "markdown",
   "id": "70430b27",
   "metadata": {},
   "source": [
    "<a id = 'lambda'></a>\n",
    "# Lambda functions\n",
    "\n",
    "A lambda function is a small anonymous function.\n",
    "\n",
    "A lambda function can take any number of arguments, but can only have one expression.\n",
    "\n",
    "* [Using `lambda` functions](#lambda)\n",
    "    * [<mark>Exercises: Lambda functions</mark>](#ex-lambda)\n",
    "* [Why lambda functions are useful - examples](#lambdas-benefits)\n",
    "\n",
    "![](../images/lambda.png)\n",
    "<!-- source? -->"
   ]
  },
  {
   "cell_type": "code",
   "execution_count": null,
   "id": "4fcdddeb",
   "metadata": {
    "lines_to_next_cell": 2
   },
   "outputs": [],
   "source": [
    "# take a number and add 4\n",
    "\n",
    "add_4 = lambda x: x + 4"
   ]
  },
  {
   "cell_type": "code",
   "execution_count": null,
   "id": "57afdfc6",
   "metadata": {
    "lines_to_next_cell": 2
   },
   "outputs": [],
   "source": [
    "add_4(17)"
   ]
  },
  {
   "cell_type": "code",
   "execution_count": null,
   "id": "8ab3ae95",
   "metadata": {
    "lines_to_next_cell": 2
   },
   "outputs": [],
   "source": [
    "# cube a number\n",
    "\n",
    "cube_number = lambda x: x**3"
   ]
  },
  {
   "cell_type": "code",
   "execution_count": null,
   "id": "1fb1f60b",
   "metadata": {
    "lines_to_next_cell": 2
   },
   "outputs": [],
   "source": [
    "cube_number(4)"
   ]
  },
  {
   "cell_type": "code",
   "execution_count": null,
   "id": "a7b21f22",
   "metadata": {
    "lines_to_next_cell": 2
   },
   "outputs": [],
   "source": [
    "# raise one number to the power of another\n",
    "\n",
    "to_power = lambda x, y: x**y"
   ]
  },
  {
   "cell_type": "code",
   "execution_count": null,
   "id": "1894cba1",
   "metadata": {},
   "outputs": [],
   "source": [
    "to_power(5, 4)"
   ]
  },
  {
   "cell_type": "markdown",
   "id": "e6b91b73",
   "metadata": {},
   "source": [
    "<a id = 'ex-lambda'></a>\n",
    "## <mark>Exercise: Lambda challenge</mark>\n",
    "\n",
    "Create a lambda function that adds two numbers together, then multiplies by a third"
   ]
  },
  {
   "cell_type": "code",
   "execution_count": null,
   "id": "25734033",
   "metadata": {},
   "outputs": [],
   "source": []
  },
  {
   "cell_type": "markdown",
   "id": "8bd2778b",
   "metadata": {},
   "source": [
    "<a id='lambdas-benefits'></a>\n",
    "## Why lambda functions are useful\n",
    "\n",
    "Python lets you create a function on the go, but without really assigning a name to the function. These “anonymous” functions are called “Lambda Functions”. \n",
    "\n",
    "**The benefit of the \"anonymous\" lambda function is easily visible when used within a python functions like** `sorted()`:"
   ]
  },
  {
   "cell_type": "code",
   "execution_count": null,
   "id": "146cde87",
   "metadata": {
    "lines_to_next_cell": 2
   },
   "outputs": [],
   "source": [
    "food = ['strawberry', 'mango', 'apple', 'banana']"
   ]
  },
  {
   "cell_type": "code",
   "execution_count": null,
   "id": "f5726c70",
   "metadata": {},
   "outputs": [],
   "source": [
    "sorted(food)"
   ]
  },
  {
   "cell_type": "markdown",
   "id": "fea68c5a",
   "metadata": {},
   "source": [
    "**But what is we had a list of tuples - how will `sorted()` behave now?**"
   ]
  },
  {
   "cell_type": "code",
   "execution_count": null,
   "id": "35274534",
   "metadata": {
    "lines_to_next_cell": 2
   },
   "outputs": [],
   "source": [
    "food_to_buy = [(30, 'strawberry'), (4, 'mango'), (7, 'apple'), (2, 'banana')]"
   ]
  },
  {
   "cell_type": "code",
   "execution_count": null,
   "id": "1dc6a923",
   "metadata": {},
   "outputs": [],
   "source": [
    "sorted(food_to_buy)"
   ]
  },
  {
   "cell_type": "markdown",
   "id": "3037727d",
   "metadata": {},
   "source": [
    "**How can we sort by the second item in each tuple? We can use the `key=` parameter with a lambda function!**"
   ]
  },
  {
   "cell_type": "code",
   "execution_count": null,
   "id": "0c01e842",
   "metadata": {},
   "outputs": [],
   "source": [
    "sorted(food_to_buy, key = lambda x: x[1] )"
   ]
  },
  {
   "cell_type": "markdown",
   "id": "9b313165",
   "metadata": {},
   "source": [
    "**You can also use lambda functions within functions you have written yourself. These easy one liners give us a fair bit of power in Python.**"
   ]
  },
  {
   "cell_type": "code",
   "execution_count": null,
   "id": "fd9d23c9",
   "metadata": {},
   "outputs": [],
   "source": [
    "def func_builder(n):\n",
    "    \n",
    "    return lambda x: x ** n"
   ]
  },
  {
   "cell_type": "markdown",
   "id": "f6714f40",
   "metadata": {},
   "source": [
    "**What use is this? Well now we can create functions that will find a certain power, and then we can use different numbers in that very function...**"
   ]
  },
  {
   "cell_type": "code",
   "execution_count": null,
   "id": "d48db331",
   "metadata": {
    "lines_to_next_cell": 2
   },
   "outputs": [],
   "source": [
    "squarer = func_builder(2)\n",
    "print(\n",
    "    squarer(1),\n",
    "    squarer(2),\n",
    "    squarer(3),\n",
    "    squarer(4)\n",
    ")"
   ]
  },
  {
   "cell_type": "code",
   "execution_count": null,
   "id": "da0f8e73",
   "metadata": {},
   "outputs": [],
   "source": [
    "cuber = func_builder(2)\n",
    "for x in range(1,11):\n",
    "    print(cuber(x))"
   ]
  }
 ],
 "metadata": {
  "kernelspec": {
   "display_name": "Python 3 (ipykernel)",
   "language": "python",
   "name": "python3"
  },
  "language_info": {
   "codemirror_mode": {
    "name": "ipython",
    "version": 3
   },
   "file_extension": ".py",
   "mimetype": "text/x-python",
   "name": "python",
   "nbconvert_exporter": "python",
   "pygments_lexer": "ipython3",
   "version": "3.9.5"
  }
 },
 "nbformat": 4,
 "nbformat_minor": 5
}
