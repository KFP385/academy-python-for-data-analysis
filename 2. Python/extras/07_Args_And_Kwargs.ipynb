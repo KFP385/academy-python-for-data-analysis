{
 "cells": [
  {
   "cell_type": "markdown",
   "metadata": {},
   "source": [
    "<img src='../images/logo.png' align=right width=250px>\n",
    "\n",
    "# Functions: Using Args and Kwargs\n",
    "\n",
    "In Python, you can pass a variable number of arguments to a function using special symbols. There are two special symbols:\n",
    "\n",
    "\n",
    "- `*args` (Positional Arguments)\n",
    "- `**kwargs` (Keyword Arguments)\n",
    "\n",
    "This notebook will cover:\n",
    "- [Benefits of using `*args` and `**kwargs`](#benefits)\n",
    "- [Using `*args`](#args)\n",
    "- [<mark>Exercise: Functions with `**args`</mark>](#ex-args)\n",
    "- [Using `**kwargs`](#kwargs)\n",
    "- [<mark>Exercise: Functions with `**kwargs`</mark>](#ex-kwargs)"
   ]
  },
  {
   "cell_type": "markdown",
   "metadata": {},
   "source": [
    "<a id=benefits></a>\n",
    "\n",
    "## Benefits of using `*args` and `**kwargs`\n",
    "\n",
    "Think about the `max()` function in Python - a function that returns the maximum number from some given numbers.\n",
    "\n",
    "Here's an example using 2 numbers - what is the max of `7` and `3`?"
   ]
  },
  {
   "cell_type": "code",
   "execution_count": null,
   "metadata": {},
   "outputs": [],
   "source": [
    "max(7, 3)"
   ]
  },
  {
   "cell_type": "markdown",
   "metadata": {},
   "source": [
    "And what if you wanted to check more than just two numbers? The `max()` function allows you to keep adding as many numbers as you need:"
   ]
  },
  {
   "cell_type": "code",
   "execution_count": null,
   "metadata": {},
   "outputs": [],
   "source": [
    "max(5, 4, 9, 2, 6, 7, 3, 1)"
   ]
  },
  {
   "cell_type": "markdown",
   "metadata": {},
   "source": [
    "The `max()` function is a great example of a function that allows multiple arguments (`*args`). Why is this? Because the function includes the `*args*` parameter - you can see this in the function documentation:"
   ]
  },
  {
   "cell_type": "code",
   "execution_count": null,
   "metadata": {},
   "outputs": [],
   "source": [
    "help(max)"
   ]
  },
  {
   "cell_type": "markdown",
   "metadata": {},
   "source": [
    "Note how on the fourth line - `max(arg1, arg2, *args, *[, key=func])` - the `*args` parameter is shown. This is what allows us to use as many numbers as necessary, as the last line of the documentation says: `With two or more arguments, return the largest argument.`\n",
    "\n",
    "**So, what's the benefit?** You can now use the `max()` function with as many numbers as you like, it was not restricted at the time of creating the function."
   ]
  },
  {
   "cell_type": "markdown",
   "metadata": {},
   "source": [
    "### Benefit summary\n",
    "\n",
    "`*args` and `**kwargs` allow you to add flexibility to the number of arguments being passed to the function. This is useful for functions where the number of inputs can vary depending on the use case. They are also often used when defining wrapper functions (such as decorators) or when you need to pass arguments to another function dynamically. \n",
    "\n",
    "*Note: The names `*args` and `**kwargs` are not mandatory, are and you can choose other names (though it is not recommended), but the asterisk (\\*) or double asterisks (\\*\\*) are required to denote the special behavior.*"
   ]
  },
  {
   "cell_type": "markdown",
   "metadata": {},
   "source": [
    "<a id='args'></a>\n",
    "# Using `*args`\n",
    "\n",
    "Let's now explore how to add the `*args` option into a function.\n",
    "\n",
    "You can use `*args` as an argument when you want to be flexible about the number of **positional arguments** to pass to the function.\n",
    "\n",
    "*Note: Arguments in `*args` are captured as a **tuple** within the function, which means you can reference single arguments using standard tuple indexing `args[...]`.*\n",
    "\n",
    "**Example:**\n",
    "Let's create a function that adds all the numbers together, regardless of how many numbers are passed in:"
   ]
  },
  {
   "cell_type": "code",
   "execution_count": null,
   "metadata": {},
   "outputs": [],
   "source": [
    "def add_numbers(*args):\n",
    "    return sum(args)\n",
    "\n",
    "add_numbers(1, 2, 3, 4, 5)"
   ]
  },
  {
   "cell_type": "markdown",
   "metadata": {},
   "source": [
    "You can mix types when passing \\*args into a function. Note how the arguments go through the function as a tuple*:"
   ]
  },
  {
   "cell_type": "code",
   "execution_count": null,
   "metadata": {},
   "outputs": [],
   "source": [
    "def new_func(*args):\n",
    "    print(\"The arguments passed through the function are:\", args)\n",
    "    print(\"The type of args is:\", type(args))"
   ]
  },
  {
   "cell_type": "code",
   "execution_count": null,
   "metadata": {},
   "outputs": [],
   "source": [
    "new_func(1,2,3,'hey',True)"
   ]
  },
  {
   "cell_type": "markdown",
   "metadata": {},
   "source": [
    "You can also have a mix of **default positional arguments** plus an `*args` argument:"
   ]
  },
  {
   "cell_type": "code",
   "execution_count": null,
   "metadata": {},
   "outputs": [],
   "source": [
    "def sum_numbers(x, y, z, *args):\n",
    "    \n",
    "    output = x + y + z\n",
    "    \n",
    "    for el in args:\n",
    "        output+=el\n",
    "        \n",
    "    return output"
   ]
  },
  {
   "cell_type": "code",
   "execution_count": null,
   "metadata": {},
   "outputs": [],
   "source": [
    "sum_numbers(1, 2, 3, 4, 5)"
   ]
  },
  {
   "cell_type": "markdown",
   "metadata": {},
   "source": [
    "But take care - uncomment the below and run the code - why do you get an error?"
   ]
  },
  {
   "cell_type": "code",
   "execution_count": null,
   "metadata": {},
   "outputs": [],
   "source": [
    "# sum_numbers(1, 2)"
   ]
  },
  {
   "cell_type": "markdown",
   "metadata": {},
   "source": [
    "<details><summary><font color=blue>Show answer</font></summary>\n",
    "    \n",
    "The function has three arguments positional arguments, which means these are ***required***. The `*args*` argument is the option extra. Thus this function (`sum_numbers`) requires ***three or more*** arguments.\n",
    "    </details>"
   ]
  },
  {
   "cell_type": "markdown",
   "metadata": {},
   "source": [
    "**If you are would like to understand what a tuple in Python is, you can think of them as lists. If you want to know more then following [this link](https://www.geeksforgeeks.org/tuples-in-python/)!*"
   ]
  },
  {
   "cell_type": "markdown",
   "metadata": {},
   "source": [
    "<a id = 'ex-args'></a>\n",
    "## <mark>Exercise: Functions using `*args`</mark>\n",
    "    "
   ]
  },
  {
   "cell_type": "markdown",
   "metadata": {},
   "source": [
    "**★** Write a function that returns the sum of an arbitary amount of numbers.\n",
    "\n",
    "*Extra: Change the output so that it is a tuple of the (min, max & sum) of the numbers.*"
   ]
  },
  {
   "cell_type": "code",
   "execution_count": null,
   "metadata": {},
   "outputs": [],
   "source": []
  },
  {
   "cell_type": "markdown",
   "metadata": {},
   "source": [
    "**★★** Write a function that can multiply an arbitrary amount of numbers together.\n",
    "\n",
    "*Extra: give your function a useful docstring and use the help() function to view it.*\n",
    "\n",
    "<details>\n",
    "<summary> <font color=blue>Click to show hint</font> </summary>\n",
    "\n",
    "There are two options for this question:\n",
    "    \n",
    "- Import the libray math and use the function: `math.product([list,of,numbers])`\n",
    "- Use a for loop (as in the sum function above) and perform an incremental multiplication (`*=`)\n",
    "    \n",
    "</details>\n",
    "    "
   ]
  },
  {
   "cell_type": "code",
   "execution_count": null,
   "metadata": {},
   "outputs": [],
   "source": []
  },
  {
   "cell_type": "markdown",
   "metadata": {},
   "source": [
    "**★★★** Write a function that takes an arbitary amount of numbers and returns a dictionary of the numbers where the keys are the numbers and the values are the corresponding letter in the alphabet. If the number is greater than 26 it should loop through the alphabet.\n",
    "\n",
    "For example:\n",
    "\n",
    "```Python\n",
    "    get_letter_from_alph_id(1, 4, 5, 27, 97) \n",
    "```   \n",
    "Should output:\n",
    "```Python\n",
    "    {1: 'a', 4: 'd', 5: 'e', 27: 'a', 97: 's'}\n",
    "```   \n",
    "\n",
    "*Extra: Give your function a useful docstring and use the help() function to view it.*"
   ]
  },
  {
   "cell_type": "code",
   "execution_count": null,
   "metadata": {},
   "outputs": [],
   "source": []
  },
  {
   "cell_type": "markdown",
   "metadata": {},
   "source": [
    "### Answers\n",
    "Uncomment and run to reveal answers."
   ]
  },
  {
   "cell_type": "code",
   "execution_count": null,
   "metadata": {},
   "outputs": [],
   "source": [
    "# %load ../answers/arg-1.py"
   ]
  },
  {
   "cell_type": "code",
   "execution_count": null,
   "metadata": {},
   "outputs": [],
   "source": [
    "# %load ../answers/arg-2.py"
   ]
  },
  {
   "cell_type": "code",
   "execution_count": null,
   "metadata": {},
   "outputs": [],
   "source": [
    "# %load ../answers/arg-3.py"
   ]
  },
  {
   "cell_type": "markdown",
   "metadata": {},
   "source": [
    "---\n",
    "<a id='kwargs'></a>\n",
    "# Using `**kwargs `\n",
    "`**Kwargs` act really similar to `*args`, but instead they are **keyword arguments**. This means they need a keyword assignment when the argument is called:\n",
    "\n",
    "*Note: Arguments in `**kwargs` are captured as a **dictionary** within the function, which means you can use the `.keys()` and `.values()` methods to reference individual arguments and their values.*\n"
   ]
  },
  {
   "cell_type": "code",
   "execution_count": null,
   "metadata": {},
   "outputs": [],
   "source": [
    "def show_kwargs(**kwargs):\n",
    "    print(kwargs)"
   ]
  },
  {
   "cell_type": "code",
   "execution_count": null,
   "metadata": {},
   "outputs": [],
   "source": [
    "show_kwargs(key_word1 = 'Hello', key_word2 = 'World!')"
   ]
  },
  {
   "cell_type": "markdown",
   "metadata": {},
   "source": [
    "**Example**: \n",
    "\n",
    "Let's write a function that will print the `keys` and `values` from the given `**kwargs` arguments."
   ]
  },
  {
   "cell_type": "code",
   "execution_count": null,
   "metadata": {},
   "outputs": [],
   "source": [
    "def print_animal_diet(**diets):\n",
    "    \n",
    "    for key, value in diets.items():\n",
    "        print(f\"the {key} is {value}\")"
   ]
  },
  {
   "cell_type": "code",
   "execution_count": null,
   "metadata": {},
   "outputs": [],
   "source": [
    "print_animal_diet(animal='rabbit', food = 'carrots')"
   ]
  },
  {
   "cell_type": "markdown",
   "metadata": {},
   "source": [
    "You can mix **default keyword parameters** with `**kwargs`."
   ]
  },
  {
   "cell_type": "code",
   "execution_count": null,
   "metadata": {},
   "outputs": [],
   "source": [
    "# ranking function\n",
    "def rank_names(a = 'tim', b = 'colette', c ='jenny', **kwargs):\n",
    "    print(\"1st\", a)\n",
    "    print(\"2nd\", b)\n",
    "    print(\"3rd\", c)\n",
    "    \n",
    "    for i, value in enumerate(kwargs.values()):\n",
    "        position = str(i + 4)\n",
    "        print(position + \"th\", value)\n"
   ]
  },
  {
   "cell_type": "code",
   "execution_count": null,
   "metadata": {},
   "outputs": [],
   "source": [
    "rank_names(d='lilly', e='bill')"
   ]
  },
  {
   "cell_type": "markdown",
   "metadata": {},
   "source": [
    "<a id = 'ex-kwargs'></a>\n",
    "## <mark>Exercise: Function with `**kwargs`</mark>"
   ]
  },
  {
   "cell_type": "markdown",
   "metadata": {},
   "source": [
    "**★ Option 1:** Write a function with kwargs that will print :\n",
    "\n",
    "```Python\n",
    "first_name: Peter\n",
    "last_name: Parker\n",
    "``` \n",
    "when \n",
    "\n",
    "```Python\n",
    "first_name='Peter', last_name='Parker'\n",
    "``` \n",
    "\n",
    "are passed in as keyword arguments.\n",
    "\n",
    "*Extra: Format the string so that it says \"First name: Peter. Last name: Parker\".*"
   ]
  },
  {
   "cell_type": "code",
   "execution_count": null,
   "metadata": {},
   "outputs": [],
   "source": []
  },
  {
   "cell_type": "markdown",
   "metadata": {},
   "source": [
    "**★★ Option 2:** Write a function using kwargs that outputs the sentence: \n",
    "\n",
    "```Python\n",
    "\"Using kwargs can make a function flexible\"\n",
    "```\n",
    "when \n",
    "```Python\n",
    "a=\"using\", b=\"kwargs\", c=\"can\", d=\"make\", e=\"a\", f=\"function\", g=\"flexible\" \n",
    "```\n",
    "are passed in as keyword arguments."
   ]
  },
  {
   "cell_type": "code",
   "execution_count": null,
   "metadata": {},
   "outputs": [],
   "source": []
  },
  {
   "cell_type": "markdown",
   "metadata": {},
   "source": [
    "**★★★ Option 3:** Write a function that takes in room sizes of a house in square meters, and prints a list of all the rooms and returns the total area of the property.\n",
    "\n",
    "For example, the following inputs:\n",
    "```python\n",
    "Bathroom = 10\n",
    "Bedroom = 20\n",
    "Living = 20\n",
    "Kitchen = 15\n",
    "```\n",
    "\n",
    "would print:\n",
    "```\n",
    "Rooms in the property:\n",
    "Bathroom\n",
    "Bedroom\n",
    "Living\n",
    "Kitchen\n",
    "\n",
    "The total area of the property is 65 square meters.\n",
    "```"
   ]
  },
  {
   "cell_type": "code",
   "execution_count": null,
   "metadata": {},
   "outputs": [],
   "source": []
  },
  {
   "cell_type": "markdown",
   "metadata": {},
   "source": [
    "### Answers\n",
    "Uncomment and run to reveal answers"
   ]
  },
  {
   "cell_type": "code",
   "execution_count": null,
   "metadata": {},
   "outputs": [],
   "source": [
    "# %load ../answers/kwarg-1.py"
   ]
  },
  {
   "cell_type": "code",
   "execution_count": null,
   "metadata": {},
   "outputs": [],
   "source": [
    "# %load ../answers/kwarg-2.py"
   ]
  },
  {
   "cell_type": "code",
   "execution_count": null,
   "metadata": {},
   "outputs": [],
   "source": [
    "# %load ../answers/kwarg-3.py"
   ]
  },
  {
   "cell_type": "markdown",
   "metadata": {},
   "source": [
    "# Summary\n",
    "\n",
    "You have now learned about the **benefits** of using `*args` and `**kwargs` and how they can enhance the flexibility and versatility of your code.\n",
    "\n",
    "You have gained a solid understanding of using `*args` to pass a variable number of arguments to a function, allowing you to handle dynamic inputs effectively.\n",
    "\n",
    "You have explored the power of `**kwargs`, which grants you the ability to handle arbitrary keyword arguments and pass them as a dictionary to a function. \n",
    "\n",
    "By mastering `*args` and `**kwargs`, you are now equipped with valuable tools to write more flexible and dynamic Python code. These techniques will greatly enhance your ability to create reusable and adaptable functions, making your programming journey more efficient."
   ]
  }
 ],
 "metadata": {
  "kernelspec": {
   "display_name": "Python 3 (ipykernel)",
   "language": "python",
   "name": "python3"
  },
  "language_info": {
   "codemirror_mode": {
    "name": "ipython",
    "version": 3
   },
   "file_extension": ".py",
   "mimetype": "text/x-python",
   "name": "python",
   "nbconvert_exporter": "python",
   "pygments_lexer": "ipython3",
   "version": "3.9.13"
  }
 },
 "nbformat": 4,
 "nbformat_minor": 4
}
