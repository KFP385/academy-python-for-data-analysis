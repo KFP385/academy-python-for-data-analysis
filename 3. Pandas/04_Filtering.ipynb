{
 "cells": [
  {
   "cell_type": "markdown",
   "id": "017e0b8c",
   "metadata": {},
   "source": [
    "<img src=images/gdd-logo.png width=300px align=right> \n",
    "\n",
    "# Filtering\n",
    "\n",
    "In this notebook, we will cover how to filter data.\n",
    "\n",
    "- [Filtering](#f)\n",
    "   - [Using (lambda) functions to filter](#lambdas)\n",
    "   - <mark>[Exercise: Filtering](#e-filter)</mark>\n",
    "- [Multiple Conditions](#m)\n",
    "    - <mark>[Exercise: Multiple Conditions](#e-mult)</mark>"
   ]
  },
  {
   "cell_type": "code",
   "execution_count": null,
   "id": "91cfc6ad",
   "metadata": {},
   "outputs": [],
   "source": [
    "import pandas as pd\n",
    "\n",
    "chickweight = pd.read_csv('data/chickweight.csv').rename(str.lower, axis='columns')"
   ]
  },
  {
   "cell_type": "markdown",
   "id": "d245dada",
   "metadata": {},
   "source": [
    "<a id='f'></a>\n",
    "## Filtering\n",
    "\n",
    "It is possible to check whether the DataFrame/series meet certain conditions. \n",
    "\n",
    "For example, *which values in the chickweight DataFrame are less than 4?*"
   ]
  },
  {
   "cell_type": "code",
   "execution_count": null,
   "id": "8dc74591",
   "metadata": {
    "lines_to_next_cell": 2
   },
   "outputs": [],
   "source": [
    "(\n",
    "    chickweight < 4\n",
    ").head()"
   ]
  },
  {
   "cell_type": "markdown",
   "id": "12f46fd2",
   "metadata": {},
   "source": [
    "Probably more useful would be to check one column at a time:"
   ]
  },
  {
   "cell_type": "code",
   "execution_count": null,
   "id": "cb1d16ca",
   "metadata": {},
   "outputs": [],
   "source": [
    "(\n",
    "    chickweight['time'] < 4\n",
    ")"
   ]
  },
  {
   "cell_type": "markdown",
   "id": "79b500fb",
   "metadata": {},
   "source": [
    "This creates a boolean mask (a list of booleans). \n",
    "\n",
    "A second type of argument that the `.loc[]` method accepts is a boolean mask, so we can use it to filter our DataFrame."
   ]
  },
  {
   "cell_type": "code",
   "execution_count": null,
   "id": "4c262f82",
   "metadata": {},
   "outputs": [],
   "source": [
    "(\n",
    "    chickweight\n",
    "    .loc[chickweight['time'] < 4]\n",
    ")"
   ]
  },
  {
   "cell_type": "markdown",
   "id": "717c067d",
   "metadata": {},
   "source": [
    "### <mark> Practice: Filtering </mark>\n",
    "\n",
    "\n",
    "Filter the data in the following ways:\n",
    "\n",
    "1. For when weight is less than 60."
   ]
  },
  {
   "cell_type": "code",
   "execution_count": null,
   "id": "35e53777",
   "metadata": {},
   "outputs": [],
   "source": []
  },
  {
   "cell_type": "markdown",
   "id": "12647ac6",
   "metadata": {},
   "source": [
    "2. For chick number 15."
   ]
  },
  {
   "cell_type": "code",
   "execution_count": null,
   "id": "86fa4a2e",
   "metadata": {},
   "outputs": [],
   "source": []
  },
  {
   "cell_type": "code",
   "execution_count": null,
   "id": "b466b3d9",
   "metadata": {},
   "outputs": [],
   "source": [
    "# %load answers/02_Selections_and_Filtering/filter-practice.py"
   ]
  },
  {
   "cell_type": "markdown",
   "id": "5dd47410",
   "metadata": {},
   "source": [
    "<a id = 'lambdas'></a>\n",
    "## Using (lambda) functions to filter\n",
    "\n",
    "The third type or argument that the `.loc[]` method accepts is a function that takes a DataFrame and returns a boolean mask. This function will get called on **whatever DataFrame arrives to the `.loc[]`**.\n",
    "\n",
    "This allows you to add many filters without needing to reference the original name of the DataFrame:"
   ]
  },
  {
   "cell_type": "code",
   "execution_count": null,
   "id": "54634a7c",
   "metadata": {},
   "outputs": [],
   "source": [
    "(\n",
    "    chickweight  \n",
    "    .loc[lambda df: df['chick'] == 1]\n",
    "    .loc[lambda df: df['time'] < 4] \n",
    ")"
   ]
  },
  {
   "cell_type": "markdown",
   "id": "1538877d",
   "metadata": {},
   "source": [
    "What are the benefits of using lambda functions when filtering?\n",
    "\n",
    "<details>\n",
    "    <summary><font color=blue>Show answer</font></summary>\n",
    "    \n",
    "- Your code works independently of the name of the dataframe (easy to copy-paste!).\n",
    "- You can filter on new columns that were created in the step before.\n",
    "- You can re-order filters, they work with whatever DataFrame arrives to the filter, as long as the column needed exists."
   ]
  },
  {
   "cell_type": "markdown",
   "id": "af7eb926",
   "metadata": {},
   "source": [
    "**A note about lambda functions**: The lambda function may feel a little strange at this stage but, trust us, when you start to add more chains, the lambda function will really save the day! \n",
    "\n"
   ]
  },
  {
   "cell_type": "markdown",
   "id": "b083ecd7",
   "metadata": {},
   "source": [
    "For now it's important to be comfortable with the syntax, so let's practice!"
   ]
  },
  {
   "cell_type": "markdown",
   "id": "e0818579",
   "metadata": {},
   "source": [
    "<a id='e-filter'></a>\n",
    "## <mark> Exercise: Filtering </mark>\n",
    "\n",
    "\n",
    "Filter the data in the following (separate) ways:\n"
   ]
  },
  {
   "cell_type": "markdown",
   "id": "da221adf",
   "metadata": {},
   "source": [
    "1. For when weight is greater than 150."
   ]
  },
  {
   "cell_type": "code",
   "execution_count": null,
   "id": "f89cb81b",
   "metadata": {},
   "outputs": [],
   "source": []
  },
  {
   "cell_type": "markdown",
   "id": "818f525a",
   "metadata": {},
   "source": [
    "2. For diet is equal to 4."
   ]
  },
  {
   "cell_type": "code",
   "execution_count": null,
   "id": "275e4f84",
   "metadata": {},
   "outputs": [],
   "source": []
  },
  {
   "cell_type": "markdown",
   "id": "1f496776",
   "metadata": {},
   "source": [
    "3. For when weight is less than 60 and time is equal to 2."
   ]
  },
  {
   "cell_type": "code",
   "execution_count": null,
   "id": "d112743d",
   "metadata": {},
   "outputs": [],
   "source": []
  },
  {
   "cell_type": "markdown",
   "id": "475658a0",
   "metadata": {},
   "source": [
    "4. For when weight is less than 60 and time is equal to 2, but only the weight and time columns."
   ]
  },
  {
   "cell_type": "code",
   "execution_count": null,
   "id": "285191ab",
   "metadata": {},
   "outputs": [],
   "source": []
  },
  {
   "cell_type": "markdown",
   "id": "bf7205cf",
   "metadata": {},
   "source": [
    "**BONUS**:\n",
    "\n",
    "1. Calculate the mean (= average) Chicken weight."
   ]
  },
  {
   "cell_type": "code",
   "execution_count": null,
   "id": "2940ef10",
   "metadata": {},
   "outputs": [],
   "source": []
  },
  {
   "cell_type": "markdown",
   "id": "3ef6e516",
   "metadata": {},
   "source": [
    "2. Calculate the mean Chicken weight at time 10"
   ]
  },
  {
   "cell_type": "code",
   "execution_count": null,
   "id": "a5a2344b",
   "metadata": {
    "lines_to_next_cell": 2
   },
   "outputs": [],
   "source": []
  },
  {
   "cell_type": "markdown",
   "id": "375525f8",
   "metadata": {},
   "source": [
    "**Answers**"
   ]
  },
  {
   "cell_type": "code",
   "execution_count": null,
   "id": "f57e41ca",
   "metadata": {},
   "outputs": [],
   "source": [
    "# %load answers/02_Selections_and_Filtering/filtering.py"
   ]
  },
  {
   "cell_type": "markdown",
   "id": "7e662218",
   "metadata": {},
   "source": [
    "<a id='m'></a>\n",
    "## Multiple conditions\n",
    "\n",
    "\n",
    "Let's have a look now at how to use multiple conditions within the same line. Aside from being more efficient to run, it is also useful as there is no need to worry about previous filters."
   ]
  },
  {
   "cell_type": "code",
   "execution_count": null,
   "id": "1af8297c",
   "metadata": {},
   "outputs": [],
   "source": [
    "(\n",
    "    chickweight\n",
    "    .loc[lambda df: (df['chick'] == 1) & (df['weight'] < 50)]\n",
    ")"
   ]
  },
  {
   "cell_type": "markdown",
   "id": "00e3b099",
   "metadata": {},
   "source": [
    "***Note the need for parentheses and the use of `&` rather than `and`?***\n",
    "\n",
    "Firstly, the **parentheses** are needed due to the order of operations, `&` always performs before comparisons like `==`, `<`, `>=` etc.\n",
    "\n",
    "**Now for `&` vs `and`...** the use of `and` can be used to test whether both expressions written are logically `True`. Eg:"
   ]
  },
  {
   "cell_type": "code",
   "execution_count": null,
   "id": "0dbf3464",
   "metadata": {},
   "outputs": [],
   "source": [
    "True and True"
   ]
  },
  {
   "cell_type": "code",
   "execution_count": null,
   "id": "ddf63c33",
   "metadata": {},
   "outputs": [],
   "source": [
    "True and False"
   ]
  },
  {
   "cell_type": "code",
   "execution_count": null,
   "id": "2b1e24ad",
   "metadata": {},
   "outputs": [],
   "source": [
    "False and True"
   ]
  },
  {
   "cell_type": "code",
   "execution_count": null,
   "id": "6f06e42b",
   "metadata": {},
   "outputs": [],
   "source": [
    "False and False"
   ]
  },
  {
   "cell_type": "markdown",
   "id": "6c61650d",
   "metadata": {},
   "source": [
    "But entire boolean mask isn't  `True` or `False`, it's a **list** of `True`/`False` values:"
   ]
  },
  {
   "cell_type": "code",
   "execution_count": null,
   "id": "d7ab30ff",
   "metadata": {},
   "outputs": [],
   "source": [
    "chickweight['chick'] == 1"
   ]
  },
  {
   "cell_type": "code",
   "execution_count": null,
   "id": "ceb585b7",
   "metadata": {},
   "outputs": [],
   "source": [
    "# # error\n",
    "# (\n",
    "#     chickweight\n",
    "#     .loc[lambda df: (df['chick'] == 1) and (df['weight'] < 50)]\n",
    "# )"
   ]
  },
  {
   "cell_type": "markdown",
   "id": "74b520c7",
   "metadata": {},
   "source": [
    "You can use `&`, the bitwise AND operation to compare each `True`/`False` in every row with multiple filters."
   ]
  },
  {
   "cell_type": "code",
   "execution_count": null,
   "id": "ba3a6ee9",
   "metadata": {
    "lines_to_next_cell": 2
   },
   "outputs": [],
   "source": [
    "(\n",
    "    chickweight\n",
    "    [[\"chick\", \"weight\"]]\n",
    "    .loc[lambda df: (df['chick'] == 1) & (df['weight'] < 50)]\n",
    ")"
   ]
  },
  {
   "cell_type": "markdown",
   "id": "a460b5a6",
   "metadata": {},
   "source": [
    "**The `&` (ampersand) only equates to <span style=color:green>True</span> if BOTH conditions are met:**"
   ]
  },
  {
   "cell_type": "markdown",
   "id": "07a7c8f3",
   "metadata": {},
   "source": [
    "![](images/02_Selections_and_Filtering/filt-and.png)"
   ]
  },
  {
   "cell_type": "code",
   "execution_count": null,
   "id": "a3cdc0ed",
   "metadata": {},
   "outputs": [],
   "source": [
    "(\n",
    "    chickweight\n",
    "    .loc[lambda df: (df['chick'] == 1) | (df['weight'] < 50)]\n",
    "    .head(15)\n",
    ")"
   ]
  },
  {
   "cell_type": "markdown",
   "id": "e8f23f9f",
   "metadata": {},
   "source": [
    "**The `|` (pipe) equates to <span style=color:green>True</span> if AT LEAST ONE condition is met:**"
   ]
  },
  {
   "cell_type": "markdown",
   "id": "fe9bb3b5",
   "metadata": {},
   "source": [
    "![](images/02_Selections_and_Filtering/filt-or.png)"
   ]
  },
  {
   "cell_type": "code",
   "execution_count": null,
   "id": "b642286d",
   "metadata": {},
   "outputs": [],
   "source": [
    "(\n",
    "    chickweight\n",
    "    .loc[lambda df: (df['chick'] == 1) ^ (df['weight'] < 50)]\n",
    "    .head(15)\n",
    ")"
   ]
  },
  {
   "cell_type": "markdown",
   "id": "e58b86e7",
   "metadata": {},
   "source": [
    "**The `^` (hat) equates to <span style=color:green>True</span> if ONLY ONE condition is met:**"
   ]
  },
  {
   "cell_type": "markdown",
   "id": "9f97e8da",
   "metadata": {},
   "source": [
    "![](images/02_Selections_and_Filtering/filt-hat.png)"
   ]
  },
  {
   "cell_type": "markdown",
   "id": "a180b979",
   "metadata": {},
   "source": [
    "<a id='e-mult'></a>\n",
    "## <mark> Exercise: Multiple conditions </mark>\n",
    "\n",
    "Select only the part of chickweight where:\n",
    "\n",
    "1. **weight** is above 50 but below 100.\n"
   ]
  },
  {
   "cell_type": "code",
   "execution_count": null,
   "id": "1eaf3b4b",
   "metadata": {},
   "outputs": [],
   "source": []
  },
  {
   "cell_type": "markdown",
   "id": "7ebb8355",
   "metadata": {},
   "source": [
    "2. **diet** is either 1 or 2.\n"
   ]
  },
  {
   "cell_type": "code",
   "execution_count": null,
   "id": "c14160a4",
   "metadata": {},
   "outputs": [],
   "source": []
  },
  {
   "cell_type": "markdown",
   "id": "f71acf89",
   "metadata": {},
   "source": [
    "3. For when weight is less than 60 and time is equal to 2, but only the weight and time columns!"
   ]
  },
  {
   "cell_type": "code",
   "execution_count": null,
   "id": "4c14354e",
   "metadata": {},
   "outputs": [],
   "source": []
  },
  {
   "cell_type": "markdown",
   "id": "971922f6",
   "metadata": {},
   "source": [
    "**Answers**"
   ]
  },
  {
   "cell_type": "code",
   "execution_count": null,
   "id": "47c73277",
   "metadata": {},
   "outputs": [],
   "source": [
    "# %load answers/02_Selections_and_Filtering/multiple_conditions.py"
   ]
  },
  {
   "cell_type": "markdown",
   "id": "6a1d6644",
   "metadata": {},
   "source": [
    "### 🔍 Filtering Data in Pandas - Quick Summary\n",
    "\n",
    "Filtering helps you **zoom in on the rows you care about**. Use `.loc[]` to select rows based on conditions.\n",
    "\n",
    "- Use comparisons to filter:\n",
    "  ```python\n",
    "  my_data.loc[lambda df: df['column'] > 50]\n",
    "  ```\n",
    "\n",
    "- Combine multiple conditions with:\n",
    "  - `&` for **AND**\n",
    "  - `|` for **OR**\n",
    "  - Wrap each condition in `()`\n",
    "    \n",
    "```python\n",
    "my_data.loc[(lambda df: df['col1'] > 50) & (lambda df: df['col2'] < 100)]\n",
    "```\n",
    "\n",
    "\n",
    "✅ Helps focus on the right data  \n",
    "✅ Supports complex logic  \n",
    "✅ Clean and readable with `lambda` + `.loc[]` combo\n",
    "\n",
    "_Filtering is all about asking good questions and using code to get the right slice of data!_\n"
   ]
  }
 ],
 "metadata": {
  "kernelspec": {
   "display_name": "Python 3 (ipykernel)",
   "language": "python",
   "name": "python3"
  },
  "language_info": {
   "codemirror_mode": {
    "name": "ipython",
    "version": 3
   },
   "file_extension": ".py",
   "mimetype": "text/x-python",
   "name": "python",
   "nbconvert_exporter": "python",
   "pygments_lexer": "ipython3",
   "version": "3.12.1"
  }
 },
 "nbformat": 4,
 "nbformat_minor": 5
}
