{
 "cells": [
  {
   "cell_type": "markdown",
   "metadata": {},
   "source": [
    "<img src=images/gdd-logo.png width=300px align=right> \n",
    "\n",
    "# Aggregation in Pandas\n",
    "\n",
    "This section covers all about aggregating with `df.groupby()`, including:\n",
    "\n",
    "* [Grouped aggregation in pandas](#grouped-agg)\n",
    "* [Single aggregations with `df.groupby()`](#groupby)\n",
    "* [Multiple aggregations with `.agg()`](#mult-aggs)\n",
    "* [<mark>Exercise: Using aggregations</mark>](#ex-aggs)\n",
    "\n",
    "Let's import pandas and load the data again, since this is a new notebook."
   ]
  },
  {
   "cell_type": "code",
   "execution_count": null,
   "metadata": {},
   "outputs": [],
   "source": [
    "import pandas as pd\n",
    "\n",
    "chickweight = (\n",
    "    pd.read_csv('data/chickweight.csv')\n",
    "    .rename(str.lower, axis='columns')\n",
    ")"
   ]
  },
  {
   "cell_type": "markdown",
   "metadata": {},
   "source": [
    "To get statistics for the data you can use methods like:\n",
    "\n",
    "* `df.describe()`: gives a selection of statistics for each numeric field\n",
    "* `df.mean()`: calculates the mean of each column or row\n",
    "* `df.max()`: calculates the max of each column or row\n",
    "* `df.min()`: calculates the min of each column or row"
   ]
  },
  {
   "cell_type": "code",
   "execution_count": null,
   "metadata": {
    "lines_to_next_cell": 2
   },
   "outputs": [],
   "source": [
    "chickweight.describe()"
   ]
  },
  {
   "cell_type": "code",
   "execution_count": null,
   "metadata": {},
   "outputs": [],
   "source": [
    "chickweight.mean()"
   ]
  },
  {
   "cell_type": "markdown",
   "metadata": {},
   "source": [
    "<a id = 'grouped-agg'></a>\n",
    "## Grouped Aggregation in Pandas\n",
    "\n",
    "However, what if you want data about specific groups of the dataset, e.g. the mean weight for diet 2. In that case you need to ***aggregate*** the data.\n",
    "\n",
    "Aggregation is the act of splitting up the original dataset to calculate statistics on sub-dataframes.\n",
    "\n",
    "<img src=\"images/03_Aggregations/split-groupby-combine.png\" width=\"440\" height=\"440\" align=\"center\"/>\n",
    "\n",
    "There are a few ways to do this in pandas:. \n",
    "\n",
    "<a id = 'groupby'></a>\n",
    "## Single aggregations\n",
    "\n",
    "To get the overall mean weight you can use:"
   ]
  },
  {
   "cell_type": "code",
   "execution_count": null,
   "metadata": {},
   "outputs": [],
   "source": [
    "(\n",
    "    chickweight\n",
    "    ['weight']\n",
    "    .mean()\n",
    ")"
   ]
  },
  {
   "cell_type": "markdown",
   "metadata": {},
   "source": [
    "But what if you want to see what the mean weight is depending on the diet the chicken was on?\n",
    "\n",
    "Then you first need to perform a `.groupby()` in order to split the data into those different diets."
   ]
  },
  {
   "cell_type": "code",
   "execution_count": null,
   "metadata": {},
   "outputs": [],
   "source": [
    "(\n",
    "    chickweight\n",
    "    .groupby('diet')\n",
    "    ['weight']\n",
    "    .mean()\n",
    ")"
   ]
  },
  {
   "cell_type": "markdown",
   "metadata": {},
   "source": [
    "### <mark>Practice: Try out groupby</mark>\n",
    "\n",
    "1. Find the minumum `weight` of the chickens at each `time` period."
   ]
  },
  {
   "cell_type": "code",
   "execution_count": null,
   "metadata": {},
   "outputs": [],
   "source": []
  },
  {
   "cell_type": "markdown",
   "metadata": {},
   "source": [
    "There are lots of statistics that can be applied to numerical columns, like:\n",
    "* `.mean()`\n",
    "* `.sum()`\n",
    "* `.min()` and `.max()`\n",
    "* `.first()`\n",
    "* `.var()`\n",
    "* `.size()`\n",
    "* `.count()`\n",
    "\n",
    "2. Try them out. What does each one do?</mark>"
   ]
  },
  {
   "cell_type": "code",
   "execution_count": null,
   "metadata": {},
   "outputs": [],
   "source": []
  },
  {
   "cell_type": "code",
   "execution_count": null,
   "metadata": {},
   "outputs": [],
   "source": [
    "# %load answers/03_Aggregations/practice-aggs.py"
   ]
  },
  {
   "cell_type": "markdown",
   "metadata": {},
   "source": [
    "<details>\n",
    "    \n",
    "  <summary><span style=\"color:blue\">Show answer</span></summary>\n",
    "  \n",
    "* `.mean()`: Return the mean of the values \n",
    "* `.sum()`: Return the sum of the values \n",
    "* `.min()` and `.max()`: Return the minimum or maximum of the values \n",
    "* `.first()`: Return the first non-null entry of each column\n",
    "* `.var()`: Return the variance of each column\n",
    "* `.size()`: Return the number of rows \n",
    "* `.count()`: Return the count of non-null entries of each column\n",
    "\n",
    "</details>"
   ]
  },
  {
   "cell_type": "markdown",
   "metadata": {},
   "source": [
    "<mark>**Question:** What happens to the index when you use groupby?</mark>"
   ]
  },
  {
   "cell_type": "raw",
   "metadata": {},
   "source": [
    "Answer:"
   ]
  },
  {
   "cell_type": "markdown",
   "metadata": {},
   "source": [
    "<details>\n",
    "    \n",
    "  <summary><span style=\"color:blue\">Show answer</span></summary>\n",
    "  \n",
    "Whatever column(s) you group on will become the new index. \n",
    "\n",
    "</details>"
   ]
  },
  {
   "cell_type": "markdown",
   "metadata": {},
   "source": [
    "You can even perform aggregations when the data is grouped by **multiple** columns:"
   ]
  },
  {
   "cell_type": "code",
   "execution_count": null,
   "metadata": {},
   "outputs": [],
   "source": [
    "(\n",
    "    chickweight\n",
    "    .groupby(['diet', 'time'])\n",
    "    .mean()\n",
    ")"
   ]
  },
  {
   "cell_type": "markdown",
   "metadata": {},
   "source": [
    "If grouping by more than one column, the indices will be nested in a _multiindex_, with the order of the list items determining the hierarchy (e.g. `['diet', 'time']` will first group by diet and then within each diet by time).\n",
    "\n",
    "To take those columns out of the index we can use the `.reset_index()` method."
   ]
  },
  {
   "cell_type": "markdown",
   "metadata": {},
   "source": [
    "<mark>**Question**: Why does the below code *not work* when you comment out `.reset_index()`?</mark>"
   ]
  },
  {
   "cell_type": "code",
   "execution_count": null,
   "metadata": {},
   "outputs": [],
   "source": [
    "(\n",
    "    chickweight\n",
    "    .groupby(['time', 'diet'])\n",
    "    .mean()\n",
    "    .reset_index()\n",
    "    .loc[lambda df: df['time'] == 10]\n",
    ")"
   ]
  },
  {
   "cell_type": "markdown",
   "metadata": {},
   "source": [
    "<details>\n",
    "    \n",
    "  <summary><span style=\"color:blue\">Show answer</span></summary>\n",
    "  \n",
    "  Because we are using a filter on the column `time` and when we perform a `.groupby()` on `time` and `diet` these columns become the index of the resulting dataframe. Therefore we cannot filter as we would if they were *normal* columns. \n",
    "    \n",
    "   When you use `.reset_index()` it resets the time and diet as columns and therefore they can be used in the filter.\n",
    "    \n",
    "    \n",
    "   Sometimes this is fine, but sometime you might want to undo this operation by resetting the index. You can use `.reset_index()` at the end to do this.\n",
    "\n",
    "   The index of a dataframe typically has different behavior than a column.\n",
    "\n",
    "</details>"
   ]
  },
  {
   "cell_type": "markdown",
   "metadata": {},
   "source": [
    "<a id = 'mult-aggs'></a>\n",
    "## Multiple aggregations with `.agg()`\n",
    "\n",
    "You can get the results for more than one aggregation by using a keyword for the name of the **output column** and a tuple to specificy the **old columns** and the **aggregator** to use. \n",
    "\n",
    "```python\n",
    "df\n",
    ".groupby('grouping_col')\n",
    ".agg(output_col = ('old_col', 'aggregator'))\n",
    "```\n",
    "\n",
    "**Example**: Find the size of `chick` and mean value for `weight` when grouped by `time`"
   ]
  },
  {
   "cell_type": "code",
   "execution_count": null,
   "metadata": {},
   "outputs": [],
   "source": [
    "(\n",
    "    chickweight\n",
    "    .groupby('time')\n",
    "    .agg(num_chickens = ('chick', 'size'), \n",
    "         weight_mean = ('weight', 'mean'),\n",
    "        )\n",
    ")"
   ]
  },
  {
   "cell_type": "markdown",
   "metadata": {},
   "source": [
    "Note: this way of aggregating became available in `pandas > 0.25`. To check your pandas version you can run the following cell:"
   ]
  },
  {
   "cell_type": "code",
   "execution_count": null,
   "metadata": {},
   "outputs": [],
   "source": [
    "pd.__version__"
   ]
  },
  {
   "cell_type": "markdown",
   "metadata": {
    "lines_to_next_cell": 0
   },
   "source": [
    "<a id = 'ex-aggs'></a>\n",
    "### <mark>Exercise: Using aggregations</mark>\n",
    "\n",
    "Determine the following aggregate information **per time period**:\n",
    "\n",
    "- maximum chick id (use the chick column)\n",
    "- median weight\n",
    "- std (standard deviation) of weight\n",
    "\n",
    "- any extras of your choice\n",
    "\n",
    "**Bonus**: Once you have performed the `.groupby()`, filter the data to only show when the median weight exceeds `150g`."
   ]
  },
  {
   "cell_type": "code",
   "execution_count": null,
   "metadata": {
    "lines_to_next_cell": 2
   },
   "outputs": [],
   "source": []
  },
  {
   "cell_type": "code",
   "execution_count": null,
   "metadata": {},
   "outputs": [],
   "source": [
    "# %load answers/03_Aggregations/ex-aggs.py"
   ]
  },
  {
   "cell_type": "markdown",
   "metadata": {},
   "source": [
    "# Conclusion\n",
    "\n",
    "You have now seen how to do a single aggregation, for example:\n",
    "\n",
    "```python\n",
    "(\n",
    "    df\n",
    "    .groupby('column')\n",
    "    .mean()\n",
    ")\n",
    "```\n",
    "\n",
    "And also that you can do multiple aggregations, with control over the output column name, for example:\n",
    "\n",
    "```python\n",
    "(\n",
    "    df\n",
    "    .groupby('column')\n",
    "    .agg(min_col = ('old_col', 'min'),\n",
    "         max_col = ('col_col', 'max')\n",
    "        )\n",
    ")\n",
    "```\n",
    "\n",
    "An important thing to note is that the pandas GroupBy object is **not a DataFrame until you perform some kind of aggregation function**. \n",
    "\n",
    "Once it is a dataframe, you can perform any DataFrame method, for example performing `.loc[]`."
   ]
  }
 ],
 "metadata": {
  "kernelspec": {
   "display_name": "Python 3 (ipykernel)",
   "language": "python",
   "name": "python3"
  },
  "language_info": {
   "codemirror_mode": {
    "name": "ipython",
    "version": 3
   },
   "file_extension": ".py",
   "mimetype": "text/x-python",
   "name": "python",
   "nbconvert_exporter": "python",
   "pygments_lexer": "ipython3",
   "version": "3.9.17"
  }
 },
 "nbformat": 4,
 "nbformat_minor": 4
}
