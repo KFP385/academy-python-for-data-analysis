{
 "cells": [
  {
   "cell_type": "markdown",
   "metadata": {},
   "source": [
    "<img src=images/gdd-logo.png width=300px align=right> \n",
    "\n",
    "# Creating New Columns\n",
    "\n",
    "Often you will want to create a new column so that you can use it at a later date.\n",
    "\n",
    "This notebook covers:\n",
    "\n",
    "* [Creating new columns: avoid common bad practice](#bad-pract)\n",
    "* [Using `assign()` to create new columns](#assign)\n",
    "    * [<mark>Exercise: Create new weight columns</mark>](#ex-weight)\n",
    "* [Shifting a column](#shifting)\n",
    "    * [<mark>Exercise: Find the differences</mark>](#ex-diff)\n",
    "* [Other methods](#other-verbs)\n",
    "    * [Calculating the difference](#diff)\n",
    "    * [Renaming columns](#rename)\n",
    "\n",
    "First of all, let's load Pandas and the dataset again:"
   ]
  },
  {
   "cell_type": "code",
   "execution_count": null,
   "metadata": {},
   "outputs": [],
   "source": [
    "import pandas as pd\n",
    "\n",
    "chickweight = (\n",
    "    pd.read_csv('data/chickweight.csv')\n",
    "    .rename(str.lower, axis='columns')\n",
    ")"
   ]
  },
  {
   "cell_type": "markdown",
   "metadata": {},
   "source": [
    "<a id='bad-pract'></a>\n",
    "## Creating new columns: avoid common bad practice\n",
    "\n",
    "Say you want to create a new column where the weight is doubled.\n",
    "\n",
    "You could use the assignment tool to create a new column as seen below."
   ]
  },
  {
   "cell_type": "code",
   "execution_count": null,
   "metadata": {},
   "outputs": [],
   "source": [
    "chickweight['weight_doubled'] = chickweight['weight'] * 2"
   ]
  },
  {
   "cell_type": "code",
   "execution_count": null,
   "metadata": {},
   "outputs": [],
   "source": [
    "chickweight.head()"
   ]
  },
  {
   "cell_type": "markdown",
   "metadata": {},
   "source": [
    "However, adding columns like this is considered bad practice, as you have modified the original dataframe.\n",
    "\n",
    "**Code should always perform in the same way regardless of where it is in the project**\n",
    "\n",
    "Imagine in your analysis you were using the code below to find the max of the second-last column (`'chick'`) of the dataframe:"
   ]
  },
  {
   "cell_type": "code",
   "execution_count": null,
   "metadata": {
    "lines_to_next_cell": 2
   },
   "outputs": [],
   "source": [
    "chickweight.iloc[:,-2].max()"
   ]
  },
  {
   "cell_type": "markdown",
   "metadata": {},
   "source": [
    "<mark>**Question:** How is `.iloc[]` different to `.loc[]`? </mark>"
   ]
  },
  {
   "cell_type": "markdown",
   "metadata": {},
   "source": [
    "<details>\n",
    "    \n",
    "  <summary><span style=\"color:blue\">Show answer</span></summary>\n",
    "  \n",
    "- `.loc[]` is label-based. This means it makes selections based on the row/column labels you provide.\n",
    "- `.iloc[]` is integer position-based. This means you specify rows and columns by their integer position values (0-based integer position).\n",
    "\n",
    "</details>"
   ]
  },
  {
   "cell_type": "markdown",
   "metadata": {},
   "source": [
    "If someone else picks up your code and doesn't realise the original dataframe was overwritten, they may get a different result."
   ]
  },
  {
   "cell_type": "code",
   "execution_count": null,
   "metadata": {
    "lines_to_next_cell": 2
   },
   "outputs": [],
   "source": [
    "chickweight = (\n",
    "    pd.read_csv('data/chickweight.csv')\n",
    "    .rename(str.lower, axis='columns')\n",
    ")"
   ]
  },
  {
   "cell_type": "code",
   "execution_count": null,
   "metadata": {},
   "outputs": [],
   "source": [
    "chickweight.iloc[:,-2].max()"
   ]
  },
  {
   "cell_type": "markdown",
   "metadata": {
    "lines_to_next_cell": 0
   },
   "source": [
    "This kind of thing can lead to Pandas frustration...\n",
    "\n",
    "<img src='images/04_Creating_Columns/panda.gif' width='300px' align='left'>"
   ]
  },
  {
   "cell_type": "markdown",
   "metadata": {},
   "source": [
    "To avoid this, you never want to overwrite your data frame.\n",
    "\n",
    "You should also avoid things like:"
   ]
  },
  {
   "cell_type": "code",
   "execution_count": null,
   "metadata": {},
   "outputs": [],
   "source": [
    "chickweight_temp = chickweight.copy()\n",
    "chickweight_temp['weight_doubled'] = chickweight_temp['weight'] * 2"
   ]
  },
  {
   "cell_type": "markdown",
   "metadata": {},
   "source": [
    "In this case you didn't overwrite the dataframe, but eventually you will end up with too many versions of a dataframe, which is not memory efficient & will also become confusing.\n",
    "\n",
    "<mark>***So what's the answer?***</mark>"
   ]
  },
  {
   "cell_type": "markdown",
   "metadata": {},
   "source": [
    "<a id='assign'></a>\n",
    "## Using `.assign()` to create new columns\n",
    "You can tell pandas to make a new column with `.assign()`, and specify **how** to to calculate with a lambda function."
   ]
  },
  {
   "cell_type": "code",
   "execution_count": null,
   "metadata": {},
   "outputs": [],
   "source": [
    "(\n",
    "    chickweight\n",
    "    .assign(weight_doubled = lambda df: df['weight'] * 2)\n",
    ").head()"
   ]
  },
  {
   "cell_type": "markdown",
   "metadata": {},
   "source": [
    "Note that the original dataframe is unchanged."
   ]
  },
  {
   "cell_type": "code",
   "execution_count": null,
   "metadata": {},
   "outputs": [],
   "source": [
    "chickweight.head()"
   ]
  },
  {
   "cell_type": "markdown",
   "metadata": {},
   "source": [
    "Want to assign two columns at the same time? No problem!"
   ]
  },
  {
   "cell_type": "code",
   "execution_count": null,
   "metadata": {},
   "outputs": [],
   "source": [
    "(\n",
    "    chickweight\n",
    "    .assign(weight_doubled = lambda df: df['weight'] * 2, \n",
    "            weight_quadrupled = lambda df: df['weight_doubled'] * 2)\n",
    ").head()"
   ]
  },
  {
   "cell_type": "markdown",
   "metadata": {},
   "source": [
    "<mark>**Question:** What are the benefits of using a lambda instead of using `weight_doubled = chickweight['weight'] * 2`?</mark>"
   ]
  },
  {
   "cell_type": "markdown",
   "metadata": {},
   "source": [
    "<details>\n",
    "    \n",
    "  <summary><span style=\"color:blue\">Show answer</span></summary>\n",
    "  \n",
    "- The code works with any dataframe that has a `weight` column.\n",
    "- If you decide to rename the `chickweight` dataframe, you don't need to change your code.\n",
    "\n",
    "</details>"
   ]
  },
  {
   "cell_type": "markdown",
   "metadata": {},
   "source": [
    "Note that you can also drop columns if required!"
   ]
  },
  {
   "cell_type": "code",
   "execution_count": null,
   "metadata": {},
   "outputs": [],
   "source": [
    "(\n",
    "    chickweight\n",
    "    .drop(columns = ['rownum', 'time'])\n",
    ").head()"
   ]
  },
  {
   "cell_type": "markdown",
   "metadata": {},
   "source": [
    "<a id=ex-weight></a>\n",
    "\n",
    "### <mark>Exercise: Make new weight columns</mark>\n",
    "\n",
    "1. Assuming that the chick weights are in grams, can you add a column that gives the chickweights in kg?\n",
    "2. In the same `.assign()`, also add the chickweights in pounds.\n",
    "\n",
    "*1000 g = 1 kg = 2.205 pounds*"
   ]
  },
  {
   "cell_type": "code",
   "execution_count": null,
   "metadata": {},
   "outputs": [],
   "source": []
  },
  {
   "cell_type": "code",
   "execution_count": null,
   "metadata": {},
   "outputs": [],
   "source": [
    "# %load answers/04_Creating_Columns/new-column.py"
   ]
  },
  {
   "cell_type": "markdown",
   "metadata": {},
   "source": [
    "<a id='diff'></a>\n",
    "\n",
    "## Finding the differences in a column\n",
    "\n",
    "Imagine you wanted to investigate the rate of growth for different diets - then the `.diff()` method will come in handy. It calculates the difference between (consecutive) rows:"
   ]
  },
  {
   "cell_type": "code",
   "execution_count": null,
   "metadata": {},
   "outputs": [],
   "source": [
    "chickweight['weight'].diff()"
   ]
  },
  {
   "cell_type": "markdown",
   "metadata": {},
   "source": [
    "### <mark>Exercise: calculate the differences</mark>\n",
    "\n",
    "1. Add a new column called `diff` to chickweight containing the differences in weight."
   ]
  },
  {
   "cell_type": "code",
   "execution_count": null,
   "metadata": {},
   "outputs": [],
   "source": []
  },
  {
   "cell_type": "markdown",
   "metadata": {},
   "source": [
    "2. Take a look at the first 15 rows of the resulting DataFrame. What issue do you see?"
   ]
  },
  {
   "cell_type": "raw",
   "metadata": {},
   "source": [
    "Answer: "
   ]
  },
  {
   "cell_type": "markdown",
   "metadata": {},
   "source": [
    "3. To fix this, you need to calculate the difference *per chicken*. In other words: inside your `.assign()`, you should groupby `chick` and then apply `.diff()` on the `weight` column.\n",
    "\n",
    "<details>\n",
    "    \n",
    "  <summary><span style=\"color:blue\">Show hint</span></summary>\n",
    "    \n",
    "The syntax of your lambda function should look like this:\n",
    "  \n",
    "`lambda df: df.groupby('col')['col2'].diff()`\n",
    "\n",
    "</details>"
   ]
  },
  {
   "cell_type": "code",
   "execution_count": null,
   "metadata": {},
   "outputs": [],
   "source": []
  },
  {
   "cell_type": "markdown",
   "metadata": {},
   "source": [
    "4. Let's what you could do to remove the missing values (NaN).\n",
    "\n",
    "   Use the following two methods after the assign. What does each one do?\n",
    "\n",
    "   1. `.dropna()`\n",
    "   2. `.fillna(0)`"
   ]
  },
  {
   "cell_type": "code",
   "execution_count": null,
   "metadata": {},
   "outputs": [],
   "source": []
  },
  {
   "cell_type": "raw",
   "metadata": {
    "lines_to_next_cell": 2
   },
   "source": [
    "A: \n",
    "B: "
   ]
  },
  {
   "cell_type": "code",
   "execution_count": null,
   "metadata": {},
   "outputs": [],
   "source": [
    "# %load answers/04_Creating_Columns/differences.py"
   ]
  },
  {
   "cell_type": "markdown",
   "metadata": {},
   "source": [
    "<details>\n",
    "    \n",
    "  <summary><span style=\"color:blue\">Show answer 2 and 4</span></summary>\n",
    "\n",
    "*Exercise 2*\n",
    "    \n",
    "The differences are not calculated by chick, so chick 2 has as first difference -165 (first weight of chick 2 - last weight of chick 1)\n",
    "    \n",
    "*Exercise 4*\n",
    "- Removes all rows where a missing exists\n",
    "- Fills missings with a 0\n",
    "\n",
    "</details>"
   ]
  },
  {
   "cell_type": "markdown",
   "metadata": {
    "lines_to_next_cell": 0
   },
   "source": [
    "<a id='other-methods'></a>\n",
    "\n",
    "## Other Methods\n",
    "\n",
    "The following methods can also be useful.\n",
    "\n",
    "### Shifting values\n",
    "\n",
    "If you're interested in shifting the values in a column up or down, you can use the `.shift()` method"
   ]
  },
  {
   "cell_type": "code",
   "execution_count": null,
   "metadata": {},
   "outputs": [],
   "source": [
    "chickweight['weight'].shift(3)"
   ]
  },
  {
   "cell_type": "markdown",
   "metadata": {},
   "source": [
    "Which can of course also be added as a column using the `.assign()` method."
   ]
  },
  {
   "cell_type": "code",
   "execution_count": null,
   "metadata": {},
   "outputs": [],
   "source": [
    "(\n",
    "    chickweight\n",
    "    .assign(differences = lambda df: df['weight'].shift(3))\n",
    ").head(15)"
   ]
  },
  {
   "cell_type": "markdown",
   "metadata": {},
   "source": [
    "<a id='rename'></a>\n",
    "### Renaming columns\n",
    "\n",
    "The `.rename()` method can be used to rename your columns. "
   ]
  },
  {
   "cell_type": "code",
   "execution_count": null,
   "metadata": {},
   "outputs": [],
   "source": [
    "(\n",
    "    chickweight\n",
    "    .rename(columns = {\"chick\": \"chicken_id\"})\n",
    "    .head(3)\n",
    ")"
   ]
  },
  {
   "cell_type": "code",
   "execution_count": null,
   "metadata": {
    "lines_to_next_cell": 2
   },
   "outputs": [],
   "source": [
    "(\n",
    "    chickweight\n",
    "    .rename(str.upper, axis = \"columns\")\n",
    "    .head(3)\n",
    ")"
   ]
  },
  {
   "cell_type": "markdown",
   "metadata": {},
   "source": [
    "# Conclusions\n",
    "\n",
    "You have now seen the `.assign()` method as the best practice way of creating new columns. Dataframes are mutable objects so it is important to be careful when creating new columns or making any changes that you don't accidentally change the original dataframe.\n",
    "\n",
    "You have also seen some extra methods like:\n",
    "- `.diff()`: Find the difference between rows\n",
    "- `.shift()`: Shift the data row-wise\n",
    "- `.rename()`: Rename columns"
   ]
  }
 ],
 "metadata": {
  "kernelspec": {
   "display_name": "Python 3 (ipykernel)",
   "language": "python",
   "name": "python3"
  },
  "language_info": {
   "codemirror_mode": {
    "name": "ipython",
    "version": 3
   },
   "file_extension": ".py",
   "mimetype": "text/x-python",
   "name": "python",
   "nbconvert_exporter": "python",
   "pygments_lexer": "ipython3",
   "version": "3.9.17"
  }
 },
 "nbformat": 4,
 "nbformat_minor": 4
}
