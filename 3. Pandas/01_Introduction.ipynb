{
 "cells": [
  {
   "cell_type": "markdown",
   "metadata": {
    "lines_to_next_cell": 0
   },
   "source": [
    "<img src=images/gdd-logo.png width=300px align=right>\n",
    "\n",
    "# Pandas introduction\n",
    "\n",
    "The next notebooks will cover how to use the `pandas` library to explore datasets.\n",
    "\n",
    "In this section we will cover:\n",
    "\n",
    "* [Pandas overview](#overview)\n",
    "* [Lambdas starter](#lambdas)\n",
    "* [Benefits of using pandas](#benefits)\n",
    "* [Data wrangling](#wrangling)\n",
    "* [<mark>Exercise: Exploratory Data Analysis</mark>](#exploring)\n",
    "    * [<mark>Exercise: Learn some key methods!</mark>](#exploring)\n",
    "    * [<mark>Exercise: Explore a dataset</mark>](#ex-explore-data)\n",
    "* [Analysis](#analysis)"
   ]
  },
  {
   "cell_type": "markdown",
   "metadata": {
    "lines_to_next_cell": 0
   },
   "source": [
    "<a id = 'lambdas'></a>\n",
    "## <mark>Exercise: Lambda Starter</mark>\n",
    "\n",
    "**Lambda functions** really start to come into their own when we use them with pandas. Therefore we need to be really comfortable with the syntax. \n",
    "\n",
    "Here is an example of a lambda function that adds 4 to a number:"
   ]
  },
  {
   "cell_type": "code",
   "execution_count": null,
   "metadata": {
    "lines_to_next_cell": 2
   },
   "outputs": [],
   "source": [
    "add_4 = lambda x: x + 4"
   ]
  },
  {
   "cell_type": "code",
   "execution_count": null,
   "metadata": {},
   "outputs": [],
   "source": [
    "add_4(10)"
   ]
  },
  {
   "cell_type": "markdown",
   "metadata": {},
   "source": [
    "This lambda function essentially does the same as if we were formally defining a function."
   ]
  },
  {
   "cell_type": "code",
   "execution_count": null,
   "metadata": {},
   "outputs": [],
   "source": [
    "def add_4(x):\n",
    "    return x + 4"
   ]
  },
  {
   "cell_type": "code",
   "execution_count": null,
   "metadata": {},
   "outputs": [],
   "source": [
    "add_4(10)"
   ]
  },
  {
   "cell_type": "markdown",
   "metadata": {},
   "source": [
    "We can also define multiple parameters in a lambda function by a separating comma:"
   ]
  },
  {
   "cell_type": "code",
   "execution_count": null,
   "metadata": {},
   "outputs": [],
   "source": [
    "add_4y = lambda x, y: x + 4*y"
   ]
  },
  {
   "cell_type": "code",
   "execution_count": null,
   "metadata": {},
   "outputs": [],
   "source": [
    "add_4y(10, y = 2)"
   ]
  },
  {
   "cell_type": "markdown",
   "metadata": {},
   "source": [
    "Now complete the following questions:\n",
    "\n",
    "1. Create a lambda function that multiplies two numbers together (and check it)"
   ]
  },
  {
   "cell_type": "code",
   "execution_count": null,
   "metadata": {
    "lines_to_next_cell": 2
   },
   "outputs": [],
   "source": []
  },
  {
   "cell_type": "markdown",
   "metadata": {},
   "source": [
    "2. Create a lambda function to check if a number is bigger than 10 (and check it)"
   ]
  },
  {
   "cell_type": "code",
   "execution_count": null,
   "metadata": {},
   "outputs": [],
   "source": []
  },
  {
   "cell_type": "markdown",
   "metadata": {},
   "source": [
    "<a id = 'overview'></a>\n",
    "## Pandas overview\n",
    "\n",
    "Pandas is a specialised package that allows you to work with tabular data using python.\n",
    "\n",
    "First you need to import the package:"
   ]
  },
  {
   "cell_type": "code",
   "execution_count": null,
   "metadata": {},
   "outputs": [],
   "source": [
    "import pandas as pd"
   ]
  },
  {
   "cell_type": "markdown",
   "metadata": {},
   "source": [
    "Then, to read in a csv file you can use:\n",
    "```python\n",
    "pd.read_csv('filepath/file.csv')\n",
    "```\n",
    "\n",
    "This notebook uses the `chickweight.csv` dataset, which is in the `data/` folder:"
   ]
  },
  {
   "cell_type": "code",
   "execution_count": null,
   "metadata": {
    "lines_to_next_cell": 2
   },
   "outputs": [],
   "source": [
    "pd.read_csv('data/chickweight.csv')"
   ]
  },
  {
   "cell_type": "markdown",
   "metadata": {},
   "source": [
    "Aside from making tables look prettier in your Jupyter notebook, there are many advantages for using the Pandas packages when working with data.\n",
    "\n",
    "<a id = 'benefits'></a>\n",
    "\n",
    "## The benefits of using Pandas (and Python)\n",
    "\n",
    "**Question:** What kind of benefits do you think you have using `pandas` to work with data?"
   ]
  },
  {
   "cell_type": "markdown",
   "metadata": {},
   "source": [
    "<details>\n",
    "    <summary><font color=blue>Show answer</font></summary>\n",
    "\n",
    "- **Automation**: You can automate otherwise tedious tasks such as merging multiple datasets.\n",
    "- **Cleaning**: Pandas allows you to automate the cleaning of your datasets.\n",
    "- **Speed**: When working with large datasets, it is much faster than tools like Excel.\n",
    "- **Filtering**: Easy to filter to find specific values\n",
    "- **Groupby**: Chunk your data set into pieces, apply a function, and place it back together\n",
    "- **Creating new columns**: Easily create new columns from calculations with other columns\n",
    "\n",
    "    \n",
    "*And much more!*"
   ]
  },
  {
   "cell_type": "markdown",
   "metadata": {},
   "source": [
    "</details>\n",
    "\n",
    "\n",
    "<a id = 'wrangling'></a>\n",
    "\n",
    "## Data wrangling with Pandas\n",
    "\n",
    "**Data Wrangling** is the process of transforming and mapping data, with the intent of making it more appropriate and valuable for a variety of downstream purposes such as for dashboards or analytics.\n",
    "\n",
    "To demonstrate pandas' capabilities, let's load the `chickweight.csv` dataset."
   ]
  },
  {
   "cell_type": "code",
   "execution_count": null,
   "metadata": {},
   "outputs": [],
   "source": [
    "chickweight = pd.read_csv('data/chickweight.csv').rename(str.lower, axis='columns')\n",
    "\n",
    "chickweight.head()"
   ]
  },
  {
   "cell_type": "markdown",
   "metadata": {},
   "source": [
    "<a id = 'exploring'></a>\n",
    "## <mark> Exercise: Exploratory Data Analysis</mark>\n",
    "\n",
    "### <mark>Part 1: Learn some key attributes/methods!</mark>\n",
    "\n",
    "Fill in the comments to explain what each cell does **in your own words**. \n",
    "\n",
    "You can use `help(pd.DataFrame.X)` to access the documentation for the attribute/method. For example,\n",
    "\n",
    "```python\n",
    "help(chickweight.info)\n",
    "```\n",
    "\n",
    "The first one is done for you."
   ]
  },
  {
   "cell_type": "code",
   "execution_count": null,
   "metadata": {
    "lines_to_next_cell": 2
   },
   "outputs": [],
   "source": [
    "# the shape attribute... gives the number of rows and number of columns\n",
    "chickweight.shape"
   ]
  },
  {
   "cell_type": "code",
   "execution_count": null,
   "metadata": {
    "lines_to_next_cell": 2
   },
   "outputs": [],
   "source": [
    "# the info method...\n",
    "chickweight.info()"
   ]
  },
  {
   "cell_type": "code",
   "execution_count": null,
   "metadata": {
    "lines_to_next_cell": 2
   },
   "outputs": [],
   "source": [
    "# the descibe method...\n",
    "chickweight.describe()"
   ]
  },
  {
   "cell_type": "code",
   "execution_count": null,
   "metadata": {
    "lines_to_next_cell": 2
   },
   "outputs": [],
   "source": [
    "# the index columns...\n",
    "chickweight.columns"
   ]
  },
  {
   "cell_type": "code",
   "execution_count": null,
   "metadata": {
    "lines_to_next_cell": 2
   },
   "outputs": [],
   "source": [
    "# the head method...\n",
    "chickweight.head()"
   ]
  },
  {
   "cell_type": "code",
   "execution_count": null,
   "metadata": {
    "lines_to_next_cell": 2
   },
   "outputs": [],
   "source": [
    "# the tail method...\n",
    "chickweight.tail()"
   ]
  },
  {
   "cell_type": "code",
   "execution_count": null,
   "metadata": {
    "lines_to_next_cell": 2
   },
   "outputs": [],
   "source": [
    "# the sample method...\n",
    "chickweight.sample(5)"
   ]
  },
  {
   "cell_type": "code",
   "execution_count": null,
   "metadata": {
    "lines_to_next_cell": 2
   },
   "outputs": [],
   "source": [
    "# you can use square brackets to...\n",
    "chickweight['diet']"
   ]
  },
  {
   "cell_type": "code",
   "execution_count": null,
   "metadata": {
    "lines_to_next_cell": 2
   },
   "outputs": [],
   "source": [
    "# the unique method...\n",
    "chickweight['diet'].unique()"
   ]
  },
  {
   "cell_type": "code",
   "execution_count": null,
   "metadata": {},
   "outputs": [],
   "source": [
    "# the value_counts method...\n",
    "chickweight['diet'].value_counts()"
   ]
  },
  {
   "cell_type": "code",
   "execution_count": null,
   "metadata": {},
   "outputs": [],
   "source": [
    "# the mean method...\n",
    "chickweight.mean()"
   ]
  },
  {
   "cell_type": "markdown",
   "metadata": {},
   "source": [
    "<a id = 'ex-explore-data'></a>\n",
    "### <mark>Part 2: Explore a dataset</mark>\n",
    "Investigate the `weight` and `time` columns of the dataframe.\n",
    "\n",
    "1. How many different unique values for `time` are there? What do you think time represents in this dataframe?"
   ]
  },
  {
   "cell_type": "code",
   "execution_count": null,
   "metadata": {},
   "outputs": [],
   "source": []
  },
  {
   "cell_type": "markdown",
   "metadata": {},
   "source": [
    "2. What are the min & max of the time and weight column?"
   ]
  },
  {
   "cell_type": "code",
   "execution_count": null,
   "metadata": {
    "lines_to_next_cell": 2
   },
   "outputs": [],
   "source": []
  },
  {
   "cell_type": "markdown",
   "metadata": {},
   "source": [
    "**Bonus:** What is the most common (i.e the mode) weight of a chicken?"
   ]
  },
  {
   "cell_type": "code",
   "execution_count": null,
   "metadata": {},
   "outputs": [],
   "source": []
  },
  {
   "cell_type": "markdown",
   "metadata": {},
   "source": [
    "### Answers\n",
    "\n",
    "\n",
    "<details>\n",
    "    <summary><font style=font-weight:bold>Part 1:</font>\n",
    "        <font color=blue>Show answer</font></summary>\n",
    "  \n",
    "Using exploration includes:\n",
    "\n",
    "* Checking the shape (`df.shape`) of the dataframe\n",
    "* The length (`len(df)`) of the dataframe\n",
    "* General information (`df.info()`) of the dataframe & columns\n",
    "* Averages of each numeric column (`df.describe()`)\n",
    "* The column names (`df.columns`)\n",
    "* Fetching the first/last or a sample of a few rows (`.head()` `df.sample()` `df.tail()`)\n",
    "* Selecting one (or more) columns (`df['column_name']`)\n",
    "* Fetching the unique values of a column (`df['column_name'].unique()`)\n",
    "* Summing the amount of unique values of a column (`df['column_name'].value_counts()`)\n",
    "\n",
    "</details>\n",
    "\n",
    "\n",
    "**Part 2:** Uncomment (remove the `# `) and run the cell to see the solution."
   ]
  },
  {
   "cell_type": "code",
   "execution_count": null,
   "metadata": {},
   "outputs": [],
   "source": [
    "# %load answers/01_Introduction/ex-explore-data-1.py"
   ]
  },
  {
   "cell_type": "code",
   "execution_count": null,
   "metadata": {},
   "outputs": [],
   "source": [
    "# %load answers/01_Introduction/ex-explore-data-2.py"
   ]
  },
  {
   "cell_type": "code",
   "execution_count": null,
   "metadata": {},
   "outputs": [],
   "source": [
    "# %load answers/01_Introduction/ex-explore-data-3.py"
   ]
  },
  {
   "cell_type": "markdown",
   "metadata": {},
   "source": [
    "<a id = 'analysis'></a>\n",
    "## Analysis\n",
    "\n",
    "### What analysis could you do? \n",
    "\n",
    "\n",
    "<img src=\"images/01_Introduction/chick.png\" width=\"240\" height=\"240\" align=\"center\"/>\n",
    "\n",
    "Imagine that you own a farm and have this dataset available.\n",
    "\n",
    "Now you have a feel for the dataset, what could you do with it?"
   ]
  },
  {
   "cell_type": "code",
   "execution_count": null,
   "metadata": {
    "lines_to_next_cell": 2
   },
   "outputs": [],
   "source": [
    "chickweight.head()"
   ]
  },
  {
   "cell_type": "markdown",
   "metadata": {},
   "source": [
    "### Potential areas for analysis:\n",
    "\n",
    "Some questions you might want to answer are:"
   ]
  },
  {
   "cell_type": "raw",
   "metadata": {},
   "source": [
    "1. Which diet is best for our chickens?\n",
    "2. How quickly do our chickens grow over time?\n",
    "3. Which chickens are the best growers?\n",
    "4. Can we predict how much a chicken will grow depending on diet and starting weight?"
   ]
  },
  {
   "cell_type": "markdown",
   "metadata": {},
   "source": [
    "The main use case could be to figure out which diet is best, but it is good to think about some of the other use cases. "
   ]
  }
 ],
 "metadata": {
  "kernelspec": {
   "display_name": "Python 3 (ipykernel)",
   "language": "python",
   "name": "python3"
  },
  "language_info": {
   "codemirror_mode": {
    "name": "ipython",
    "version": 3
   },
   "file_extension": ".py",
   "mimetype": "text/x-python",
   "name": "python",
   "nbconvert_exporter": "python",
   "pygments_lexer": "ipython3",
   "version": "3.12.1"
  }
 },
 "nbformat": 4,
 "nbformat_minor": 4
}
