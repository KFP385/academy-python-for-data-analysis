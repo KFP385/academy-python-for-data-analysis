{
 "cells": [
  {
   "cell_type": "markdown",
   "metadata": {},
   "source": [
    "<img src=images/gdd-logo.png width=300px align=right> \n",
    "\n",
    "# Creating New Columns\n",
    "\n",
    "Often you will want to create a new column so that you can use it at a later date.\n",
    "\n",
    "This notebook covers:\n",
    "\n",
    "* [Creating new columns: avoid common bad practice](#bad-pract)\n",
    "* [Using `assign()` to create new columns](#assign)\n",
    "    * [<mark>Exercise: Create new weight columns</mark>](#ex-weight)\n",
    "* [Shifting a column](#shifting)\n",
    "    * [<mark>Exercise: Find the differences</mark>](#ex-diff)\n",
    "* [Other methods](#other-verbs)\n",
    "    * [Calculating the difference](#diff)\n",
    "    * [Renaming columns](#rename)\n",
    "\n",
    "First of all, let's load Pandas and the dataset again:"
   ]
  },
  {
   "cell_type": "code",
   "execution_count": null,
   "metadata": {},
   "outputs": [],
   "source": [
    "import pandas as pd\n",
    "\n",
    "chickweight = pd.read_csv('data/chickweight.csv').rename(str.lower, axis='columns')"
   ]
  },
  {
   "cell_type": "markdown",
   "metadata": {},
   "source": [
    "## A note on style...\n",
    "\n",
    "When reading the chickweight data in, the columns are being renamed straight away. Now you can see multiple functions and methods being executed and chained together.\n",
    "\n",
    "Chaining methods allows you to do multiple things at once, not just renaming columns but also adding columns, filtering rows, aggregating data. Therefore your coding lines are going to become very long.\n",
    "\n",
    "For this reason, it is best to add brackets around you code, so that you can use multiple lines. Note that you cannot write Python on multiple lines unless it is in some form of brackets!"
   ]
  },
  {
   "cell_type": "code",
   "execution_count": null,
   "metadata": {},
   "outputs": [],
   "source": [
    "chickweight = (\n",
    "    pd.read_csv('data/chickweight.csv')\n",
    "    .rename(str.lower, axis='columns') # add a new line at each new method \n",
    ")"
   ]
  },
  {
   "cell_type": "markdown",
   "metadata": {},
   "source": [
    "<a id='bad-pract'></a>\n",
    "## Creating new columns: avoid common bad practice\n",
    "\n",
    "First let's add a piece of code that explains something about the data:"
   ]
  },
  {
   "cell_type": "code",
   "execution_count": null,
   "metadata": {},
   "outputs": [],
   "source": [
    "print(\"There are\", chickweight.shape[1], \"rows in the DataFrame\")"
   ]
  },
  {
   "cell_type": "markdown",
   "metadata": {},
   "source": [
    "Now say you want to create a new column where the weight is doubled.\n",
    "\n",
    "You could use the assignment tool to create a new column as seen below."
   ]
  },
  {
   "cell_type": "code",
   "execution_count": null,
   "metadata": {},
   "outputs": [],
   "source": [
    "chickweight['weight_doubled'] = chickweight['weight'] * 2"
   ]
  },
  {
   "cell_type": "code",
   "execution_count": null,
   "metadata": {},
   "outputs": [],
   "source": [
    "chickweight.head()"
   ]
  },
  {
   "cell_type": "markdown",
   "metadata": {},
   "source": [
    "However, adding columns like this is considered bad practice, as you have modified the original dataframe.\n",
    "\n",
    "**Code should always perform in the same way regardless of where it is in the project**\n",
    "\n",
    "Let's rerun that same code from the cell above. Does the output change?"
   ]
  },
  {
   "cell_type": "code",
   "execution_count": null,
   "metadata": {
    "lines_to_next_cell": 2
   },
   "outputs": [],
   "source": [
    "print(\"There are\", chickweight.shape[1], \"rows in the DataFrame\")"
   ]
  },
  {
   "attachments": {},
   "cell_type": "markdown",
   "metadata": {},
   "source": [
    "Now reports are stating something different about this data. This is going to cause confusion with regards to which data is being used and how it has been edited along the way, leading to Pandas frustration...\n",
    "\n",
    "<img src='images/04_Creating_Columns/panda.gif' width='300px' align='left'>"
   ]
  },
  {
   "cell_type": "markdown",
   "metadata": {},
   "source": [
    "To avoid this, you **do not want to overwrite your data frame.** This is a philosophy that is being adopted more and more, and being built into pandas itself.\n",
    "\n",
    "***Thought experiment: \"Ok so how about I just copy the DataFrame and make the changes I need\"***"
   ]
  },
  {
   "cell_type": "code",
   "execution_count": null,
   "metadata": {},
   "outputs": [],
   "source": [
    "chickweight_temp = chickweight.copy()\n",
    "chickweight_temp['weight_doubled'] = chickweight_temp['weight'] * 2"
   ]
  },
  {
   "cell_type": "markdown",
   "metadata": {},
   "source": [
    "<details>\n",
    "    <summary><font color=blue>How could this lead to issues?</font></summary>\n",
    "\n",
    "In this case you didn't overwrite the dataframe, but you may end up with too many versions of a dataframe, which is not memory efficient & will also become confusing.\n",
    "\n",
    "</details>"
   ]
  },
  {
   "cell_type": "markdown",
   "metadata": {},
   "source": [
    "<mark>***So what's the answer?***</mark>"
   ]
  },
  {
   "cell_type": "markdown",
   "metadata": {},
   "source": [
    "<a id='assign'></a>\n",
    "## Using `.assign()` to create new columns\n",
    "You can tell pandas to make a new column with `.assign()`, and specify **how** to to calculate with a lambda function."
   ]
  },
  {
   "cell_type": "code",
   "execution_count": null,
   "metadata": {},
   "outputs": [],
   "source": [
    "(\n",
    "    chickweight\n",
    "    .assign(weight_doubled = chickweight['weight'] * 2)\n",
    ").head()"
   ]
  },
  {
   "cell_type": "markdown",
   "metadata": {},
   "source": [
    "Note that the original dataframe is unchanged."
   ]
  },
  {
   "cell_type": "code",
   "execution_count": null,
   "metadata": {},
   "outputs": [],
   "source": [
    "chickweight.head()"
   ]
  },
  {
   "cell_type": "markdown",
   "metadata": {},
   "source": [
    "But how can you use this new column? For example - creating a new column called weight_quadrupled. The below would cause an error:"
   ]
  },
  {
   "cell_type": "code",
   "execution_count": null,
   "metadata": {},
   "outputs": [],
   "source": [
    "(\n",
    "    chickweight\n",
    "    .assign(weight_doubled = chickweight['weight'] * 2)\n",
    "    .assign(weight_doubled = chickweight['weight_doubled'] * 2)\n",
    ").head()"
   ]
  },
  {
   "cell_type": "markdown",
   "metadata": {},
   "source": [
    "This is where the anonymous function `lambda` can come into play! \n",
    "\n",
    "Let's make a lambda function with a `DataFrame` as its argument. Typically \"nameless\" DataFrames get given the shorthand `df`."
   ]
  },
  {
   "cell_type": "code",
   "execution_count": null,
   "metadata": {},
   "outputs": [],
   "source": [
    "my_lambda_function = lambda df: df['weight_doubled'] * 2"
   ]
  },
  {
   "cell_type": "markdown",
   "metadata": {},
   "source": [
    "Calling this lambda function looks like this:"
   ]
  },
  {
   "cell_type": "code",
   "execution_count": null,
   "metadata": {},
   "outputs": [],
   "source": [
    "my_lambda_function(chickweight)"
   ]
  },
  {
   "cell_type": "markdown",
   "metadata": {},
   "source": [
    "Now this logic can be used inside of the assign method:"
   ]
  },
  {
   "cell_type": "code",
   "execution_count": null,
   "metadata": {},
   "outputs": [],
   "source": [
    "(\n",
    "    chickweight\n",
    "    .assign(weight_doubled = chickweight['weight'] * 2)\n",
    "    .assign(weight_doubled = lambda df: df['weight_doubled'] * 2)\n",
    ").head()"
   ]
  },
  {
   "cell_type": "markdown",
   "metadata": {},
   "source": [
    "It can even be added to the same assign method, as long as it is being added after `weight_doubled` is created."
   ]
  },
  {
   "cell_type": "code",
   "execution_count": null,
   "metadata": {},
   "outputs": [],
   "source": [
    "(\n",
    "    chickweight\n",
    "    .assign(weight_doubled = chickweight['weight'] * 2, \n",
    "            weight_quadrupled = lambda df: df['weight_doubled'] * 2)\n",
    ").head()"
   ]
  },
  {
   "cell_type": "markdown",
   "metadata": {},
   "source": [
    "In fact, for the sake of consistency and scalability, using a lambda function is always recommended:"
   ]
  },
  {
   "cell_type": "code",
   "execution_count": null,
   "metadata": {},
   "outputs": [],
   "source": [
    "(\n",
    "    chickweight\n",
    "    .assign(weight_doubled = lambda df: df['weight'] * 2, \n",
    "            weight_quadrupled = lambda df: df['weight_doubled'] * 2)\n",
    ").head()"
   ]
  },
  {
   "cell_type": "markdown",
   "metadata": {},
   "source": [
    "<a id=ex-weight></a>\n",
    "\n",
    "### <mark>Exercise: Make new weight columns</mark>\n",
    "\n",
    "1. Assuming that the chick weights are in grams, can you add a column that gives the chickweights in kg?\n",
    "2. In the same `.assign()`, also add the chickweights in pounds.\n",
    "\n",
    "*1000 g = 1 kg = 2.205 pounds*"
   ]
  },
  {
   "cell_type": "code",
   "execution_count": null,
   "metadata": {},
   "outputs": [],
   "source": []
  },
  {
   "cell_type": "code",
   "execution_count": null,
   "metadata": {},
   "outputs": [],
   "source": [
    "# %load answers/04_Creating_Columns/new-column.py"
   ]
  },
  {
   "cell_type": "markdown",
   "metadata": {},
   "source": [
    "## Dropping columns"
   ]
  },
  {
   "cell_type": "markdown",
   "metadata": {},
   "source": [
    "Note that you can also drop columns if required!"
   ]
  },
  {
   "cell_type": "code",
   "execution_count": null,
   "metadata": {},
   "outputs": [],
   "source": [
    "(\n",
    "    chickweight\n",
    "    .drop(columns = ['rownum', 'time'])\n",
    ").head()"
   ]
  },
  {
   "cell_type": "markdown",
   "metadata": {},
   "source": [
    "# Conclusion\n",
    "\n",
    "The `.assign()` method is best practice when it comes to creating new columns. Dataframes **are mutable objects** so it is important to be careful when creating new columns or making any changes that you don't accidentally change the original dataframe."
   ]
  }
 ],
 "metadata": {
  "kernelspec": {
   "display_name": "Python 3 (ipykernel)",
   "language": "python",
   "name": "python3"
  },
  "language_info": {
   "codemirror_mode": {
    "name": "ipython",
    "version": 3
   },
   "file_extension": ".py",
   "mimetype": "text/x-python",
   "name": "python",
   "nbconvert_exporter": "python",
   "pygments_lexer": "ipython3",
   "version": "3.12.1"
  }
 },
 "nbformat": 4,
 "nbformat_minor": 4
}
