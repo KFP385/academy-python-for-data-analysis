{
 "cells": [
  {
   "cell_type": "markdown",
   "metadata": {},
   "source": [
    "<img src=../images/gdd-logo.png width=300px align=right>\n",
    "\n",
    "# Combining Datasets\n",
    "\n",
    "In this notebook we'll ways to combine datasets: concatenating, merging and joining.\n",
    "\n",
    "- [Concatenating datasets](#c)\n",
    "    - <mark>[Exercise: Concatenating](#e0) </mark>\n",
    "- [Merging datasets](#mj)\n",
    "    - <mark>[Assignment](#e1) </mark>\n",
    "\n",
    "<a id='c'></a>\n",
    "## Concatenating datasets\n",
    "\n",
    "This time, let's imagine you didn't recieve the `chickweight` dataset in its entirety. \n",
    "\n",
    "Instead you recieve **four separate datasets**, one for each diet."
   ]
  },
  {
   "cell_type": "code",
   "execution_count": null,
   "metadata": {},
   "outputs": [],
   "source": [
    "import pandas as pd"
   ]
  },
  {
   "cell_type": "code",
   "execution_count": null,
   "metadata": {},
   "outputs": [],
   "source": [
    "diet_1 = pd.read_csv('../data/diet_1.csv')\n",
    "diet_2 = pd.read_csv('../data/diet_2.csv')\n",
    "diet_3 = pd.read_csv('../data/diet_3.csv')\n",
    "diet_4 = pd.read_csv('../data/diet_4.csv')"
   ]
  },
  {
   "cell_type": "markdown",
   "metadata": {},
   "source": [
    "You can see from the below that the dataframe `diet_1` has in fact only got information where `diet` is equal to 1."
   ]
  },
  {
   "cell_type": "code",
   "execution_count": null,
   "metadata": {},
   "outputs": [],
   "source": [
    "diet_1['diet'].unique()"
   ]
  },
  {
   "cell_type": "markdown",
   "metadata": {},
   "source": [
    "To recreate the `chickweight` dataset, you would need to **vertically stack** these datasets on top of one another to do so. \n",
    "\n",
    "The `pd.concat()` method can be used to do this."
   ]
  },
  {
   "cell_type": "code",
   "execution_count": null,
   "metadata": {},
   "outputs": [],
   "source": [
    "chickweight_concat = pd.concat([diet_1, diet_2, diet_3, diet_4])\n",
    "chickweight_concat['diet'].unique()"
   ]
  },
  {
   "cell_type": "markdown",
   "metadata": {},
   "source": [
    "<a id='e0'></a>\n",
    "## <mark> Exercise: Concatenating </mark>\n",
    "\n",
    "1. The above results in the our original dataset, but the indexes are not the same if you read the full data in. Alter the code so that the resulting index is the default value `0 - 578`\n",
    "\n",
    "<details>\n",
    "<summary><font style=\"color:blue;font-weight:bold\">SHOW HINT</font></summary>\n",
    "  \n",
    "There are two ways to do this:\n",
    "    \n",
    "1. Use the method `.reset_index()` on the resulting DataFrame.\n",
    "2. Use a parameter in the [pd.concat](https://pandas.pydata.org/pandas-docs/stable/reference/api/pandas.concat.html)\n",
    "    \n",
    "</details>"
   ]
  },
  {
   "cell_type": "code",
   "execution_count": null,
   "metadata": {},
   "outputs": [],
   "source": []
  },
  {
   "cell_type": "markdown",
   "metadata": {},
   "source": [
    "2. Concatenate `diet_1` and `diet_2` together horizontally. Why do we get the missing `NaN` values?\n",
    "\n",
    "<details>\n",
    "<summary><font style=\"color:blue;font-weight:bold\">SHOW HINT</font></summary>\n",
    "  \n",
    "You will need to use the `axis=` parameter to specify you want to concatenate across the columns (horizontally).\n",
    "    \n",
    "</details>"
   ]
  },
  {
   "cell_type": "code",
   "execution_count": null,
   "metadata": {},
   "outputs": [],
   "source": []
  },
  {
   "cell_type": "markdown",
   "metadata": {},
   "source": [
    "**Answers**: Uncomment and run the following to see an answer."
   ]
  },
  {
   "cell_type": "code",
   "execution_count": null,
   "metadata": {},
   "outputs": [],
   "source": [
    "# %load ../answers/Combining_Datasets/ex-concat-1.py"
   ]
  },
  {
   "cell_type": "code",
   "execution_count": null,
   "metadata": {},
   "outputs": [],
   "source": [
    "# %load ../answers/Combining_Datasets/ex-concat-2.py"
   ]
  },
  {
   "cell_type": "markdown",
   "metadata": {},
   "source": [
    "### Adding extra information \n",
    "\n",
    "Concatenation is the act of putting two datasets together, either on top of one another or side-by-side. \n",
    "\n",
    "Now you will see how to merge data in, for example if you have some new data about the names of the diets:"
   ]
  },
  {
   "cell_type": "code",
   "execution_count": null,
   "metadata": {},
   "outputs": [],
   "source": [
    "diet_names = pd.read_csv('../data/diet_names.csv')\n",
    "diet_names"
   ]
  },
  {
   "cell_type": "markdown",
   "metadata": {},
   "source": [
    "You may want to add this information to the original data:"
   ]
  },
  {
   "cell_type": "code",
   "execution_count": null,
   "metadata": {},
   "outputs": [],
   "source": [
    "chickweight = (\n",
    "    pd.read_csv('../data/chickweight.csv') \n",
    "      .rename(str.lower, axis='columns')\n",
    ")"
   ]
  },
  {
   "cell_type": "markdown",
   "metadata": {},
   "source": [
    "If you do this with the `pd.concat()` function, you notice that the output is not what you might expect."
   ]
  },
  {
   "cell_type": "code",
   "execution_count": null,
   "metadata": {},
   "outputs": [],
   "source": [
    "pd.concat([chickweight, diet_names], axis=1)"
   ]
  },
  {
   "cell_type": "markdown",
   "metadata": {},
   "source": [
    "<mark>**Question:** Why do you get the above dataframe as a result?</mark>"
   ]
  },
  {
   "cell_type": "markdown",
   "metadata": {},
   "source": [
    "<details>\n",
    "    <summary><font color=blue>Show answer</font></summary>\n",
    "  \n",
    "The concatenation occurs on the indexes of the two input dataframes. The index on the `diet_names` only goes up to `3`, where in `chickweight` goes up to `578`.\n",
    "    \n",
    "When concatenating it matches the same index values to one another. \n",
    "    \n",
    "</details>"
   ]
  },
  {
   "cell_type": "markdown",
   "metadata": {},
   "source": [
    "Instead for each value of diet you want to merge on the corresponding diet name.\n",
    "\n",
    "This is where the **merge** function comes in."
   ]
  },
  {
   "cell_type": "markdown",
   "metadata": {},
   "source": [
    "----\n",
    "<img src=\"../images/06_Combining_Datasets/join.png\" width=\"200\" height=\"240\" align=\"right\"/>\n",
    "\n",
    "<a id='mj'></a>\n",
    "## Merging DataFrames\n",
    "\n",
    "Merging DataFrames is the process of combining two or more similar DataFrames into a single one. \n",
    "\n",
    "Merging can be used to add or append variables to a dataset to add information to a DataFrame that exists in another DataFrame."
   ]
  },
  {
   "cell_type": "markdown",
   "metadata": {},
   "source": [
    "For example, to **merge** on the diet names, you can use the `pd.merge()` function specifying:\n",
    "- The names of the DataFrames: `chickweight`, `diet_names`\n",
    "- On which column to perform the merge from the **left** and **right** dataframes*\n",
    "\n",
    "*Note: The left DataFrame is the first argument."
   ]
  },
  {
   "cell_type": "code",
   "execution_count": null,
   "metadata": {},
   "outputs": [],
   "source": [
    "pd.merge(\n",
    "    chickweight,\n",
    "    diet_names, \n",
    "    left_on=\"diet\",\n",
    "    right_on='diet_id'\n",
    ")"
   ]
  },
  {
   "cell_type": "markdown",
   "metadata": {},
   "source": [
    "Note how there are two diet columns that specify the diet ID numbers. That is because the names of the columns are different. Look what happens if you rename the column before the merge:"
   ]
  },
  {
   "cell_type": "code",
   "execution_count": null,
   "metadata": {},
   "outputs": [],
   "source": [
    "pd.merge(\n",
    "    chickweight.rename(columns={'diet': 'diet_id'}),\n",
    "    diet_names, \n",
    "    left_on='diet_id',\n",
    "    right_on='diet_id'\n",
    ")"
   ]
  },
  {
   "cell_type": "markdown",
   "metadata": {},
   "source": [
    "Note that it is not necessary to specify which column you merge on from the left and right since the column names are now same.\n",
    "\n",
    "Instead you can use the keyword `on=` and use the column named `diet_id`. "
   ]
  },
  {
   "cell_type": "code",
   "execution_count": null,
   "metadata": {},
   "outputs": [],
   "source": [
    "pd.merge(\n",
    "    chickweight.rename(columns={'diet': 'diet_id'}),\n",
    "    diet_names, \n",
    "    on='diet_id'\n",
    ")"
   ]
  },
  {
   "cell_type": "markdown",
   "metadata": {},
   "source": [
    "A good thing to consider is what happens when you have two columns that have the same name, which **are not** the column on which to perform the merge. \n",
    "\n",
    "To demonstrate, imagine if there was a column in the diet_names DataFrame that was also called `weight`, which specified the amount of feed you receive in a bag of the chicken feed brand."
   ]
  },
  {
   "cell_type": "code",
   "execution_count": null,
   "metadata": {},
   "outputs": [],
   "source": [
    "diet_names = (\n",
    "    diet_names\n",
    "    .assign(weight = ['1400g', '1500g', '1350g', '1450g'])\n",
    ")\n",
    "\n",
    "diet_names"
   ]
  },
  {
   "cell_type": "markdown",
   "metadata": {},
   "source": [
    "What would happen now there are two columns with the same name?"
   ]
  },
  {
   "cell_type": "code",
   "execution_count": null,
   "metadata": {},
   "outputs": [],
   "source": [
    "pd.merge(\n",
    "    chickweight.rename(columns={'diet': 'diet_id'}),\n",
    "    diet_names, \n",
    "    on='diet_id'\n",
    ").head()"
   ]
  },
  {
   "cell_type": "markdown",
   "metadata": {},
   "source": [
    "Notice that the columns have a suffix. You can control this with the keyword `suffixes=` where the argument is a list of the suffixes you want to use in order of the DataFrames you have passed in previously."
   ]
  },
  {
   "cell_type": "code",
   "execution_count": null,
   "metadata": {},
   "outputs": [],
   "source": [
    "pd.merge(\n",
    "    chickweight.rename(columns={'diet': 'diet_id'}),\n",
    "    diet_names, \n",
    "    on='diet_id',\n",
    "    suffixes=['_chick', '_feed']\n",
    ").head()"
   ]
  },
  {
   "cell_type": "markdown",
   "metadata": {},
   "source": [
    "<a id='e1'></a>\n",
    "## <mark> Assignment : Find the fattest chicken per diet</mark>\n",
    "\n",
    "1. Use the `.groupby()` method to find the max chick per diet.\n",
    "2. merge this information to the original chickweight dataset.\n",
    "3. Find the fattest chickwen per diet by identifying when the value in the weight column is equal to the value in your new column\n"
   ]
  },
  {
   "cell_type": "code",
   "execution_count": null,
   "metadata": {},
   "outputs": [],
   "source": []
  },
  {
   "cell_type": "code",
   "execution_count": null,
   "metadata": {},
   "outputs": [],
   "source": [
    "# %load ../answers/Combining_Datasets/ex-fattest-chick-merge.py"
   ]
  }
 ],
 "metadata": {
  "kernelspec": {
   "display_name": "Python 3 (ipykernel)",
   "language": "python",
   "name": "python3"
  },
  "language_info": {
   "codemirror_mode": {
    "name": "ipython",
    "version": 3
   },
   "file_extension": ".py",
   "mimetype": "text/x-python",
   "name": "python",
   "nbconvert_exporter": "python",
   "pygments_lexer": "ipython3",
   "version": "3.9.12"
  }
 },
 "nbformat": 4,
 "nbformat_minor": 2
}
