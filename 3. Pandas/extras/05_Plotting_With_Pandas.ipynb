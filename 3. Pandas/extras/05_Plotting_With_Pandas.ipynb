{
 "cells": [
  {
   "cell_type": "markdown",
   "metadata": {},
   "source": [
    "<img src=../images/gdd-logo.png width=300px align=right>\n",
    "\n",
    "# Plotting in Pandas\n",
    "\n",
    "A great feature of Pandas is that it is really easy to make plots and visualisation directly from the dataframes."
   ]
  },
  {
   "cell_type": "code",
   "execution_count": null,
   "metadata": {},
   "outputs": [],
   "source": [
    "import pandas as pd"
   ]
  },
  {
   "cell_type": "markdown",
   "metadata": {},
   "source": [
    "- [Pandas Plots](#1)\n",
    "    - [<mark> Exercise: line </mark>](#line)\n",
    "    - [<mark> Exercise: bar </mark>](#bar)   \n",
    "- [Further Customisation](#2)\n",
    "- [Advanced Pandas Plots](#3)\n",
    "    - [<mark> Exercise: Growth for diet 1 </mark>](#diet1)  \n",
    "    - [<mark> Assignment </mark>](#assignment)  "
   ]
  },
  {
   "cell_type": "markdown",
   "metadata": {},
   "source": [
    "<a id='1' ></a>\n",
    "## Pandas Plots"
   ]
  },
  {
   "cell_type": "markdown",
   "metadata": {},
   "source": [
    "You can use the [`.plot()`](https://pandas.pydata.org/pandas-docs/version/0.23.4/generated/pandas.DataFrame.plot.html) method on a DataFrame to create plot, e.g.\n",
    "\n",
    "    *dataframe*.plot(x = ..., y =..., kind =..., ...)\n",
    "    \n",
    "The `.plot()` method takes several optional parameters. Most notably the *kind* parameter, which accepts eleven different string values and determines which kind of plot you’ll create:\n",
    "\n",
    "1. \"area\" is for area plots.\n",
    "2. \"bar\" is for vertical bar charts.\n",
    "3. \"barh\" is for horizontal bar charts.\n",
    "4. \"box\" is for box plots.\n",
    "5. \"hexbin\" is for hexbin plots.\n",
    "6. \"hist\" is for histograms.\n",
    "7. \"kde\" is for kernel density estimate charts.\n",
    "8. \"density\" is an alias for \"kde\".\n",
    "9. \"line\" is for line graphs.\n",
    "10. \"pie\" is for pie charts.\n",
    "11. \"scatter\" is for scatter plots.\n",
    "\n",
    "Let's demonstrate a few of these on some toy datasets."
   ]
  },
  {
   "cell_type": "markdown",
   "metadata": {},
   "source": [
    "### Scatter"
   ]
  },
  {
   "cell_type": "code",
   "execution_count": null,
   "metadata": {},
   "outputs": [],
   "source": [
    "#Dataset tracking unemployment rate against the stock index price.\n",
    "\n",
    "data1 = {'Unemployment_Rate': [6.1,5.8,5.7,5.7,5.8,5.6,5.5,5.3,5.2,5.2],\n",
    "        'Stock_Index_Price': [1500,1520,1525,1523,1515,1540,1545,1560,1555,1565]\n",
    "       }\n",
    "  \n",
    "df1 = pd.DataFrame(data1)\n",
    "df1"
   ]
  },
  {
   "cell_type": "code",
   "execution_count": null,
   "metadata": {},
   "outputs": [],
   "source": [
    "df1.plot(x = 'Stock_Index_Price', y = 'Unemployment_Rate', kind='scatter');"
   ]
  },
  {
   "cell_type": "markdown",
   "metadata": {},
   "source": [
    "You can suppress the excess output with a semi-colon. This can also be done by creating a dummy variable (e.g. saying `_ = df.plot(...)`)"
   ]
  },
  {
   "cell_type": "markdown",
   "metadata": {},
   "source": [
    "<a id='line' ></a>\n",
    "### <mark> Exercise: Line </mark>\n",
    "\n",
    "1. Produce a line chart for the following dataset tracking yearly unemployment rate. \n",
    "\n",
    "2. Customise it with a `color` argument (the input to which should be a string)."
   ]
  },
  {
   "cell_type": "code",
   "execution_count": null,
   "metadata": {},
   "outputs": [],
   "source": [
    "data2 = {'Year': [1920,1930,1940,1950,1960,1970,1980,1990,2000,2010],\n",
    "        'Unemployment_Rate': [9.8,12,8,7.2,6.9,7,6.5,6.2,5.5,6.3]\n",
    "       }\n",
    "df2 = pd.DataFrame(data2)\n",
    "df2"
   ]
  },
  {
   "cell_type": "code",
   "execution_count": null,
   "metadata": {},
   "outputs": [],
   "source": []
  },
  {
   "cell_type": "markdown",
   "metadata": {},
   "source": [
    "<a id='bar' ></a>\n",
    "### <mark> Exercise: Bar </mark>\n",
    "\n",
    "1. Make a bar chart with the data below. \n",
    "2. See if you can add a title."
   ]
  },
  {
   "cell_type": "code",
   "execution_count": null,
   "metadata": {
    "lines_to_next_cell": 0
   },
   "outputs": [],
   "source": [
    "#Dataset for countries GDP per Capita.\n",
    "data3 = {'Country': ['USA','Canada','Germany','UK','France'],\n",
    "        'GDP_Per_Capita': [45000,42000,52000,49000,47000]\n",
    "       }\n",
    "  \n",
    "df3 = pd.DataFrame(data3)\n",
    "df3"
   ]
  },
  {
   "cell_type": "code",
   "execution_count": null,
   "metadata": {
    "lines_to_next_cell": 2
   },
   "outputs": [],
   "source": []
  },
  {
   "cell_type": "markdown",
   "metadata": {},
   "source": [
    "### <mark> Exercise: Pie </mark>"
   ]
  },
  {
   "cell_type": "markdown",
   "metadata": {},
   "source": [
    "1. Make a pie chart with the data below. \n",
    "2. Try adding `startangle=90` as argument. What changes?"
   ]
  },
  {
   "cell_type": "markdown",
   "metadata": {},
   "source": [
    "<details>\n",
    "    \n",
    "  <summary><span style=\"color:blue\">Show hint</span></summary>\n",
    "  \n",
    "A pie chart doesn't have an x-axis.\n",
    "\n",
    "</details>"
   ]
  },
  {
   "cell_type": "code",
   "execution_count": null,
   "metadata": {
    "scrolled": true
   },
   "outputs": [],
   "source": [
    "#Dataset tacking tasks completed\n",
    "data4 = {'Tasks': [300,500,700]}\n",
    "df4 = pd.DataFrame(data4, index = ['Tasks Pending',\n",
    "                                 'Tasks Ongoing',\n",
    "                                 'Tasks Completed']\n",
    "                 )\n",
    "df4"
   ]
  },
  {
   "cell_type": "code",
   "execution_count": null,
   "metadata": {
    "scrolled": true
   },
   "outputs": [],
   "source": []
  },
  {
   "cell_type": "markdown",
   "metadata": {},
   "source": [
    "#### Answers"
   ]
  },
  {
   "cell_type": "code",
   "execution_count": null,
   "metadata": {},
   "outputs": [],
   "source": [
    "# %load ../answers/plotting_with_pandas/basic-plots.py"
   ]
  },
  {
   "cell_type": "markdown",
   "metadata": {},
   "source": [
    "<a id='3' ></a>\n",
    "## Advanced Pandas Plots\n",
    "\n",
    "Often a datasets needs some processing before you make our visualisations.\n",
    "\n",
    "To demonstrate this, let's bring in the chickweight dataset."
   ]
  },
  {
   "cell_type": "code",
   "execution_count": null,
   "metadata": {},
   "outputs": [],
   "source": [
    "chickweight = (\n",
    "    pd.read_csv('../data/chickweight.csv') \n",
    "      .rename(str.lower, axis='columns')\n",
    ")\n",
    "chickweight.head()"
   ]
  },
  {
   "cell_type": "code",
   "execution_count": null,
   "metadata": {},
   "outputs": [],
   "source": [
    "chickweight.plot();"
   ]
  },
  {
   "cell_type": "markdown",
   "metadata": {},
   "source": [
    "Imagine you wanted to explore how weight increased over time. Simply plotting weight vs. time would not be that insightful."
   ]
  },
  {
   "cell_type": "code",
   "execution_count": null,
   "metadata": {},
   "outputs": [],
   "source": [
    "chickweight.plot(x='time', y='weight', kind='scatter');"
   ]
  },
  {
   "cell_type": "markdown",
   "metadata": {},
   "source": [
    "It may be more interesting to plot the mean weight over time."
   ]
  },
  {
   "cell_type": "code",
   "execution_count": null,
   "metadata": {},
   "outputs": [],
   "source": [
    "#First we'll collect this information\n",
    "(\n",
    "    chickweight\n",
    "    .groupby('time')\n",
    "    ['weight'].mean()\n",
    ")"
   ]
  },
  {
   "cell_type": "code",
   "execution_count": null,
   "metadata": {},
   "outputs": [],
   "source": [
    "(\n",
    "    chickweight\n",
    "    .groupby('time')\n",
    "    ['weight'].mean()\n",
    ").plot()"
   ]
  },
  {
   "cell_type": "markdown",
   "metadata": {},
   "source": [
    "This is good, but originally yu wanted to investigate how the differrent diets affect the chicks.\n",
    "\n",
    "So, let's see how the average weight at different time periods compares for the different diets. \n",
    "\n",
    "i.e. let's plot four different average weight vs. time graphs, one for each diet."
   ]
  },
  {
   "cell_type": "code",
   "execution_count": null,
   "metadata": {
    "lines_to_next_cell": 2
   },
   "outputs": [],
   "source": [
    "# First let's get the average weight at different time periods for the different diets.\n",
    "\n",
    "mean_diet_weight_per_timestep = (\n",
    "    chickweight\n",
    "    .groupby(['time', 'diet'])\n",
    "    ['weight'].mean()\n",
    "    .reset_index()\n",
    "    .rename(columns={'weight': 'mean_weight'})\n",
    ")"
   ]
  },
  {
   "cell_type": "code",
   "execution_count": null,
   "metadata": {},
   "outputs": [],
   "source": [
    "mean_diet_weight_per_timestep.head()"
   ]
  },
  {
   "cell_type": "markdown",
   "metadata": {},
   "source": [
    "<a id='diet' ></a>\n",
    "### <mark> Exercise: Growth for diet 1 </mark>\n",
    "\n",
    "Select the data only for diet 1 and plot this information."
   ]
  },
  {
   "cell_type": "code",
   "execution_count": null,
   "metadata": {},
   "outputs": [],
   "source": [
    "mean_diet_weight_per_timestep"
   ]
  },
  {
   "cell_type": "code",
   "execution_count": null,
   "metadata": {},
   "outputs": [],
   "source": []
  },
  {
   "cell_type": "markdown",
   "metadata": {},
   "source": [
    "Ok, now let's see one for each diet.\n",
    "\n",
    "To do this, you could use a for loop to repeat the above, but for the different diets.\n",
    "\n",
    "Alternatively the unstack method allows you to plot everything in one go!"
   ]
  },
  {
   "cell_type": "code",
   "execution_count": null,
   "metadata": {},
   "outputs": [],
   "source": [
    "(\n",
    "    chickweight\n",
    "    .groupby(['time', 'diet'])\n",
    "    ['weight'].mean()\n",
    "    .unstack()\n",
    ")"
   ]
  },
  {
   "cell_type": "code",
   "execution_count": null,
   "metadata": {},
   "outputs": [],
   "source": [
    "(\n",
    "    chickweight\n",
    "    .groupby(['time', 'diet'])\n",
    "    ['weight'].mean()\n",
    "    .unstack()\n",
    ").plot()"
   ]
  },
  {
   "cell_type": "markdown",
   "metadata": {},
   "source": [
    "Note that the index (time) is the x-axis, and that each column gets charted."
   ]
  },
  {
   "cell_type": "markdown",
   "metadata": {},
   "source": [
    "<a id='assignment' ></a>\n",
    "## <mark>Assignment: rate of growth</mark>\n",
    "\n",
    "You have now seen how the weight of the chickens increases over time. But at what stage do the  chickens grow the most? \n",
    "Also, does the growth per time depend on the diet?  To answer these questions you need to investigate the *rate* at which the chickens grow.\n",
    "\n",
    "\n",
    "## Part A\n",
    "\n",
    "To get started, you'll add a column to show weight increase for the chicks.\n",
    "\n",
    "1) Create a column for the weight difference between each row using the `.diff()` method. \n",
    "\n",
    "To test whether you have done this correctly, use `.head(15)` and check if the previous weight for Chick 2 at time step 0 makes sense.\n",
    "\n",
    "*Hint: look back at the Creating Columns notebook on how to do this.*"
   ]
  },
  {
   "cell_type": "code",
   "execution_count": null,
   "metadata": {},
   "outputs": [],
   "source": []
  },
  {
   "cell_type": "code",
   "execution_count": null,
   "metadata": {},
   "outputs": [],
   "source": [
    "# %load ../answers/plotting_with_pandas/weight-increase-1.py"
   ]
  },
  {
   "cell_type": "markdown",
   "metadata": {},
   "source": [
    "2) Fill any missing values with 0.\n",
    "\n",
    "*Hint: use the `.fillna()` method on your previous chain.*"
   ]
  },
  {
   "cell_type": "code",
   "execution_count": null,
   "metadata": {},
   "outputs": [],
   "source": []
  },
  {
   "cell_type": "code",
   "execution_count": null,
   "metadata": {
    "lines_to_next_cell": 2
   },
   "outputs": [],
   "source": [
    "# %load ../answers/plotting_with_pandas/weight-increase-2.py"
   ]
  },
  {
   "cell_type": "markdown",
   "metadata": {},
   "source": [
    "## Part B\n",
    "\n",
    "1) Now you have the code to create a weight increase column, calculate average weight increase over time combined for all the chicks. This means you should calculate the average chicken weight at time 0, at time 2, etc. \n",
    "2) Plot this average increase!\n",
    "\n",
    "*Hint: You will need to do another `.groupby()` and use `.agg()`.*\n",
    "<br></br>\n",
    "<details>\n",
    "    \n",
    "  <summary><span style=\"color:blue\">Click here to see what the end result should look like</span></summary>\n",
    "    \n",
    "<img src=../images/answer-example2.png width=300px align=left>\n",
    "\n",
    "</details>"
   ]
  },
  {
   "cell_type": "code",
   "execution_count": null,
   "metadata": {},
   "outputs": [],
   "source": []
  },
  {
   "cell_type": "markdown",
   "metadata": {},
   "source": [
    "When do chickens grow the most?"
   ]
  },
  {
   "cell_type": "raw",
   "metadata": {},
   "source": [
    "Answer:"
   ]
  },
  {
   "cell_type": "code",
   "execution_count": null,
   "metadata": {},
   "outputs": [],
   "source": [
    "# %load ../answers/plotting_with_pandas/growth-rate-1.py"
   ]
  },
  {
   "cell_type": "markdown",
   "metadata": {},
   "source": [
    "### Bonus: Challenge\n",
    "1) After adding the difference column, calculate the average weight increase *per diet* for all the chicks combined over time. You should have a row for the combination of time 0 and diet 1, the combination of time 0 and diet 2 ... up to the combination of time 21 and diet 4. \n",
    "2) Plot the result!\n",
    "\n",
    "*Hint: use `.unstack()` before plotting.*\n",
    "<br></br>\n",
    "<details>\n",
    "    \n",
    "  <summary><span style=\"color:blue\">Click here to see what the end result should look like</span></summary>\n",
    "    \n",
    "<img src=../images/answer-example1.png width=300px align=left>\n",
    "\n",
    "</details>\n"
   ]
  },
  {
   "cell_type": "code",
   "execution_count": null,
   "metadata": {},
   "outputs": [],
   "source": []
  },
  {
   "cell_type": "markdown",
   "metadata": {},
   "source": [
    "Does the growth per time depend on the diet?"
   ]
  },
  {
   "cell_type": "raw",
   "metadata": {},
   "source": [
    "Answer: "
   ]
  },
  {
   "cell_type": "code",
   "execution_count": null,
   "metadata": {},
   "outputs": [],
   "source": [
    "# %load ../answers/plotting_with_pandas/growth-rate-2.py"
   ]
  }
 ],
 "metadata": {
  "jupytext": {
   "encoding": "# -*- coding: utf-8 -*-"
  },
  "kernelspec": {
   "display_name": "Python 3 (ipykernel)",
   "language": "python",
   "name": "python3"
  },
  "language_info": {
   "codemirror_mode": {
    "name": "ipython",
    "version": 3
   },
   "file_extension": ".py",
   "mimetype": "text/x-python",
   "name": "python",
   "nbconvert_exporter": "python",
   "pygments_lexer": "ipython3",
   "version": "3.11.8"
  }
 },
 "nbformat": 4,
 "nbformat_minor": 4
}
