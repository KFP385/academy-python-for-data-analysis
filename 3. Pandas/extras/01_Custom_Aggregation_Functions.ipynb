{
 "cells": [
  {
   "cell_type": "markdown",
   "id": "01743e5f",
   "metadata": {},
   "source": [
    "<img src=../images/gdd-logo.png width=300px align=right> \n",
    "\n",
    "# Custom Aggregating Functions\n",
    "\n",
    "In this notebook, we have a look at customizing aggregation functions. \n",
    "\n",
    "This is useful whenever the default aggregations like `.max()`, `.sum()`, `.mean()`, etc. are not enough and you want a bit more flexibility in your data manipulation.\n",
    "\n",
    "This notebook covers:\n",
    "\n",
    "* [Exercise: Find the range](#1)\n",
    "* [Using the custom function](#2)\n",
    "\n",
    "First of all, let's load Pandas and the dataset again:"
   ]
  },
  {
   "cell_type": "code",
   "execution_count": null,
   "id": "d5f0a3b7",
   "metadata": {},
   "outputs": [],
   "source": [
    "import pandas as pd\n",
    "\n",
    "chickweight = (\n",
    "    pd.read_csv('../data/chickweight.csv')\n",
    "    .rename(str.lower, axis='columns')\n",
    ")"
   ]
  },
  {
   "cell_type": "markdown",
   "id": "3d7b5eb9",
   "metadata": {},
   "source": [
    "Let's say you wanted to find the range of a column. Unfortunately there is no range method on a column:"
   ]
  },
  {
   "cell_type": "code",
   "execution_count": null,
   "id": "58bc1d56",
   "metadata": {},
   "outputs": [],
   "source": [
    "# chickweight['weight'].range()"
   ]
  },
  {
   "cell_type": "markdown",
   "id": "501c527e",
   "metadata": {},
   "source": [
    "Therefore you need to create a new function that does this. \n",
    "<a id='1'></a>\n",
    "### <mark> Exercise: Find the range</mark>\n",
    "\n",
    "1. In the cell below find the range of the `'weight'` column (without using groupby)"
   ]
  },
  {
   "cell_type": "markdown",
   "id": "2ef9d438",
   "metadata": {},
   "source": [
    "<details>\n",
    "    \n",
    "  <summary><span style=\"color:blue\">Show hint</span></summary>\n",
    "  \n",
    "The range is given by **subtracting** the **min**imum from the **max**imum.\n",
    "    \n",
    "</details>"
   ]
  },
  {
   "cell_type": "code",
   "execution_count": null,
   "id": "16e4a414",
   "metadata": {},
   "outputs": [],
   "source": []
  },
  {
   "cell_type": "markdown",
   "id": "47180f8a",
   "metadata": {},
   "source": [
    "2. Now finish writing the function below called `my_range`. The function takes one column of data as an argument, so you should be able to call your function using `my_range(chickweight['weight'])`\n",
    "\n",
    "<details>\n",
    "    \n",
    "  <summary><span style=\"color:blue\">Show hint</span></summary>\n",
    "  \n",
    "The `column` will be `chickweight['weight']` when the function is called. So in the function you need to replace `chickweight['weight']` with `column`:\n",
    "    \n",
    "The series is what is given as an input, and it should return its range.\n",
    "\n",
    "\n",
    "</details>"
   ]
  },
  {
   "cell_type": "code",
   "execution_count": null,
   "id": "c0d9d27c",
   "metadata": {},
   "outputs": [],
   "source": [
    "def my_range(column):\n",
    "    # YOUR CODE HERE (you can delete the line with 'pass')\n",
    "    pass"
   ]
  },
  {
   "cell_type": "code",
   "execution_count": null,
   "id": "45e60d27",
   "metadata": {},
   "outputs": [],
   "source": [
    "# my_range(chickweight['weight'])"
   ]
  },
  {
   "cell_type": "markdown",
   "id": "82c094c3",
   "metadata": {},
   "source": [
    "**Bonus:** Create the same function, but this time using a `lambda` expression."
   ]
  },
  {
   "cell_type": "code",
   "execution_count": null,
   "id": "47521172",
   "metadata": {},
   "outputs": [],
   "source": [
    "# %load ../answers/03_Aggregations/ex-range.py"
   ]
  },
  {
   "cell_type": "markdown",
   "id": "93a4970a",
   "metadata": {},
   "source": [
    "<a id='2'></a>\n",
    "## Using the custom function\n",
    "\n",
    "Now that you have created a function that can find the range, we can use this function in the `.agg()` method:"
   ]
  },
  {
   "cell_type": "code",
   "execution_count": null,
   "id": "958ce317",
   "metadata": {},
   "outputs": [],
   "source": [
    "def get_range(col):\n",
    "    return col.max() - col.min()\n",
    "\n",
    "(\n",
    "    chickweight\n",
    "    .groupby('time')\n",
    "    .agg(weight_range = ('weight', get_range))\n",
    ")"
   ]
  },
  {
   "cell_type": "markdown",
   "id": "abc8a9ed",
   "metadata": {},
   "source": [
    "<mark>**Question:** Why don't you put `get_range` in quotations like you do with `'mean'`?</mark>"
   ]
  },
  {
   "cell_type": "markdown",
   "id": "2315128b",
   "metadata": {},
   "source": [
    "<details>\n",
    "    \n",
    "  <summary><span style=\"color:blue\">Show answer</span></summary>\n",
    "  \n",
    "  Because `mean` is a built in method (eg. `df['col'].mean()`) that the `.agg()` method can look up within pandas. \n",
    "    \n",
    "  `get_range` is a function that we need to reference directly.\n",
    "\n",
    "</details>"
   ]
  },
  {
   "cell_type": "markdown",
   "id": "1c5d5c34",
   "metadata": {},
   "source": [
    "You can also use a `lambda` function, to avoid having to define and name the function."
   ]
  },
  {
   "cell_type": "code",
   "execution_count": null,
   "id": "c86b6866",
   "metadata": {},
   "outputs": [],
   "source": [
    "(\n",
    "    chickweight\n",
    "    .groupby('time')\n",
    "    .agg(weight_range = ('weight', lambda col: col.max() - col.min()) )\n",
    ")"
   ]
  },
  {
   "cell_type": "markdown",
   "id": "ad8a1e16",
   "metadata": {},
   "source": [
    "Putting it all together:"
   ]
  },
  {
   "cell_type": "code",
   "execution_count": null,
   "id": "3f8e623e",
   "metadata": {},
   "outputs": [],
   "source": [
    "(\n",
    "    chickweight\n",
    "    .groupby(['time', 'diet'])\n",
    "    .agg(num_chickens = ('rownum', 'count'),\n",
    "         weight_mean = ('weight', 'mean'),\n",
    "         weight_range = ('weight', lambda col: col.max() - col.min()),\n",
    "    )\n",
    ")"
   ]
  }
 ],
 "metadata": {
  "kernelspec": {
   "display_name": "Python 3 (ipykernel)",
   "language": "python",
   "name": "python3"
  },
  "language_info": {
   "codemirror_mode": {
    "name": "ipython",
    "version": 3
   },
   "file_extension": ".py",
   "mimetype": "text/x-python",
   "name": "python",
   "nbconvert_exporter": "python",
   "pygments_lexer": "ipython3",
   "version": "3.11.5"
  }
 },
 "nbformat": 4,
 "nbformat_minor": 5
}
