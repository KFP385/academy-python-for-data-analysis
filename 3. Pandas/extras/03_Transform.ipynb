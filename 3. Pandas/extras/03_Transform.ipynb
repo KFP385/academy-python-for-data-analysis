{
 "cells": [
  {
   "cell_type": "markdown",
   "metadata": {},
   "source": [
    "<img src=../images/gdd-logo.png width=300px align=right>\n",
    "\n",
    "# Transform\n",
    "\n",
    "In principle using `.groupby()` and then merging our aggregates back to our original dataframe is quite common. Maybe you want to group by some information (things like say, average session length) and add this information to a raw dataset. \n",
    "\n",
    "To perform the aggregation first makes sense, but especially for large dataframes the join/merge operations that follow can be a bit expensive. There is an alternative.\n",
    "\n",
    "In this section we will cover:\n",
    "\n",
    "* [Overview of `transform()`](#overview)\n",
    "* [<mark>Exercise: Use `transform()` and `assign()` to create new columns</mark>](#exercise)\n",
    "\n",
    "Before we do anything though let's again import pandas read in our data."
   ]
  },
  {
   "cell_type": "code",
   "execution_count": null,
   "metadata": {},
   "outputs": [],
   "source": [
    "import pandas as pd\n",
    "\n",
    "chickweight = (\n",
    "    pd.read_csv('../data/chickweight.csv') \n",
    "    .rename(str.lower, axis='columns')\n",
    ")"
   ]
  },
  {
   "cell_type": "markdown",
   "metadata": {},
   "source": [
    "<a id='overview'></a>\n",
    "\n",
    "## Overview of `transform()`\n",
    "\n",
    "<img src=\"../images/07_Transform/alternative.png\" width=\"140\" height=\"140\" align=\"center\"/>\n",
    "\n",
    "The `.transform()` method allows us to do aggregation, as well as the join/merge in one go. \n",
    "\n",
    "To demonstrate how this works, let us imagine we want to add the mean chickweight per diet to the dataframe."
   ]
  },
  {
   "cell_type": "code",
   "execution_count": null,
   "metadata": {},
   "outputs": [],
   "source": [
    "mean_weight_per_diet = (\n",
    "    chickweight\n",
    "    .groupby(\"diet\")['weight']\n",
    "    .mean()\n",
    ")\n",
    "mean_weight_per_diet"
   ]
  },
  {
   "cell_type": "markdown",
   "metadata": {},
   "source": [
    "The problem here is that aggregating produces a dataframe which is a length to our original dataframe. "
   ]
  },
  {
   "cell_type": "code",
   "execution_count": null,
   "metadata": {},
   "outputs": [],
   "source": [
    "chickweight.shape, mean_weight_per_diet.shape"
   ]
  },
  {
   "cell_type": "markdown",
   "metadata": {},
   "source": [
    "This is why previously we used merge or join to combine this data."
   ]
  },
  {
   "cell_type": "code",
   "execution_count": null,
   "metadata": {},
   "outputs": [],
   "source": [
    "(\n",
    "    chickweight\n",
    "    .merge(mean_weight_per_diet, on='diet', suffixes=('','_mean'))\n",
    ")"
   ]
  },
  {
   "cell_type": "markdown",
   "metadata": {},
   "source": [
    "However if we use the the `.transform()` method, we can calculate the mean chick weight information and add it to the chickweight datafame in one go.\n",
    "\n",
    "When we use transform the the values corespond to the different diets."
   ]
  },
  {
   "cell_type": "code",
   "execution_count": null,
   "metadata": {},
   "outputs": [],
   "source": [
    "(\n",
    "    chickweight\n",
    "    .groupby(\"diet\")['weight']\n",
    "    .transform('mean')\n",
    ")"
   ]
  },
  {
   "cell_type": "markdown",
   "metadata": {},
   "source": [
    "Importantly, the output is the same length as the original dataframe and "
   ]
  },
  {
   "cell_type": "code",
   "execution_count": null,
   "metadata": {},
   "outputs": [],
   "source": [
    "(\n",
    "    chickweight\n",
    "    .groupby(\"diet\")['weight']\n",
    "    .transform('mean')\n",
    ").shape"
   ]
  },
  {
   "cell_type": "markdown",
   "metadata": {},
   "source": [
    "This means we can easily add this information as a new column in one go with the `.assign()` method."
   ]
  },
  {
   "cell_type": "code",
   "execution_count": null,
   "metadata": {},
   "outputs": [],
   "source": [
    "(\n",
    "    chickweight\n",
    "    .assign(mean_weight_diet = lambda df: df.groupby(\"diet\")['weight'].transform('mean'))\n",
    ")"
   ]
  },
  {
   "cell_type": "markdown",
   "metadata": {},
   "source": [
    "<a id='exercise'></a>\n",
    "## <mark>Exercises: Use `.assign()` and `transform()` to create new columns</mark>\n",
    "\n",
    "### Exercise 1\n",
    "\n",
    "Take the original `chickweight` dataframe and create these columns on the raw data without performing a join: \n",
    "\n",
    "1. **mean_weight_diet**: which calculates the mean weight per diet \n",
    "2. **mean_weight_diet_time**: which calculates the mean weight per diet at a given time\n",
    "\n",
    "**BONUS:**\n",
    "\n",
    "3. **num_chickens_diet**: which calculates the total number of chickens per diet - explore what the `.nunique()` method does to do this."
   ]
  },
  {
   "cell_type": "code",
   "execution_count": null,
   "metadata": {},
   "outputs": [],
   "source": []
  },
  {
   "cell_type": "code",
   "execution_count": null,
   "metadata": {},
   "outputs": [],
   "source": [
    "# %load ../answers/07_Transform/ex-transforms.py"
   ]
  },
  {
   "cell_type": "markdown",
   "metadata": {},
   "source": [
    "### Exercise 2: Find the fattest chicken per diet\n",
    "\n",
    "Do you rember in the last notebook we tried to find the fattest chicken per diet?\n",
    "\n",
    "Is it any easier now we know about the `transform` method?"
   ]
  },
  {
   "cell_type": "code",
   "execution_count": null,
   "metadata": {},
   "outputs": [],
   "source": []
  },
  {
   "cell_type": "code",
   "execution_count": null,
   "metadata": {},
   "outputs": [],
   "source": [
    "# %load ../answers/07_Transform/ex-fattest-chick-transform.py"
   ]
  }
 ],
 "metadata": {
  "kernelspec": {
   "display_name": "Python 3 (ipykernel)",
   "language": "python",
   "name": "python3"
  },
  "language_info": {
   "codemirror_mode": {
    "name": "ipython",
    "version": 3
   },
   "file_extension": ".py",
   "mimetype": "text/x-python",
   "name": "python",
   "nbconvert_exporter": "python",
   "pygments_lexer": "ipython3",
   "version": "3.9.7"
  }
 },
 "nbformat": 4,
 "nbformat_minor": 2
}
