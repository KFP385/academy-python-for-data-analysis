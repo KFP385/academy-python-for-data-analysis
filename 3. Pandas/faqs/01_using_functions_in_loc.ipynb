{
 "cells": [
  {
   "cell_type": "markdown",
   "metadata": {},
   "source": [
    "<img src='images/pandas.png' width='300px' align=left>\n",
    "<img src='images/gdd-logo.png' width='200px' align='right' style=\"padding: 15px\">"
   ]
  },
  {
   "cell_type": "markdown",
   "metadata": {},
   "source": [
    "# Using (lambda) functions in Pandas"
   ]
  },
  {
   "cell_type": "code",
   "execution_count": null,
   "metadata": {
    "lines_to_next_cell": 2
   },
   "outputs": [],
   "source": [
    "import pandas as pd"
   ]
  },
  {
   "cell_type": "code",
   "execution_count": null,
   "metadata": {},
   "outputs": [],
   "source": [
    "chickweight = pd.read_csv('data/chickweight.csv').rename(str.lower, axis='columns')\n",
    "chickweight"
   ]
  },
  {
   "cell_type": "markdown",
   "metadata": {
    "lines_to_next_cell": 0
   },
   "source": [
    "<a id = 'lambdas'></a>\n",
    "### Using (lambda) functions in Pandas\n",
    "\n"
   ]
  },
  {
   "cell_type": "markdown",
   "metadata": {},
   "source": [
    "The third type or argument that the `.loc[]` method accepts is a function that takes a dataframe and returns a boolean mask. This function will get called on **whatever dataframe comes before the `.loc[]`**."
   ]
  },
  {
   "cell_type": "markdown",
   "metadata": {},
   "source": [
    "Now there is no longer an issue if the index gets modified!"
   ]
  },
  {
   "cell_type": "code",
   "execution_count": null,
   "metadata": {},
   "outputs": [],
   "source": [
    "def filter_time_less_than_4(df):\n",
    "    return df[\"time\"] < 4\n",
    "\n",
    "(\n",
    "    chickweight  \n",
    "    .loc[chickweight['chick'] == 25]\n",
    "    .set_index('rownum')       \n",
    "    .loc[filter_time_less_than_4] \n",
    ")"
   ]
  },
  {
   "cell_type": "markdown",
   "metadata": {},
   "source": [
    "However, having to define new functions, choosing names for them and then passing them to `.loc[]` can get cumbersome. Especially when each function gets used only once. "
   ]
  },
  {
   "cell_type": "markdown",
   "metadata": {},
   "source": [
    "**Lambda functions**, also called anonymous or implicit functions, are a way of defining functions in Python without having to name or save them. They are used a lot in Pandas, so it's important to be really comfortable with them."
   ]
  },
  {
   "cell_type": "markdown",
   "metadata": {},
   "source": [
    "In the same way that you can define a new function called `add_4()` that can be called multiple times..."
   ]
  },
  {
   "cell_type": "code",
   "execution_count": null,
   "metadata": {},
   "outputs": [],
   "source": [
    "def add_4(x):\n",
    "    return x + 4"
   ]
  },
  {
   "cell_type": "code",
   "execution_count": null,
   "metadata": {},
   "outputs": [],
   "source": [
    "add_4(10), add_4(20)"
   ]
  },
  {
   "cell_type": "markdown",
   "metadata": {},
   "source": [
    "...you can also define and call a lambda function without naming it."
   ]
  },
  {
   "cell_type": "code",
   "execution_count": null,
   "metadata": {},
   "outputs": [],
   "source": [
    "(lambda x: x + 4)(10)"
   ]
  },
  {
   "cell_type": "markdown",
   "metadata": {},
   "source": [
    "Although if wanted, it's also possible assign the lambda function to a variable name."
   ]
  },
  {
   "cell_type": "markdown",
   "metadata": {},
   "source": [
    "<img src=images/lambda.png width=500px align=center>"
   ]
  },
  {
   "cell_type": "code",
   "execution_count": null,
   "metadata": {
    "lines_to_next_cell": 2
   },
   "outputs": [],
   "source": [
    "add_5 = lambda x: x + 5"
   ]
  },
  {
   "cell_type": "code",
   "execution_count": null,
   "metadata": {},
   "outputs": [],
   "source": [
    "add_5(10)"
   ]
  },
  {
   "cell_type": "markdown",
   "metadata": {},
   "source": [
    "They also accept multiple arguments, separated by commas:"
   ]
  },
  {
   "cell_type": "code",
   "execution_count": null,
   "metadata": {},
   "outputs": [],
   "source": [
    "add_5y = lambda x, y: x + 5*y"
   ]
  },
  {
   "cell_type": "code",
   "execution_count": null,
   "metadata": {},
   "outputs": [],
   "source": [
    "add_5y(10, y = 2)"
   ]
  },
  {
   "cell_type": "markdown",
   "metadata": {},
   "source": [
    "<mark>Now complete the following questions:</mark>\n",
    "\n",
    "1. Create a lambda function that multiplies two numbers together (and check it)"
   ]
  },
  {
   "cell_type": "code",
   "execution_count": null,
   "metadata": {
    "lines_to_next_cell": 2
   },
   "outputs": [],
   "source": []
  },
  {
   "cell_type": "markdown",
   "metadata": {},
   "source": [
    "2. Create a lambda function to check if a number is bigger than 10 (and check it)"
   ]
  },
  {
   "cell_type": "code",
   "execution_count": null,
   "metadata": {},
   "outputs": [],
   "source": []
  },
  {
   "cell_type": "markdown",
   "metadata": {},
   "source": [
    "Going back to filtering the `chickweight` dataframe with Pandas, this time using lambda functions:"
   ]
  },
  {
   "cell_type": "code",
   "execution_count": null,
   "metadata": {},
   "outputs": [],
   "source": [
    "(\n",
    "    chickweight  \n",
    "    .loc[chickweight['chick'] == 25]\n",
    "    .loc[lambda df: df['time'] < 4] \n",
    ")"
   ]
  },
  {
   "cell_type": "code",
   "execution_count": null,
   "metadata": {},
   "outputs": [],
   "source": [
    "(\n",
    "    chickweight  \n",
    "    .loc[chickweight['chick'] == 25]\n",
    "    .set_index('rownum')\n",
    "    .loc[lambda df: df['time'] < 4] \n",
    ")"
   ]
  },
  {
   "cell_type": "markdown",
   "metadata": {},
   "source": [
    "Even better would be to use a `lambda` everytime `.loc[]` (or any method) is used to be flexible:"
   ]
  },
  {
   "cell_type": "code",
   "execution_count": null,
   "metadata": {},
   "outputs": [],
   "source": [
    "(\n",
    "    chickweight  \n",
    "    .loc[lambda df: df['chick'] == 25]\n",
    "    .loc[lambda df: df['time'] < 4] \n",
    ")"
   ]
  },
  {
   "cell_type": "markdown",
   "metadata": {},
   "source": [
    "Benefits of using lambda functions:\n",
    "\n",
    "- You can re-order the filters, they work with whatever the previous dataframe is.\n",
    "- Your code works independently of the name of the dataframe (easy to copy-paste!).\n",
    "- You don't need to pre-define and name them."
   ]
  }
 ],
 "metadata": {
  "kernelspec": {
   "display_name": "Python 3 (ipykernel)",
   "language": "python",
   "name": "python3"
  },
  "language_info": {
   "codemirror_mode": {
    "name": "ipython",
    "version": 3
   },
   "file_extension": ".py",
   "mimetype": "text/x-python",
   "name": "python",
   "nbconvert_exporter": "python",
   "pygments_lexer": "ipython3",
   "version": "3.11.6"
  }
 },
 "nbformat": 4,
 "nbformat_minor": 4
}
