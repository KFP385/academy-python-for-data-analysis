{
 "cells": [
  {
   "cell_type": "markdown",
   "id": "633c5b1f",
   "metadata": {},
   "source": [
    "<img src='images/pandas.png' width='300px' align=left>\n",
    "<img src='images/gdd-logo.png' width='200px' align='right' style=\"padding: 15px\">"
   ]
  },
  {
   "cell_type": "markdown",
   "id": "6c341ca2",
   "metadata": {},
   "source": [
    "\n",
    "\n",
    "# Frequently asked questions about Pandas"
   ]
  },
  {
   "cell_type": "markdown",
   "id": "7579a999",
   "metadata": {},
   "source": [
    "## Is there a `between` method when filtering?\n",
    "\n",
    "If you've worked in `SQL` you'll know bout the `BETWEEN` keyword that allows you to filter rows where a certain column has values that lie in between two values. There is something very similar to that in pandas:"
   ]
  },
  {
   "cell_type": "code",
   "execution_count": null,
   "id": "cc3bc3b3",
   "metadata": {},
   "outputs": [],
   "source": [
    "import pandas as pd\n",
    "\n",
    "chickweight = (\n",
    "    pd.read_csv('data/chickweight.csv')\n",
    "    .rename(columns=str.lower)\n",
    ")\n",
    "\n",
    "chickweight.head()"
   ]
  },
  {
   "cell_type": "markdown",
   "id": "0aba552b",
   "metadata": {},
   "source": [
    "Imagine there was a task that required to only analyse days 8 - 12 (column: `time`). This data could be filtered using two separate filters, one for values *above 8* and one for values *below 12*:"
   ]
  },
  {
   "cell_type": "code",
   "execution_count": null,
   "id": "2c672e27",
   "metadata": {},
   "outputs": [],
   "source": [
    "(\n",
    "    chickweight\n",
    "    .loc[lambda df: df['time'] >= 8]\n",
    "    .loc[lambda df: df['time'] <= 12]\n",
    ")"
   ]
  },
  {
   "cell_type": "markdown",
   "id": "3c29f248",
   "metadata": {},
   "source": [
    "This result can be achieved in a simpler way, in one line. \n",
    "\n",
    "Unfortunately it is not as simple as writing greater than & less than on one line. This for example will not work:"
   ]
  },
  {
   "cell_type": "code",
   "execution_count": null,
   "id": "ca6f42e2",
   "metadata": {},
   "outputs": [],
   "source": [
    "# (\n",
    "#     chickweight\n",
    "#     .loc[lambda df: 8 <= df['time'] <= 12]\n",
    "# )"
   ]
  },
  {
   "cell_type": "markdown",
   "id": "ea1d1ee7",
   "metadata": {},
   "source": [
    "Instead, a method can be used:"
   ]
  },
  {
   "cell_type": "code",
   "execution_count": null,
   "id": "d1040d12",
   "metadata": {},
   "outputs": [],
   "source": [
    "(\n",
    "    chickweight\n",
    "    .loc[lambda df: df['time'].between(8, 12)]\n",
    ")"
   ]
  },
  {
   "cell_type": "markdown",
   "id": "c1566af9",
   "metadata": {},
   "source": [
    "Note that in the above example, (and so far), the filter is inclusive of the upper and lower bound, which can be seen using the unique method on the time column:"
   ]
  },
  {
   "cell_type": "code",
   "execution_count": null,
   "id": "bdf39da2",
   "metadata": {},
   "outputs": [],
   "source": [
    "(\n",
    "    chickweight\n",
    "    .loc[lambda df: df['time'].between(8, 12)]\n",
    "    ['time'].unique()\n",
    ")"
   ]
  },
  {
   "cell_type": "markdown",
   "id": "418f2b3e",
   "metadata": {},
   "source": [
    "In the initial example with two filters, you could change the operators from **less than or equal** to **less than** (`<` instead of `<=`).\n",
    "\n"
   ]
  },
  {
   "cell_type": "code",
   "execution_count": null,
   "id": "19fdbdc6",
   "metadata": {},
   "outputs": [],
   "source": [
    "(\n",
    "    chickweight\n",
    "    .loc[lambda df: df['time'] > 8]\n",
    "    .loc[lambda df: df['time'] < 12]\n",
    ")"
   ]
  },
  {
   "cell_type": "markdown",
   "id": "6055f03f",
   "metadata": {},
   "source": [
    "With the `.between()` method, you can specify with the parameter `inclusive=`.\n",
    "\n",
    "The options are:\n",
    "- `'both'` (default)\n",
    "- `'neither'`\n",
    "- `'left'`\n",
    "- `'right'`"
   ]
  },
  {
   "cell_type": "code",
   "execution_count": null,
   "id": "c09a5c30",
   "metadata": {},
   "outputs": [],
   "source": [
    "(\n",
    "    chickweight\n",
    "    .loc[lambda df: df['time'].between(8, 12, inclusive='neither')]\n",
    ")"
   ]
  },
  {
   "cell_type": "markdown",
   "id": "854c061d",
   "metadata": {},
   "source": [
    "### <mark>Exercise: Try it out!</mark>\n",
    "\n",
    "Try changing the parameter value (`'neither'`) to the values above - does the output look as you expect?"
   ]
  },
  {
   "cell_type": "code",
   "execution_count": null,
   "id": "e43049bb",
   "metadata": {},
   "outputs": [],
   "source": [
    "(\n",
    "    chickweight\n",
    "    .loc[lambda df: df['time'].between(8, 12, inclusive='neither')]\n",
    ")"
   ]
  },
  {
   "cell_type": "markdown",
   "id": "6c8112b9",
   "metadata": {},
   "source": [
    "# Conclusion\n",
    "\n",
    "You now know the between method, which can be used when filtering a column to return the rows where the values are between two specified values.\n",
    "\n",
    "The between method can be used on the column - eg. `df['column'].between(n1, n2)` - inside the `.loc[]` indexer.\n",
    "\n",
    "You can also include the parameter `inclusive=` which takes the values `'both'` (default), `'neither'`, `'left'`, `'right'`."
   ]
  }
 ],
 "metadata": {
  "kernelspec": {
   "display_name": "Python 3 (ipykernel)",
   "language": "python",
   "name": "python3"
  },
  "language_info": {
   "codemirror_mode": {
    "name": "ipython",
    "version": 3
   },
   "file_extension": ".py",
   "mimetype": "text/x-python",
   "name": "python",
   "nbconvert_exporter": "python",
   "pygments_lexer": "ipython3",
   "version": "3.11.6"
  }
 },
 "nbformat": 4,
 "nbformat_minor": 5
}
