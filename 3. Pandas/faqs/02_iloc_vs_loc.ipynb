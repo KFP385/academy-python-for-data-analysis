{
 "cells": [
  {
   "cell_type": "markdown",
   "id": "3044e1d0",
   "metadata": {},
   "source": [
    "<img src='images/pandas.png' width='300px' align=left>\n",
    "<img src='images/gdd-logo.png' width='200px' align='right' style=\"padding: 15px\">"
   ]
  },
  {
   "cell_type": "markdown",
   "id": "d6591779",
   "metadata": {},
   "source": [
    "<a id=loc-iloc></a>\n",
    "## What's the difference between `.loc` and `.iloc`?"
   ]
  },
  {
   "cell_type": "code",
   "execution_count": null,
   "id": "7dea3fe0",
   "metadata": {},
   "outputs": [],
   "source": [
    "import pandas as pd\n",
    "\n",
    "days = pd.read_csv('data/days.csv', sep=';', index_col=0)\n",
    "\n",
    "days.head()"
   ]
  },
  {
   "cell_type": "markdown",
   "id": "243cf0ef",
   "metadata": {},
   "source": [
    "#### Indexers\n",
    "\n",
    "Firstly, both iloc and loc convert the DataFrame into an object which you can use to index via rows and columns. `.loc` creates a `LocIndexer` and `.iloc` creates an `iLocIndexer`:"
   ]
  },
  {
   "cell_type": "code",
   "execution_count": null,
   "id": "53695bfe",
   "metadata": {},
   "outputs": [],
   "source": [
    "print(\"days.loc ----\", days.loc)\n",
    "print(\"days.iloc ---\", days.iloc)"
   ]
  },
  {
   "cell_type": "markdown",
   "id": "1d550362",
   "metadata": {},
   "source": [
    "The main difference between these two Indexers is:\n",
    "- `.loc` is **label-based**, meaning you select based on the index/column name;\n",
    "- `.iloc` is **integer-based**, so you select based on the index/column integer position\n",
    "\n",
    "In the current DataFrame, if you want to select certain rows using `.loc`, it would work like this:"
   ]
  },
  {
   "cell_type": "code",
   "execution_count": null,
   "id": "fca7b47f",
   "metadata": {},
   "outputs": [],
   "source": [
    "days.loc[\"Tue\":\"Thu\"]"
   ]
  },
  {
   "cell_type": "markdown",
   "id": "043e1c94",
   "metadata": {},
   "source": [
    "Whereas if you were using `.iloc`, the labels need not be mentioned and instead you can use the integer positions. (Remembering that Python starts counting from `0` and, when slicing goes up to but not including the last integer position.\n",
    "\n",
    "So to replicate the above, Tuesday sits on the 1st index, Thursday on the 3rd:"
   ]
  },
  {
   "cell_type": "code",
   "execution_count": null,
   "id": "474fbc99",
   "metadata": {},
   "outputs": [],
   "source": [
    "days.iloc[1:4]"
   ]
  },
  {
   "cell_type": "markdown",
   "id": "2ba6eef4",
   "metadata": {},
   "source": [
    "<mark>**Question**: Why will the following line cause an error?</mark>"
   ]
  },
  {
   "cell_type": "code",
   "execution_count": null,
   "id": "deccb068",
   "metadata": {},
   "outputs": [],
   "source": [
    "#days.loc[3:5]"
   ]
  },
  {
   "cell_type": "markdown",
   "id": "320a83e4",
   "metadata": {},
   "source": [
    "<details>\n",
    "<summary><font color=blue>Show answer</font></summary>\n",
    "  \n",
    "`.loc` uses **label** indexing, and in the case of this dataframe, the labels for each row are the days of the week. In this case if you want the rows in the 3rd, 4th and 5th position you should switch to using `.iloc`:"
   ]
  },
  {
   "cell_type": "markdown",
   "id": "68a1aa4a",
   "metadata": {},
   "source": [
    "If you want to select rows based on integer position, you can use `.iloc`:"
   ]
  },
  {
   "cell_type": "code",
   "execution_count": null,
   "id": "274eeb01",
   "metadata": {},
   "outputs": [],
   "source": [
    "days.iloc[3:6]"
   ]
  },
  {
   "cell_type": "markdown",
   "id": "a601259f",
   "metadata": {},
   "source": [
    "To select all values from a column you could use `.loc` like this:"
   ]
  },
  {
   "cell_type": "code",
   "execution_count": null,
   "id": "0d54a0ca",
   "metadata": {},
   "outputs": [],
   "source": [
    "days.loc[:, ['Wind']]"
   ]
  },
  {
   "cell_type": "markdown",
   "id": "bb7b05d2",
   "metadata": {},
   "source": [
    "<mark>How could you select all rows from the *Wind* column using **.iloc?**</mark>"
   ]
  },
  {
   "cell_type": "code",
   "execution_count": null,
   "id": "d348bff0",
   "metadata": {},
   "outputs": [],
   "source": [
    "# add your code"
   ]
  },
  {
   "cell_type": "markdown",
   "id": "856968dd",
   "metadata": {},
   "source": [
    "<details>\n",
    "<summary><font color=blue>Show answer</font></summary>\n",
    "  \n",
    "```python\n",
    "    days.iloc[:, [2]]\n",
    "```"
   ]
  },
  {
   "cell_type": "markdown",
   "id": "362588e8",
   "metadata": {},
   "source": [
    "### Summary\n",
    "\n",
    "The key difference between loc and iloc is the way they access data. `.loc` uses **labels**, while `.iloc` uses **integer positions**. `.loc` is label-based indexing, and `.iloc` is integer-based indexing. The choice between `.loc` and `.iloc` depends on whether you want to access data based on **labels** or **integer positions** in your DataFrame."
   ]
  }
 ],
 "metadata": {
  "kernelspec": {
   "display_name": "Python 3 (ipykernel)",
   "language": "python",
   "name": "python3"
  },
  "language_info": {
   "codemirror_mode": {
    "name": "ipython",
    "version": 3
   },
   "file_extension": ".py",
   "mimetype": "text/x-python",
   "name": "python",
   "nbconvert_exporter": "python",
   "pygments_lexer": "ipython3",
   "version": "3.9.13"
  }
 },
 "nbformat": 4,
 "nbformat_minor": 5
}
