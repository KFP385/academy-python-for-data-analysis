{
 "cells": [
  {
   "cell_type": "markdown",
   "id": "705fb862",
   "metadata": {},
   "source": [
    "<img src='images/pandas.png' width='300px' align=left>\n",
    "<img src='images/gdd-logo.png' width='200px' align='right' style=\"padding: 15px\">"
   ]
  },
  {
   "cell_type": "markdown",
   "id": "5e1909ca",
   "metadata": {},
   "source": [
    "# Frequently asked questions about Pandas"
   ]
  },
  {
   "cell_type": "markdown",
   "id": "777885a9",
   "metadata": {},
   "source": [
    "## Can we change the datatype of the columns?\n"
   ]
  },
  {
   "cell_type": "markdown",
   "id": "7d2937cc",
   "metadata": {},
   "source": [
    "By default Pandas will load all numeric types as integers or floats. However, you might wanna manually change the object types that are used to represent the data. "
   ]
  },
  {
   "cell_type": "code",
   "execution_count": null,
   "id": "443b20e0",
   "metadata": {},
   "outputs": [],
   "source": [
    "import pandas as pd\n",
    "\n",
    "chickweight = (\n",
    "    pd.read_csv('data/chickweight.csv')\n",
    "    .rename(columns=str.lower)\n",
    ")"
   ]
  },
  {
   "cell_type": "markdown",
   "id": "605f4ddb",
   "metadata": {},
   "source": [
    "You can use the `.as_type()` method to coherce certain columns to a particular type. \n",
    "\n",
    "For example:"
   ]
  },
  {
   "cell_type": "code",
   "execution_count": null,
   "id": "10ccc051",
   "metadata": {},
   "outputs": [],
   "source": [
    "(\n",
    "    pd.read_csv('data/chickweight.csv')\n",
    "    .rename(columns=str.lower)\n",
    "    .assign(weight = lambda df: df[\"weight\"].astype(\"float\"))\n",
    ").head()"
   ]
  },
  {
   "cell_type": "markdown",
   "id": "f3475271",
   "metadata": {},
   "source": [
    "One particularly common usecase is to encode categorial values in a more efficient way than just using integers."
   ]
  },
  {
   "cell_type": "markdown",
   "id": "c3fe40c8",
   "metadata": {},
   "source": [
    "The `chickweight` DataFrame has a memory footprint of 22.7 KB."
   ]
  },
  {
   "cell_type": "code",
   "execution_count": null,
   "id": "c137ddd0",
   "metadata": {},
   "outputs": [],
   "source": [
    "chickweight.info()"
   ]
  },
  {
   "cell_type": "markdown",
   "id": "bca62c2e",
   "metadata": {},
   "source": [
    "And if we encode the categorical `chick` and `diet` columns as categorical variables we significanfly reduce the memory that the DataFrame occupies in our computer's RAM."
   ]
  },
  {
   "cell_type": "code",
   "execution_count": null,
   "id": "8c394c56",
   "metadata": {},
   "outputs": [],
   "source": [
    "chickweight_typed = (\n",
    "    pd.read_csv('data/chickweight.csv')\n",
    "    .rename(columns=str.lower)\n",
    "    .assign(\n",
    "        chick = lambda df: df[\"chick\"].astype(\"category\"),\n",
    "        diet = lambda df: df[\"diet\"].astype(\"category\"),\n",
    "    )\n",
    ")"
   ]
  },
  {
   "cell_type": "code",
   "execution_count": null,
   "id": "98bde39a",
   "metadata": {},
   "outputs": [],
   "source": [
    "chickweight_typed.info()"
   ]
  },
  {
   "cell_type": "code",
   "execution_count": null,
   "id": "c636979a",
   "metadata": {},
   "outputs": [],
   "source": [
    "(\n",
    "    pd.DataFrame([chickweight_typed.memory_usage(), (chickweight.memory_usage())],\n",
    "              index = [\"typed\", \"all_ints\"])\n",
    "    .transpose()\n",
    "    .assign(ratio = lambda df: round(df[\"typed\"] /df[\"all_ints\"], 2))\n",
    ")"
   ]
  },
  {
   "cell_type": "markdown",
   "id": "6e6a48f0",
   "metadata": {},
   "source": [
    "In this toy example the total memory footprint is reduced by a factor of"
   ]
  },
  {
   "cell_type": "code",
   "execution_count": null,
   "id": "7de7ba0b",
   "metadata": {},
   "outputs": [],
   "source": [
    "17.4 / 22.7"
   ]
  },
  {
   "cell_type": "markdown",
   "id": "d02446cf",
   "metadata": {},
   "source": [
    ", which is significant and can make a very noticeable difference when working with larger datasets. Your code will run faster and it will be harder to run out of RAM. "
   ]
  }
 ],
 "metadata": {
  "kernelspec": {
   "display_name": "datastuff",
   "language": "python",
   "name": "datastuff"
  },
  "language_info": {
   "codemirror_mode": {
    "name": "ipython",
    "version": 3
   },
   "file_extension": ".py",
   "mimetype": "text/x-python",
   "name": "python",
   "nbconvert_exporter": "python",
   "pygments_lexer": "ipython3",
   "version": "3.11.6"
  }
 },
 "nbformat": 4,
 "nbformat_minor": 5
}
