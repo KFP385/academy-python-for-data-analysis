{
 "cells": [
  {
   "cell_type": "markdown",
   "id": "633c5b1f",
   "metadata": {},
   "source": [
    "<img src='images/pandas.png' width='300px' align=left>\n",
    "<img src='images/gdd-logo.png' width='200px' align='right' style=\"padding: 15px\">"
   ]
  },
  {
   "cell_type": "markdown",
   "id": "6c341ca2",
   "metadata": {},
   "source": [
    "\n",
    "\n",
    "# Frequently asked questions about Pandas"
   ]
  },
  {
   "cell_type": "markdown",
   "id": "7579a999",
   "metadata": {},
   "source": [
    "## Is there a `is in` method when filtering?\n",
    "\n",
    "If you've worked in `SQL` you'll know bout the `IS IN` keywords that allow you to filter rows where a certain column only has specific values. There is something very similar to that in pandas:"
   ]
  },
  {
   "cell_type": "code",
   "execution_count": null,
   "id": "cc3bc3b3",
   "metadata": {},
   "outputs": [],
   "source": [
    "import pandas as pd\n",
    "\n",
    "chickweight = (\n",
    "    pd.read_csv('data/chickweight.csv')\n",
    "    .rename(columns=str.lower)\n",
    ")\n",
    "\n",
    "chickweight.head()"
   ]
  },
  {
   "cell_type": "markdown",
   "id": "0aba552b",
   "metadata": {},
   "source": [
    "Imagine there was a task that required to only analyse days `0`, `4` and `12` (column: `time`). This data could be filtered using an or (`|`):"
   ]
  },
  {
   "cell_type": "code",
   "execution_count": null,
   "id": "2c672e27",
   "metadata": {},
   "outputs": [],
   "source": [
    "(\n",
    "    chickweight\n",
    "    .loc[lambda df: (df['time'] == 0) \n",
    "         | (df['time'] == 4)\n",
    "         | (df['time'] == 12)\n",
    "        ]\n",
    ")"
   ]
  },
  {
   "cell_type": "markdown",
   "id": "ef21baee",
   "metadata": {},
   "source": [
    "But this is quite cumbersome, and imagine if the goal was to retrieve the rows where time is 0, 4, 6, 8, 10, 12, 16, 18, 21. Too many rows!\n",
    "\n",
    "***So what is the alternative?***\n",
    "\n",
    "This can be written as one line, using the method `.isin()`. "
   ]
  },
  {
   "cell_type": "code",
   "execution_count": null,
   "id": "d6b21452",
   "metadata": {},
   "outputs": [],
   "source": [
    "(\n",
    "    chickweight\n",
    "    .loc[lambda df: df['time'].isin( [0, 4, 12] )]\n",
    ")"
   ]
  },
  {
   "cell_type": "markdown",
   "id": "310e73ba",
   "metadata": {},
   "source": [
    "**Note** that the values need to be passed into the `.isin()` method as a list, for example the following would not work:"
   ]
  },
  {
   "cell_type": "code",
   "execution_count": null,
   "id": "77951daf",
   "metadata": {},
   "outputs": [],
   "source": [
    "# (\n",
    "#     chickweight\n",
    "#     .loc[lambda df: df['time'].isin( 0, 4, 12 )]\n",
    "# )"
   ]
  },
  {
   "cell_type": "markdown",
   "id": "fe8aa7dc",
   "metadata": {},
   "source": [
    "This also means that you can save the list of values as a python list and use it in the method. This can be useful if you need to access this list for another reason later on, and will make it easy to change your code/values as it will be easier to find."
   ]
  },
  {
   "cell_type": "code",
   "execution_count": null,
   "id": "2d850278",
   "metadata": {},
   "outputs": [],
   "source": [
    "list_of_desired_values = [0, 4, 12]\n",
    "\n",
    "(\n",
    "    chickweight\n",
    "    .loc[lambda df: df['time'].isin( list_of_desired_values )]\n",
    ")"
   ]
  },
  {
   "cell_type": "markdown",
   "id": "6c8112b9",
   "metadata": {},
   "source": [
    "# Conclusion\n",
    "\n",
    "You now know the `.isin` method, which can be used when filtering a column to return the rows where the values are equal to a list of specific values.\n",
    "\n",
    "The values need to be inputted into the `.isin` method within a list (or other Python array type eg. a `tuple` or a `numpy array`). For example (`df['column'].isin(['value1', 'value2', 'value3'])`).\n",
    "\n",
    "You can also use a pre-defined list, for example `my_list = ['value1', 'value2', 'value3']` which you can then use in the filter `df['column'].isin(my_list)`."
   ]
  }
 ],
 "metadata": {
  "kernelspec": {
   "display_name": "Python 3 (ipykernel)",
   "language": "python",
   "name": "python3"
  },
  "language_info": {
   "codemirror_mode": {
    "name": "ipython",
    "version": 3
   },
   "file_extension": ".py",
   "mimetype": "text/x-python",
   "name": "python",
   "nbconvert_exporter": "python",
   "pygments_lexer": "ipython3",
   "version": "3.11.6"
  }
 },
 "nbformat": 4,
 "nbformat_minor": 5
}
