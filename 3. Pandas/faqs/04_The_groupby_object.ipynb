{
 "cells": [
  {
   "cell_type": "markdown",
   "id": "633c5b1f",
   "metadata": {},
   "source": [
    "<img src='images/pandas.png' width='300px' align=left>\n",
    "<img src='images/gdd-logo.png' width='200px' align='right' style=\"padding: 15px\">"
   ]
  },
  {
   "cell_type": "markdown",
   "id": "6c341ca2",
   "metadata": {},
   "source": [
    "\n",
    "\n",
    "# Frequently asked questions about Pandas"
   ]
  },
  {
   "cell_type": "markdown",
   "id": "7579a999",
   "metadata": {},
   "source": [
    "<a id=groupby></a>\n",
    "## What is a `.groupby()` object?"
   ]
  },
  {
   "cell_type": "code",
   "execution_count": null,
   "id": "cc3bc3b3",
   "metadata": {},
   "outputs": [],
   "source": [
    "import pandas as pd\n",
    "\n",
    "chickweight = (\n",
    "    pd.read_csv('data/chickweight.csv')\n",
    "    .rename(columns=str.lower)\n",
    ")\n",
    "\n",
    "chickweight.head()"
   ]
  },
  {
   "cell_type": "markdown",
   "id": "0aba552b",
   "metadata": {},
   "source": [
    "This is another type of object:"
   ]
  },
  {
   "cell_type": "code",
   "execution_count": null,
   "id": "2c672e27",
   "metadata": {},
   "outputs": [],
   "source": [
    "chickweight.groupby('diet')"
   ]
  },
  {
   "cell_type": "markdown",
   "id": "f25bd651",
   "metadata": {},
   "source": [
    "A groupby object is esentially a collection of dataframes. The idea is that later we can calculate something per dataframe."
   ]
  },
  {
   "cell_type": "code",
   "execution_count": null,
   "id": "f35175f8",
   "metadata": {},
   "outputs": [],
   "source": [
    "for _, diet_df in chickweight.groupby('diet'):\n",
    "    display(diet_df.head(3))"
   ]
  },
  {
   "cell_type": "markdown",
   "id": "e1f42fb5",
   "metadata": {},
   "source": [
    "### Summary\n",
    "\n",
    "The groupby object is not just a DataFrame, but rather a specialized object created by calling the `groupby()` function on a DataFrame. It acts as a powerful tool for grouping data based on specific criteria, such as unique values in one or more columns.\n",
    "\n",
    "By utilizing the groupby object, you can split your original DataFrame into multiple groups, with each group containing all the rows that share the same values in the grouping columns. This grouping mechanism is particularly valuable when you want to analyze data on a subset level and extract insights from different segments of your dataset.\n",
    "\n",
    "Once you have a groupby object, you can apply various aggregation functions to summarize and obtain statistics for each group. Aggregation functions like sum(), mean(), count(), min(), max(), and size() allow you to calculate a single value for each group. This enables you to derive meaningful summary statistics specific to each group, providing a comprehensive understanding of your data across different categories.\n",
    "\n",
    "The groupby object is a distinct and essential component in Pandas, separate from a DataFrame. It provides the means to group data based on categorical variables and enables powerful operations such as aggregation and iteration (using a `for loop` for example). "
   ]
  }
 ],
 "metadata": {
  "kernelspec": {
   "display_name": "Python 3 (ipykernel)",
   "language": "python",
   "name": "python3"
  },
  "language_info": {
   "codemirror_mode": {
    "name": "ipython",
    "version": 3
   },
   "file_extension": ".py",
   "mimetype": "text/x-python",
   "name": "python",
   "nbconvert_exporter": "python",
   "pygments_lexer": "ipython3",
   "version": "3.11.6"
  }
 },
 "nbformat": 4,
 "nbformat_minor": 5
}
