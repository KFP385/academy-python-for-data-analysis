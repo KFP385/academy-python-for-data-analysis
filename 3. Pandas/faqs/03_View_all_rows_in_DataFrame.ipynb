{
 "cells": [
  {
   "cell_type": "markdown",
   "id": "9ac75c55",
   "metadata": {},
   "source": [
    "<img src='images/pandas.png' width='300px' align=left>\n",
    "<img src='images/gdd-logo.png' width='200px' align='right' style=\"padding: 15px\">"
   ]
  },
  {
   "cell_type": "markdown",
   "id": "6c341ca2",
   "metadata": {},
   "source": [
    "\n",
    "\n",
    "# Frequently asked questions about Pandas"
   ]
  },
  {
   "cell_type": "markdown",
   "id": "6388c493",
   "metadata": {},
   "source": [
    "<a id=all-values></a>\n",
    "## How can I see all rows in my DataFrame?\n",
    "\n",
    "Pandas by default only shows you the first 5 and last 5 rows of a DataFrame or Series:"
   ]
  },
  {
   "cell_type": "code",
   "execution_count": null,
   "id": "b9230b6c",
   "metadata": {},
   "outputs": [],
   "source": [
    "import pandas as pd\n",
    "\n",
    "chickweight = (\n",
    "    pd.read_csv('data/chickweight.csv')\n",
    "    .rename(columns=str.lower)\n",
    ")\n",
    "\n",
    "chickweight"
   ]
  },
  {
   "cell_type": "markdown",
   "id": "2ee48fcb",
   "metadata": {},
   "source": [
    "You can set [options](http://pandas.pydata.org/pandas-docs/stable/user_guide/options.html) to display the entire DataFrame. Note that this doesn't change the settings permanently."
   ]
  },
  {
   "cell_type": "code",
   "execution_count": null,
   "id": "5282977d",
   "metadata": {},
   "outputs": [],
   "source": [
    "pd.set_option('display.max_rows', None) # or 600\n",
    "# pd.set_option('display.max_columns', None)"
   ]
  },
  {
   "cell_type": "code",
   "execution_count": null,
   "id": "381afdda",
   "metadata": {},
   "outputs": [],
   "source": [
    "chickweight"
   ]
  },
  {
   "cell_type": "markdown",
   "id": "07f530af",
   "metadata": {},
   "source": [
    "### Summary Question\n",
    "\n",
    "What might be a downside of changing this setting?</mark>"
   ]
  },
  {
   "cell_type": "markdown",
   "id": "e13e5ecf",
   "metadata": {},
   "source": [
    "<details>\n",
    "    <summary><font color=blue>Show answer</font></summary>\n",
    "  \n",
    "Changing the settings in Pandas to display all rows of data can have some drawbacks. Here are a few reasons why it may not be recommended:\n",
    "\n",
    "1. **Performance and memory issues**: Pandas is designed to efficiently handle large datasets, but displaying all rows can consume a significant amount of memory and impact performance. If you have a dataset with a large number of rows, it may slow down your code or even lead to out-of-memory errors.\n",
    "2. **Visual clutter**: Viewing all rows of data can lead to a cluttered output, especially if you have a large dataset. It becomes challenging to identify patterns, outliers, or specific information in a sea of rows. Having an overview or summary of the data is often more helpful for analysis.\n",
    "\n",
    "Instead of displaying all rows, consider using other techniques to explore and analyze your data effectively:\n",
    "\n",
    "1. **Head and tail**: Use the `head()` and `tail()` methods in Pandas to view a small sample of the data, which gives you a sense of the dataset's structure and content.\n",
    "\n",
    "2. **Sample**: Utilize the `sample()` method to randomly select a subset of rows to get a representative sample from the dataset.\n",
    "\n",
    "3. **Summary statistics**: Calculate summary statistics using functions like `describe()` to obtain insights into the distribution, central tendencies, and variability of your data.\n",
    "\n",
    "4. **Filtering and slicing**: Apply filters or slice the data based on specific conditions or criteria to focus on relevant subsets of the data for analysis.\n",
    "\n",
    "5. **Visualization**: Create visualizations such as histograms, box plots, scatter plots, or heatmaps to gain a visual understanding of the data's distribution, relationships, and patterns.\n",
    "\n",
    "By utilizing these techniques, you can explore and analyze your data more efficiently and effectively without overwhelming yourself with an excessive amount of rows."
   ]
  }
 ],
 "metadata": {
  "kernelspec": {
   "display_name": "Python 3 (ipykernel)",
   "language": "python",
   "name": "python3"
  },
  "language_info": {
   "codemirror_mode": {
    "name": "ipython",
    "version": 3
   },
   "file_extension": ".py",
   "mimetype": "text/x-python",
   "name": "python",
   "nbconvert_exporter": "python",
   "pygments_lexer": "ipython3",
   "version": "3.11.6"
  }
 },
 "nbformat": 4,
 "nbformat_minor": 5
}
