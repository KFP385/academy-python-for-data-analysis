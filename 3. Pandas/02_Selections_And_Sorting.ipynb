{
 "cells": [
  {
   "cell_type": "markdown",
   "metadata": {},
   "source": [
    "<img src=images/gdd-logo.png width=300px align=right> \n",
    "\n",
    "# Selections and sorting\n",
    "\n",
    "In this notebook, you will learn how to do selections and sorting with Pandas.\n",
    "\n",
    "- [Selections](#s)\n",
    "    - [Selecting the top/bottom](#tb)\n",
    "    - [Selecting columns](#c)\n",
    "    - [Selecting rows and columns together](#rc)\n",
    "    - <mark>[Exercise: Selections](#e-select)</mark>\n",
    "- [Sorting](#sort)\n",
    "\n",
    "Let's load in the `chickweight` dataset again."
   ]
  },
  {
   "cell_type": "code",
   "execution_count": null,
   "metadata": {
    "lines_to_next_cell": 2
   },
   "outputs": [],
   "source": [
    "import pandas as pd"
   ]
  },
  {
   "cell_type": "code",
   "execution_count": null,
   "metadata": {},
   "outputs": [],
   "source": [
    "chickweight = pd.read_csv('data/chickweight.csv').rename(str.lower, axis='columns')\n",
    "chickweight"
   ]
  },
  {
   "cell_type": "markdown",
   "metadata": {},
   "source": [
    "<a id='s'></a>\n",
    "## Selections\n",
    "\n",
    "Before attempting to figure out the best diet for the chicks, let's investigate how to select different rows/columns. There are a few different approaches!\n",
    "\n",
    "<a id='tb'></a>\n",
    "### Selecting the top/bottom"
   ]
  },
  {
   "cell_type": "code",
   "execution_count": null,
   "metadata": {
    "lines_to_next_cell": 2
   },
   "outputs": [],
   "source": [
    "chickweight.head()"
   ]
  },
  {
   "cell_type": "code",
   "execution_count": null,
   "metadata": {
    "lines_to_next_cell": 2
   },
   "outputs": [],
   "source": [
    "chickweight.tail(2)"
   ]
  },
  {
   "cell_type": "code",
   "execution_count": null,
   "metadata": {},
   "outputs": [],
   "source": [
    "chickweight.head(5).tail(2)"
   ]
  },
  {
   "cell_type": "markdown",
   "metadata": {},
   "source": [
    "<a id='c'></a>\n",
    "### Selecting columns (DataFrames vs. Series)"
   ]
  },
  {
   "cell_type": "code",
   "execution_count": null,
   "metadata": {},
   "outputs": [],
   "source": [
    "chickweight['weight'].head() "
   ]
  },
  {
   "cell_type": "markdown",
   "metadata": {},
   "source": [
    "Note that the output of this next command is a little bit different."
   ]
  },
  {
   "cell_type": "code",
   "execution_count": null,
   "metadata": {},
   "outputs": [],
   "source": [
    "chickweight[['weight']].head()"
   ]
  },
  {
   "cell_type": "markdown",
   "metadata": {},
   "source": [
    "There is a subtle difference at work here. \n",
    "\n",
    "- `chickweight['weight']` returns a `pandas` `Series`, which can only contain one column.\n",
    "- `chickweight[['weight']]` returns a `pandas` `DataFrame`, which can have one or more columns.\n",
    "\n",
    "As you'll see, a lot of techniques that work on DataFrames will also work on series objects, but not all of them!\n",
    "\n",
    "Returning a DataFrame (using two square brackets) means you can select more columns."
   ]
  },
  {
   "cell_type": "code",
   "execution_count": null,
   "metadata": {},
   "outputs": [],
   "source": [
    "chickweight[['weight', 'time', 'chick']].head()"
   ]
  },
  {
   "cell_type": "markdown",
   "metadata": {},
   "source": [
    "<a id=e-select></a>\n",
    "\n",
    "#### <mark>Practice: Selections</mark>\n",
    "\n",
    "1. Select the diet column as a Series"
   ]
  },
  {
   "cell_type": "code",
   "execution_count": null,
   "metadata": {},
   "outputs": [],
   "source": []
  },
  {
   "cell_type": "markdown",
   "metadata": {},
   "source": [
    "2. Select the time and chick column"
   ]
  },
  {
   "cell_type": "code",
   "execution_count": null,
   "metadata": {},
   "outputs": [],
   "source": []
  },
  {
   "cell_type": "markdown",
   "metadata": {},
   "source": [
    "3. Select the diet column as a DataFrame"
   ]
  },
  {
   "cell_type": "code",
   "execution_count": null,
   "metadata": {},
   "outputs": [],
   "source": []
  },
  {
   "cell_type": "code",
   "execution_count": null,
   "metadata": {},
   "outputs": [],
   "source": [
    "# %load answers/02_Selections_and_Filtering/selections-columns.py"
   ]
  },
  {
   "cell_type": "markdown",
   "metadata": {},
   "source": [
    "<a id='rc'></a>\n",
    "### Selecting rows & columns together\n",
    "\n",
    "You can use the [`.loc[]`](https://pandas.pydata.org/docs/reference/api/pandas.DataFrame.loc.html) method to select a subset of a DataFrame, based on the **names** of the index and columns. This method accepts multiple types of arguments, this notebook covers 3 different ones. \n",
    "\n",
    "Note that the `.loc[]` method requires **square** brackets `[]`, unlike the other methods we cover.\n",
    "\n",
    "For selecting multiple rows and columns, it uses the following format:\n",
    "\n",
    "`.loc[[index_names], [column_names]]` "
   ]
  },
  {
   "cell_type": "code",
   "execution_count": null,
   "metadata": {},
   "outputs": [],
   "source": [
    "chickweight.loc[[1,2,3], ['time', 'chick']]"
   ]
  },
  {
   "cell_type": "markdown",
   "metadata": {},
   "source": [
    "You **must** specify how to select rows, however the columns part is optional. "
   ]
  },
  {
   "cell_type": "code",
   "execution_count": null,
   "metadata": {},
   "outputs": [],
   "source": [
    "chickweight.loc[[1,2,3]]"
   ]
  },
  {
   "cell_type": "markdown",
   "metadata": {},
   "source": [
    "Because the index of the chickweight DataFrame is numeric, you can use an indexing style similar to the one seen with Python lists:\n",
    " \n",
    " - if you use `10:15`, it will select all the rows between those with index `10` and `15` (inclusive)\n",
    " \n",
    " - if you use `:50`, it will select all rows to index `50` (including the row with index `50`)\n",
    " \n",
    " - if you use ` : `, it will select all rows\n",
    " \n",
    " - if you use `::2`, it will select every other row\n",
    " "
   ]
  },
  {
   "cell_type": "code",
   "execution_count": null,
   "metadata": {},
   "outputs": [],
   "source": [
    "chickweight.loc[10:15]"
   ]
  },
  {
   "cell_type": "code",
   "execution_count": null,
   "metadata": {
    "lines_to_next_cell": 2
   },
   "outputs": [],
   "source": [
    "chickweight.loc[10:15, ['time', 'chick']]"
   ]
  },
  {
   "cell_type": "code",
   "execution_count": null,
   "metadata": {
    "lines_to_next_cell": 2
   },
   "outputs": [],
   "source": [
    "chickweight.loc[ : , ['time', 'chick']]"
   ]
  },
  {
   "cell_type": "markdown",
   "metadata": {},
   "source": [
    "### Stylistic Choices\n",
    "\n",
    "When writing pandas, you might end up with long lines. To make queries easier to read you can surround it entirely with parentheses. \n",
    "\n",
    "This will make it more readable, especially when chaining more and more methods."
   ]
  },
  {
   "cell_type": "code",
   "execution_count": null,
   "metadata": {},
   "outputs": [],
   "source": [
    "(\n",
    "    chickweight\n",
    "    .loc[10:15, ['time', 'chick']]\n",
    ")"
   ]
  },
  {
   "cell_type": "markdown",
   "metadata": {},
   "source": [
    "### <mark>Exercise: Select rows and columns</mark>\n",
    "\n",
    "Select only:\n",
    "\n",
    "a) Up to row with index 10 of the data (without using `.head()`)."
   ]
  },
  {
   "cell_type": "code",
   "execution_count": null,
   "metadata": {},
   "outputs": [],
   "source": []
  },
  {
   "cell_type": "markdown",
   "metadata": {},
   "source": [
    "   b) Rows 50 to 60 of the data."
   ]
  },
  {
   "cell_type": "code",
   "execution_count": null,
   "metadata": {},
   "outputs": [],
   "source": []
  },
  {
   "cell_type": "markdown",
   "metadata": {},
   "source": [
    "   c) The `chick` and `weight` columns **without** `.loc[]`."
   ]
  },
  {
   "cell_type": "code",
   "execution_count": null,
   "metadata": {},
   "outputs": [],
   "source": []
  },
  {
   "cell_type": "markdown",
   "metadata": {},
   "source": [
    " d) The chick and weight columns **with** `.loc[]`.\n"
   ]
  },
  {
   "cell_type": "code",
   "execution_count": null,
   "metadata": {},
   "outputs": [],
   "source": []
  },
  {
   "cell_type": "markdown",
   "metadata": {},
   "source": [
    "   e) Rows 50 to 60 of the data of the `chick` and `weight` columns."
   ]
  },
  {
   "cell_type": "code",
   "execution_count": null,
   "metadata": {},
   "outputs": [],
   "source": []
  },
  {
   "cell_type": "markdown",
   "metadata": {},
   "source": [
    "**Answers**"
   ]
  },
  {
   "cell_type": "code",
   "execution_count": null,
   "metadata": {},
   "outputs": [],
   "source": [
    "# %load answers/02_Selections_and_Filtering/selections.py"
   ]
  },
  {
   "cell_type": "markdown",
   "metadata": {},
   "source": [
    "<a id='sort' ></a>\n",
    "## Sorting in Pandas\n",
    "\n",
    "Sometimes, you might be interested in the top (or bottom) number of values. In these cases, it is useful to sort the data before slicing. \n",
    "\n",
    "For example, you can find the lowest 10 weights by sorting the weight column:"
   ]
  },
  {
   "cell_type": "code",
   "execution_count": null,
   "metadata": {
    "lines_to_next_cell": 2
   },
   "outputs": [],
   "source": [
    "(\n",
    "    chickweight\n",
    "    .sort_values('weight')\n",
    "    .head(10)\n",
    ")"
   ]
  },
  {
   "cell_type": "markdown",
   "metadata": {},
   "source": [
    "Or the top-10 values by sorting in descending order:"
   ]
  },
  {
   "cell_type": "code",
   "execution_count": null,
   "metadata": {
    "lines_to_next_cell": 2
   },
   "outputs": [],
   "source": [
    "(\n",
    "    chickweight\n",
    "    .sort_values(by='weight', ascending=False)\n",
    "    .head(10)\n",
    ")"
   ]
  },
  {
   "cell_type": "markdown",
   "metadata": {},
   "source": [
    "Or you can sort by two columns: *(To see what happens, look at the order of chicken IDs where* `weight` *is equal to* `39`*)* "
   ]
  },
  {
   "cell_type": "code",
   "execution_count": null,
   "metadata": {},
   "outputs": [],
   "source": [
    "(\n",
    "    chickweight\n",
    "    .sort_values(by=['weight', 'chick'])\n",
    "    .head(10)\n",
    ")"
   ]
  },
  {
   "cell_type": "markdown",
   "metadata": {},
   "source": [
    "<a id='e2'></a>\n",
    "## <mark>Exercise: Sorting</mark>\n",
    "1. Sort the data in chickweight by `rownum` from highest to lowest."
   ]
  },
  {
   "cell_type": "code",
   "execution_count": null,
   "metadata": {},
   "outputs": [],
   "source": []
  },
  {
   "cell_type": "markdown",
   "metadata": {},
   "source": [
    "2. After sorting the DataFrame keeps the index of the original data. Figure out how to *ignore* the original index, so that the resulting DataFrame has an index of increasing integers starting 0. Look at the [documentation](https://pandas.pydata.org/pandas-docs/stable/reference/api/pandas.DataFrame.sort_values.html) to check if you can use a parameter in `.sort_values()` to do this."
   ]
  },
  {
   "cell_type": "code",
   "execution_count": null,
   "metadata": {},
   "outputs": [],
   "source": []
  },
  {
   "cell_type": "markdown",
   "metadata": {},
   "source": [
    "### Bonus\n",
    "1. Using the resulting DataFrame from above, select the first 25 rows with `.loc[]`. Compare the results when you ignore the original index in `.sort_values()` and when you don't. What causes this difference? "
   ]
  },
  {
   "cell_type": "code",
   "execution_count": null,
   "metadata": {},
   "outputs": [],
   "source": []
  },
  {
   "cell_type": "raw",
   "metadata": {},
   "source": [
    "Answer: "
   ]
  },
  {
   "cell_type": "markdown",
   "metadata": {},
   "source": [
    "2. Sort the data by weight (ascending) and by chick (descending). Look at the [documentation](https://pandas.pydata.org/pandas-docs/stable/reference/api/pandas.DataFrame.sort_values.html) to see what type of inputs the `ascending` parameter takes."
   ]
  },
  {
   "cell_type": "markdown",
   "metadata": {},
   "source": [
    "<details>\n",
    "    \n",
    "  <summary><span style=\"color:blue\">Show hint</span></summary>\n",
    "  \n",
    "Description of the ascending parameter: *\"Specify list for multiple sort orders. If this is a list of bools, must match the length of the by.\"*\n",
    "    \n",
    "If you're sorting by 2 columns, you can give them to `by` in a list. Simarly, you can also give a list as an input to `ascending`. What data types should that list contain?\n",
    "\n",
    "</details>"
   ]
  },
  {
   "cell_type": "code",
   "execution_count": null,
   "metadata": {},
   "outputs": [],
   "source": []
  },
  {
   "cell_type": "markdown",
   "metadata": {},
   "source": [
    "**Answers**"
   ]
  },
  {
   "cell_type": "code",
   "execution_count": null,
   "metadata": {},
   "outputs": [],
   "source": [
    "# %load answers/02_Selections_and_Filtering/sorting.py"
   ]
  }
 ],
 "metadata": {
  "kernelspec": {
   "display_name": "Python 3 (ipykernel)",
   "language": "python",
   "name": "python3"
  },
  "language_info": {
   "codemirror_mode": {
    "name": "ipython",
    "version": 3
   },
   "file_extension": ".py",
   "mimetype": "text/x-python",
   "name": "python",
   "nbconvert_exporter": "python",
   "pygments_lexer": "ipython3",
   "version": "3.11.6"
  }
 },
 "nbformat": 4,
 "nbformat_minor": 4
}
